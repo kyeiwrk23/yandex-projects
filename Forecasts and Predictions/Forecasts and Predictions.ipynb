{
 "cells": [
  {
   "cell_type": "markdown",
   "metadata": {},
   "source": [
    "# Step 1. Download the data"
   ]
  },
  {
   "cell_type": "markdown",
   "metadata": {},
   "source": [
    "CONTENTS\n",
    "1. [Introduction](#intro)<br>\n",
    "2. [Step 2. Carry out exploratory data analysis (EDA)](#step1)<br>\n",
    "    2.1 [Look at the dataset: does it contain any missing features? Study the mean values and standard deviation](#step1.1)<br> \n",
    "    2.2 [Look at the mean feature values in two groups: for those who left (churn) and for those who stayed](#step1.2)<br>\n",
    "    2.3 [Plot bar histograms and feature distributions for those who left (churn) and those who stayed](#step1.3)<br>\n",
    "    2.4 [Build a correlation matrix and display it](#step1.4)<br>\n",
    "3. [Step 3. Build a model to predict user churn](#step2)<br> \n",
    "    3.1 [Divide the data into train and validation sets using the train_test_split() function](#step2.1)<br>\n",
    "    3.2 [Train the model on the train set with two methods:](#step2.2)<br>\n",
    "    3.3 [Evaluate accuracy, precision, and recall for both models using the validation data. Use them to compare the models. Which model gave better results?](#step2.3)<br>\n",
    "4. [Step 4. Create user clusters](#step3)<br>\n",
    "    4.1 [Standardize the data](#step3.1)<br>\n",
    "    4.2 [Use the linkage() function to build a matrix of distances based on the standardized feature matrix and plot a dendrogram](#step3.2)<br>\n",
    "    4.3 [Train the clustering model with the K-means algorithm and predict customer clusters.](#step3.3)<br>\n",
    "    4.4 [Look at the mean feature values for clusters. Does anything catch your eye?](#step3.4)<br>\n",
    "    4.5 [Plot distributions of features for the clusters. Do you notice anything?](#step3.5)<br>\n",
    "    4.6 [Calculate the churn rate for each cluster (use the groupby() method)](#step3.6)<br>\n",
    "5. [Step 5. Come up with conclusions and basic recommendations on working with customers](#step4)<br>\n",
    "    5.1 [Draw conclusions and formulate recommendations regarding the strategy for customer interaction and retention.](#step4.1)<br>"
   ]
  },
  {
   "cell_type": "markdown",
   "metadata": {},
   "source": [
    "# Introduction\n",
    "<a id='intro'></a>"
   ]
  },
  {
   "cell_type": "markdown",
   "metadata": {},
   "source": [
    "    The gym chain Model Fitness is developing a customer interaction strategy based on analytical data.\n",
    "    One of the most common problems gyms and other services face is customer churn.The very purpose of this project\n",
    "    is to tackle this problem based on analytical data."
   ]
  },
  {
   "cell_type": "code",
   "execution_count": 1,
   "metadata": {},
   "outputs": [],
   "source": [
    "#import python libraries for the project\n",
    "import pandas as pd\n",
    "import seaborn as sns\n",
    "import matplotlib.pyplot as plt\n",
    "from sklearn.model_selection import train_test_split\n",
    "from sklearn.linear_model import LogisticRegression\n",
    "from sklearn.preprocessing import StandardScaler\n",
    "from sklearn.linear_model import LogisticRegression\n",
    "from sklearn.ensemble import RandomForestClassifier\n",
    "from sklearn.metrics import accuracy_score,precision_score,recall_score\n",
    "from scipy.cluster.hierarchy import dendrogram, linkage \n",
    "from sklearn.cluster import KMeans\n",
    "import plotly.express as px\n",
    "import warnings"
   ]
  },
  {
   "cell_type": "code",
   "execution_count": 2,
   "metadata": {},
   "outputs": [],
   "source": [
    "# upload csv dataset\n",
    "try:\n",
    "    data = pd.read_csv('gym_churn_us.csv')\n",
    "except:\n",
    "    print(\"File not found error\")"
   ]
  },
  {
   "cell_type": "code",
   "execution_count": 3,
   "metadata": {},
   "outputs": [
    {
     "data": {
      "text/html": [
       "<div>\n",
       "<style scoped>\n",
       "    .dataframe tbody tr th:only-of-type {\n",
       "        vertical-align: middle;\n",
       "    }\n",
       "\n",
       "    .dataframe tbody tr th {\n",
       "        vertical-align: top;\n",
       "    }\n",
       "\n",
       "    .dataframe thead th {\n",
       "        text-align: right;\n",
       "    }\n",
       "</style>\n",
       "<table border=\"1\" class=\"dataframe\">\n",
       "  <thead>\n",
       "    <tr style=\"text-align: right;\">\n",
       "      <th></th>\n",
       "      <th>gender</th>\n",
       "      <th>Near_Location</th>\n",
       "      <th>Partner</th>\n",
       "      <th>Promo_friends</th>\n",
       "      <th>Phone</th>\n",
       "      <th>Contract_period</th>\n",
       "      <th>Group_visits</th>\n",
       "      <th>Age</th>\n",
       "      <th>Avg_additional_charges_total</th>\n",
       "      <th>Month_to_end_contract</th>\n",
       "      <th>Lifetime</th>\n",
       "      <th>Avg_class_frequency_total</th>\n",
       "      <th>Avg_class_frequency_current_month</th>\n",
       "      <th>Churn</th>\n",
       "    </tr>\n",
       "  </thead>\n",
       "  <tbody>\n",
       "    <tr>\n",
       "      <th>0</th>\n",
       "      <td>1</td>\n",
       "      <td>1</td>\n",
       "      <td>1</td>\n",
       "      <td>1</td>\n",
       "      <td>0</td>\n",
       "      <td>6</td>\n",
       "      <td>1</td>\n",
       "      <td>29</td>\n",
       "      <td>14.227470</td>\n",
       "      <td>5.0</td>\n",
       "      <td>3</td>\n",
       "      <td>0.020398</td>\n",
       "      <td>0.000000</td>\n",
       "      <td>0</td>\n",
       "    </tr>\n",
       "    <tr>\n",
       "      <th>1</th>\n",
       "      <td>0</td>\n",
       "      <td>1</td>\n",
       "      <td>0</td>\n",
       "      <td>0</td>\n",
       "      <td>1</td>\n",
       "      <td>12</td>\n",
       "      <td>1</td>\n",
       "      <td>31</td>\n",
       "      <td>113.202938</td>\n",
       "      <td>12.0</td>\n",
       "      <td>7</td>\n",
       "      <td>1.922936</td>\n",
       "      <td>1.910244</td>\n",
       "      <td>0</td>\n",
       "    </tr>\n",
       "    <tr>\n",
       "      <th>2</th>\n",
       "      <td>0</td>\n",
       "      <td>1</td>\n",
       "      <td>1</td>\n",
       "      <td>0</td>\n",
       "      <td>1</td>\n",
       "      <td>1</td>\n",
       "      <td>0</td>\n",
       "      <td>28</td>\n",
       "      <td>129.448479</td>\n",
       "      <td>1.0</td>\n",
       "      <td>2</td>\n",
       "      <td>1.859098</td>\n",
       "      <td>1.736502</td>\n",
       "      <td>0</td>\n",
       "    </tr>\n",
       "    <tr>\n",
       "      <th>3</th>\n",
       "      <td>0</td>\n",
       "      <td>1</td>\n",
       "      <td>1</td>\n",
       "      <td>1</td>\n",
       "      <td>1</td>\n",
       "      <td>12</td>\n",
       "      <td>1</td>\n",
       "      <td>33</td>\n",
       "      <td>62.669863</td>\n",
       "      <td>12.0</td>\n",
       "      <td>2</td>\n",
       "      <td>3.205633</td>\n",
       "      <td>3.357215</td>\n",
       "      <td>0</td>\n",
       "    </tr>\n",
       "    <tr>\n",
       "      <th>4</th>\n",
       "      <td>1</td>\n",
       "      <td>1</td>\n",
       "      <td>1</td>\n",
       "      <td>1</td>\n",
       "      <td>1</td>\n",
       "      <td>1</td>\n",
       "      <td>0</td>\n",
       "      <td>26</td>\n",
       "      <td>198.362265</td>\n",
       "      <td>1.0</td>\n",
       "      <td>3</td>\n",
       "      <td>1.113884</td>\n",
       "      <td>1.120078</td>\n",
       "      <td>0</td>\n",
       "    </tr>\n",
       "  </tbody>\n",
       "</table>\n",
       "</div>"
      ],
      "text/plain": [
       "   gender  Near_Location  Partner  Promo_friends  Phone  Contract_period  \\\n",
       "0       1              1        1              1      0                6   \n",
       "1       0              1        0              0      1               12   \n",
       "2       0              1        1              0      1                1   \n",
       "3       0              1        1              1      1               12   \n",
       "4       1              1        1              1      1                1   \n",
       "\n",
       "   Group_visits  Age  Avg_additional_charges_total  Month_to_end_contract  \\\n",
       "0             1   29                     14.227470                    5.0   \n",
       "1             1   31                    113.202938                   12.0   \n",
       "2             0   28                    129.448479                    1.0   \n",
       "3             1   33                     62.669863                   12.0   \n",
       "4             0   26                    198.362265                    1.0   \n",
       "\n",
       "   Lifetime  Avg_class_frequency_total  Avg_class_frequency_current_month  \\\n",
       "0         3                   0.020398                           0.000000   \n",
       "1         7                   1.922936                           1.910244   \n",
       "2         2                   1.859098                           1.736502   \n",
       "3         2                   3.205633                           3.357215   \n",
       "4         3                   1.113884                           1.120078   \n",
       "\n",
       "   Churn  \n",
       "0      0  \n",
       "1      0  \n",
       "2      0  \n",
       "3      0  \n",
       "4      0  "
      ]
     },
     "execution_count": 3,
     "metadata": {},
     "output_type": "execute_result"
    }
   ],
   "source": [
    "# view first 5 fields of the dataset\n",
    "data.head()"
   ]
  },
  {
   "cell_type": "code",
   "execution_count": 4,
   "metadata": {},
   "outputs": [
    {
     "name": "stdout",
     "output_type": "stream",
     "text": [
      "<class 'pandas.core.frame.DataFrame'>\n",
      "RangeIndex: 4000 entries, 0 to 3999\n",
      "Data columns (total 14 columns):\n",
      " #   Column                             Non-Null Count  Dtype  \n",
      "---  ------                             --------------  -----  \n",
      " 0   gender                             4000 non-null   int64  \n",
      " 1   Near_Location                      4000 non-null   int64  \n",
      " 2   Partner                            4000 non-null   int64  \n",
      " 3   Promo_friends                      4000 non-null   int64  \n",
      " 4   Phone                              4000 non-null   int64  \n",
      " 5   Contract_period                    4000 non-null   int64  \n",
      " 6   Group_visits                       4000 non-null   int64  \n",
      " 7   Age                                4000 non-null   int64  \n",
      " 8   Avg_additional_charges_total       4000 non-null   float64\n",
      " 9   Month_to_end_contract              4000 non-null   float64\n",
      " 10  Lifetime                           4000 non-null   int64  \n",
      " 11  Avg_class_frequency_total          4000 non-null   float64\n",
      " 12  Avg_class_frequency_current_month  4000 non-null   float64\n",
      " 13  Churn                              4000 non-null   int64  \n",
      "dtypes: float64(4), int64(10)\n",
      "memory usage: 437.6 KB\n"
     ]
    }
   ],
   "source": [
    "# view datails of the dataset\n",
    "data.info()"
   ]
  },
  {
   "cell_type": "markdown",
   "metadata": {},
   "source": [
    "# Conclusion"
   ]
  },
  {
   "cell_type": "markdown",
   "metadata": {},
   "source": [
    "    python libraries were imported and the dataset of csv file uploaded.We viewed the first five fields of the dataset \n",
    "    as well as the feature description which entails feature datatypes, total number of fields and missing values.\n",
    "    We discovered that the dataset have 4000 entries and 14 features. Out of these none of the features had any missing\n",
    "    values and misplaced dataypes."
   ]
  },
  {
   "cell_type": "code",
   "execution_count": null,
   "metadata": {},
   "outputs": [],
   "source": []
  },
  {
   "cell_type": "markdown",
   "metadata": {},
   "source": [
    "# Step 2. Carry out exploratory data analysis (EDA)\n",
    "<a id='step1'></a>"
   ]
  },
  {
   "cell_type": "markdown",
   "metadata": {},
   "source": [
    "##  Look at the dataset: does it contain any missing features? Study the mean values and standard deviation\n",
    "<a id='step1.1'></a>"
   ]
  },
  {
   "cell_type": "code",
   "execution_count": 5,
   "metadata": {},
   "outputs": [
    {
     "data": {
      "text/html": [
       "<div>\n",
       "<style scoped>\n",
       "    .dataframe tbody tr th:only-of-type {\n",
       "        vertical-align: middle;\n",
       "    }\n",
       "\n",
       "    .dataframe tbody tr th {\n",
       "        vertical-align: top;\n",
       "    }\n",
       "\n",
       "    .dataframe thead th {\n",
       "        text-align: right;\n",
       "    }\n",
       "</style>\n",
       "<table border=\"1\" class=\"dataframe\">\n",
       "  <thead>\n",
       "    <tr style=\"text-align: right;\">\n",
       "      <th></th>\n",
       "      <th>gender</th>\n",
       "      <th>Near_Location</th>\n",
       "      <th>Partner</th>\n",
       "      <th>Promo_friends</th>\n",
       "      <th>Phone</th>\n",
       "      <th>Contract_period</th>\n",
       "      <th>Group_visits</th>\n",
       "      <th>Age</th>\n",
       "      <th>Avg_additional_charges_total</th>\n",
       "      <th>Month_to_end_contract</th>\n",
       "      <th>Lifetime</th>\n",
       "      <th>Avg_class_frequency_total</th>\n",
       "      <th>Avg_class_frequency_current_month</th>\n",
       "      <th>Churn</th>\n",
       "    </tr>\n",
       "  </thead>\n",
       "  <tbody>\n",
       "    <tr>\n",
       "      <th>count</th>\n",
       "      <td>4000.000000</td>\n",
       "      <td>4000.000000</td>\n",
       "      <td>4000.000000</td>\n",
       "      <td>4000.000000</td>\n",
       "      <td>4000.000000</td>\n",
       "      <td>4000.000000</td>\n",
       "      <td>4000.000000</td>\n",
       "      <td>4000.000000</td>\n",
       "      <td>4000.000000</td>\n",
       "      <td>4000.000000</td>\n",
       "      <td>4000.000000</td>\n",
       "      <td>4000.000000</td>\n",
       "      <td>4000.000000</td>\n",
       "      <td>4000.000000</td>\n",
       "    </tr>\n",
       "    <tr>\n",
       "      <th>mean</th>\n",
       "      <td>0.510250</td>\n",
       "      <td>0.845250</td>\n",
       "      <td>0.486750</td>\n",
       "      <td>0.308500</td>\n",
       "      <td>0.903500</td>\n",
       "      <td>4.681250</td>\n",
       "      <td>0.412250</td>\n",
       "      <td>29.184250</td>\n",
       "      <td>146.943728</td>\n",
       "      <td>4.322750</td>\n",
       "      <td>3.724750</td>\n",
       "      <td>1.879020</td>\n",
       "      <td>1.767052</td>\n",
       "      <td>0.265250</td>\n",
       "    </tr>\n",
       "    <tr>\n",
       "      <th>std</th>\n",
       "      <td>0.499957</td>\n",
       "      <td>0.361711</td>\n",
       "      <td>0.499887</td>\n",
       "      <td>0.461932</td>\n",
       "      <td>0.295313</td>\n",
       "      <td>4.549706</td>\n",
       "      <td>0.492301</td>\n",
       "      <td>3.258367</td>\n",
       "      <td>96.355602</td>\n",
       "      <td>4.191297</td>\n",
       "      <td>3.749267</td>\n",
       "      <td>0.972245</td>\n",
       "      <td>1.052906</td>\n",
       "      <td>0.441521</td>\n",
       "    </tr>\n",
       "    <tr>\n",
       "      <th>min</th>\n",
       "      <td>0.000000</td>\n",
       "      <td>0.000000</td>\n",
       "      <td>0.000000</td>\n",
       "      <td>0.000000</td>\n",
       "      <td>0.000000</td>\n",
       "      <td>1.000000</td>\n",
       "      <td>0.000000</td>\n",
       "      <td>18.000000</td>\n",
       "      <td>0.148205</td>\n",
       "      <td>1.000000</td>\n",
       "      <td>0.000000</td>\n",
       "      <td>0.000000</td>\n",
       "      <td>0.000000</td>\n",
       "      <td>0.000000</td>\n",
       "    </tr>\n",
       "    <tr>\n",
       "      <th>25%</th>\n",
       "      <td>0.000000</td>\n",
       "      <td>1.000000</td>\n",
       "      <td>0.000000</td>\n",
       "      <td>0.000000</td>\n",
       "      <td>1.000000</td>\n",
       "      <td>1.000000</td>\n",
       "      <td>0.000000</td>\n",
       "      <td>27.000000</td>\n",
       "      <td>68.868830</td>\n",
       "      <td>1.000000</td>\n",
       "      <td>1.000000</td>\n",
       "      <td>1.180875</td>\n",
       "      <td>0.963003</td>\n",
       "      <td>0.000000</td>\n",
       "    </tr>\n",
       "    <tr>\n",
       "      <th>50%</th>\n",
       "      <td>1.000000</td>\n",
       "      <td>1.000000</td>\n",
       "      <td>0.000000</td>\n",
       "      <td>0.000000</td>\n",
       "      <td>1.000000</td>\n",
       "      <td>1.000000</td>\n",
       "      <td>0.000000</td>\n",
       "      <td>29.000000</td>\n",
       "      <td>136.220159</td>\n",
       "      <td>1.000000</td>\n",
       "      <td>3.000000</td>\n",
       "      <td>1.832768</td>\n",
       "      <td>1.719574</td>\n",
       "      <td>0.000000</td>\n",
       "    </tr>\n",
       "    <tr>\n",
       "      <th>75%</th>\n",
       "      <td>1.000000</td>\n",
       "      <td>1.000000</td>\n",
       "      <td>1.000000</td>\n",
       "      <td>1.000000</td>\n",
       "      <td>1.000000</td>\n",
       "      <td>6.000000</td>\n",
       "      <td>1.000000</td>\n",
       "      <td>31.000000</td>\n",
       "      <td>210.949625</td>\n",
       "      <td>6.000000</td>\n",
       "      <td>5.000000</td>\n",
       "      <td>2.536078</td>\n",
       "      <td>2.510336</td>\n",
       "      <td>1.000000</td>\n",
       "    </tr>\n",
       "    <tr>\n",
       "      <th>max</th>\n",
       "      <td>1.000000</td>\n",
       "      <td>1.000000</td>\n",
       "      <td>1.000000</td>\n",
       "      <td>1.000000</td>\n",
       "      <td>1.000000</td>\n",
       "      <td>12.000000</td>\n",
       "      <td>1.000000</td>\n",
       "      <td>41.000000</td>\n",
       "      <td>552.590740</td>\n",
       "      <td>12.000000</td>\n",
       "      <td>31.000000</td>\n",
       "      <td>6.023668</td>\n",
       "      <td>6.146783</td>\n",
       "      <td>1.000000</td>\n",
       "    </tr>\n",
       "  </tbody>\n",
       "</table>\n",
       "</div>"
      ],
      "text/plain": [
       "            gender  Near_Location      Partner  Promo_friends        Phone  \\\n",
       "count  4000.000000    4000.000000  4000.000000    4000.000000  4000.000000   \n",
       "mean      0.510250       0.845250     0.486750       0.308500     0.903500   \n",
       "std       0.499957       0.361711     0.499887       0.461932     0.295313   \n",
       "min       0.000000       0.000000     0.000000       0.000000     0.000000   \n",
       "25%       0.000000       1.000000     0.000000       0.000000     1.000000   \n",
       "50%       1.000000       1.000000     0.000000       0.000000     1.000000   \n",
       "75%       1.000000       1.000000     1.000000       1.000000     1.000000   \n",
       "max       1.000000       1.000000     1.000000       1.000000     1.000000   \n",
       "\n",
       "       Contract_period  Group_visits          Age  \\\n",
       "count      4000.000000   4000.000000  4000.000000   \n",
       "mean          4.681250      0.412250    29.184250   \n",
       "std           4.549706      0.492301     3.258367   \n",
       "min           1.000000      0.000000    18.000000   \n",
       "25%           1.000000      0.000000    27.000000   \n",
       "50%           1.000000      0.000000    29.000000   \n",
       "75%           6.000000      1.000000    31.000000   \n",
       "max          12.000000      1.000000    41.000000   \n",
       "\n",
       "       Avg_additional_charges_total  Month_to_end_contract     Lifetime  \\\n",
       "count                   4000.000000            4000.000000  4000.000000   \n",
       "mean                     146.943728               4.322750     3.724750   \n",
       "std                       96.355602               4.191297     3.749267   \n",
       "min                        0.148205               1.000000     0.000000   \n",
       "25%                       68.868830               1.000000     1.000000   \n",
       "50%                      136.220159               1.000000     3.000000   \n",
       "75%                      210.949625               6.000000     5.000000   \n",
       "max                      552.590740              12.000000    31.000000   \n",
       "\n",
       "       Avg_class_frequency_total  Avg_class_frequency_current_month  \\\n",
       "count                4000.000000                        4000.000000   \n",
       "mean                    1.879020                           1.767052   \n",
       "std                     0.972245                           1.052906   \n",
       "min                     0.000000                           0.000000   \n",
       "25%                     1.180875                           0.963003   \n",
       "50%                     1.832768                           1.719574   \n",
       "75%                     2.536078                           2.510336   \n",
       "max                     6.023668                           6.146783   \n",
       "\n",
       "             Churn  \n",
       "count  4000.000000  \n",
       "mean      0.265250  \n",
       "std       0.441521  \n",
       "min       0.000000  \n",
       "25%       0.000000  \n",
       "50%       0.000000  \n",
       "75%       1.000000  \n",
       "max       1.000000  "
      ]
     },
     "execution_count": 5,
     "metadata": {},
     "output_type": "execute_result"
    }
   ],
   "source": [
    "# view the data description\n",
    "data.describe(include='all')"
   ]
  },
  {
   "cell_type": "markdown",
   "metadata": {},
   "source": [
    "# Conclusion"
   ]
  },
  {
   "cell_type": "markdown",
   "metadata": {},
   "source": [
    "    The dataset has no missing values. It can also be determined that the average age of most customers is 29 years \n",
    "    and the average distance between the dataset that is the standard deviation with regards to their age is 3.25 which\n",
    "    is a low standard deviation. This indicates that the age of customers is close to the mean.\n",
    "    \n",
    "    Also,the total amount of money spent on other gym services feature(Avg_additional_charges_total) has a mean value of \n",
    "    146 and a standard deviation of 96.35. This shows a high standard deviation indicating that the data points are spread \n",
    "    out over a large range of values both low and high amount of money.\n",
    "    \n",
    "    Average frequency of visits per week over the customer's lifetime feature(Avg_class_frequency_total) has a mean \n",
    "    value of 1.87 and a standard deviation of 0.97.This shows that the dataset tend to be close to the mean indicating\n",
    "    that the rate at which most customers visit the gym in a week is close to 1.87.\n",
    "    \n",
    "    Average frequency of visits per week over the preceding month feature(Avg_class_frequency_current_month) has a mean \n",
    "    value of 1.76 and a standard deviation of 1.0 meaning the dataset tends to be close to the mean indicating that the \n",
    "    rate at which most customers visits the gym per week over the preceding month is close to 1.76."
   ]
  },
  {
   "cell_type": "markdown",
   "metadata": {},
   "source": [
    "## Look at the mean feature values in two groups: for those who left (churn) and for those who stayed\n",
    "<a id='step1.2'></a>"
   ]
  },
  {
   "cell_type": "code",
   "execution_count": 6,
   "metadata": {},
   "outputs": [
    {
     "data": {
      "text/html": [
       "<div>\n",
       "<style scoped>\n",
       "    .dataframe tbody tr th:only-of-type {\n",
       "        vertical-align: middle;\n",
       "    }\n",
       "\n",
       "    .dataframe tbody tr th {\n",
       "        vertical-align: top;\n",
       "    }\n",
       "\n",
       "    .dataframe thead th {\n",
       "        text-align: right;\n",
       "    }\n",
       "</style>\n",
       "<table border=\"1\" class=\"dataframe\">\n",
       "  <thead>\n",
       "    <tr style=\"text-align: right;\">\n",
       "      <th></th>\n",
       "      <th>Avg_additional_charges_total</th>\n",
       "      <th>Avg_class_frequency_total</th>\n",
       "      <th>Avg_class_frequency_current_month</th>\n",
       "    </tr>\n",
       "    <tr>\n",
       "      <th>Churn</th>\n",
       "      <th></th>\n",
       "      <th></th>\n",
       "      <th></th>\n",
       "    </tr>\n",
       "  </thead>\n",
       "  <tbody>\n",
       "    <tr>\n",
       "      <th>0</th>\n",
       "      <td>158.445715</td>\n",
       "      <td>2.024876</td>\n",
       "      <td>2.027882</td>\n",
       "    </tr>\n",
       "    <tr>\n",
       "      <th>1</th>\n",
       "      <td>115.082899</td>\n",
       "      <td>1.474995</td>\n",
       "      <td>1.044546</td>\n",
       "    </tr>\n",
       "  </tbody>\n",
       "</table>\n",
       "</div>"
      ],
      "text/plain": [
       "       Avg_additional_charges_total  Avg_class_frequency_total  \\\n",
       "Churn                                                            \n",
       "0                        158.445715                   2.024876   \n",
       "1                        115.082899                   1.474995   \n",
       "\n",
       "       Avg_class_frequency_current_month  \n",
       "Churn                                     \n",
       "0                               2.027882  \n",
       "1                               1.044546  "
      ]
     },
     "execution_count": 6,
     "metadata": {},
     "output_type": "execute_result"
    }
   ],
   "source": [
    "# group by churn(those who left and those who stayed)\n",
    "data.groupby('Churn').agg({'Avg_additional_charges_total':'mean','Avg_class_frequency_total':'mean','Avg_class_frequency_current_month':'mean'})"
   ]
  },
  {
   "cell_type": "markdown",
   "metadata": {},
   "source": [
    "# Conclusion"
   ]
  },
  {
   "cell_type": "markdown",
   "metadata": {},
   "source": [
    "    With a critical look at churn groups it can be seen that on average those who stayed contibute 158.4 amount of \n",
    "    money as extra money it generate through additional services as compared to those who left who were contributing \n",
    "    115.08 as the amount it generate through additional services.\n",
    "    On average customers who stayed visits the gym frequently per week throughout their lifetime as compared to those \n",
    "    who left which is 2.02 and 1.47 respectively.\n",
    "    Customers who stayed visits the gym frequently per week over the preceding month than those who left having the values\n",
    "    2.02 and 1.04 respectively."
   ]
  },
  {
   "cell_type": "markdown",
   "metadata": {},
   "source": [
    "## Plot bar histograms and feature distributions for those who left (churn) and those who stayed\n",
    "<a id='step1.3'></a>"
   ]
  },
  {
   "cell_type": "code",
   "execution_count": null,
   "metadata": {},
   "outputs": [],
   "source": []
  },
  {
   "cell_type": "code",
   "execution_count": 7,
   "metadata": {
    "scrolled": false
   },
   "outputs": [
    {
     "data": {
      "image/png": "[encoded data removed]",
      "text/plain": [
       "<Figure size 1080x648 with 1 Axes>"
      ]
     },
     "metadata": {
      "needs_background": "light"
     },
     "output_type": "display_data"
    },
    {
     "data": {
      "image/png": "[encoded data removed]",
      "text/plain": [
       "<Figure size 1080x648 with 1 Axes>"
      ]
     },
     "metadata": {
      "needs_background": "light"
     },
     "output_type": "display_data"
    },
    {
     "data": {
      "image/png": "[encoded data removed]",
      "text/plain": [
       "<Figure size 1080x648 with 1 Axes>"
      ]
     },
     "metadata": {
      "needs_background": "light"
     },
     "output_type": "display_data"
    },
    {
     "data": {
      "image/png": "[encoded data removed]",
      "text/plain": [
       "<Figure size 1080x648 with 1 Axes>"
      ]
     },
     "metadata": {
      "needs_background": "light"
     },
     "output_type": "display_data"
    },
    {
     "data": {
      "image/png": "[encoded data removed]",
      "text/plain": [
       "<Figure size 1080x648 with 1 Axes>"
      ]
     },
     "metadata": {
      "needs_background": "light"
     },
     "output_type": "display_data"
    },
    {
     "data": {
      "image/png": "[encoded data removed]",
      "text/plain": [
       "<Figure size 1080x648 with 1 Axes>"
      ]
     },
     "metadata": {
      "needs_background": "light"
     },
     "output_type": "display_data"
    },
    {
     "data": {
      "image/png": "[encoded data removed]",
      "text/plain": [
       "<Figure size 1080x648 with 1 Axes>"
      ]
     },
     "metadata": {
      "needs_background": "light"
     },
     "output_type": "display_data"
    },
    {
     "data": {
      "image/png": "[encoded data removed]",
      "text/plain": [
       "<Figure size 1080x648 with 1 Axes>"
      ]
     },
     "metadata": {
      "needs_background": "light"
     },
     "output_type": "display_data"
    },
    {
     "data": {
      "image/png": "[encoded data removed]",
      "text/plain": [
       "<Figure size 1080x648 with 1 Axes>"
      ]
     },
     "metadata": {
      "needs_background": "light"
     },
     "output_type": "display_data"
    },
    {
     "data": {
      "image/png": "[encoded data removed]",
      "text/plain": [
       "<Figure size 1080x648 with 1 Axes>"
      ]
     },
     "metadata": {
      "needs_background": "light"
     },
     "output_type": "display_data"
    }
   ],
   "source": [
    "# plot a count distribution of features\n",
    "for col in data.drop(['Churn','Avg_additional_charges_total','Avg_class_frequency_total','Avg_class_frequency_current_month'], axis = 1).columns:\n",
    "    plt.figure(figsize=(15,9))\n",
    "    #sns.barplot(x=data['Churn'],y=data[col])\n",
    "    sns.countplot(x=col, hue=data['Churn'], data=data)\n",
    "    #sns.histplot(data=data, x=col, hue=data[\"Churn\"])\n",
    "    plt.show()\n"
   ]
  },
  {
   "cell_type": "code",
   "execution_count": 8,
   "metadata": {},
   "outputs": [
    {
     "data": {
      "image/png": "[encoded data removed]",
      "text/plain": [
       "<Figure size 1080x648 with 1 Axes>"
      ]
     },
     "metadata": {
      "needs_background": "light"
     },
     "output_type": "display_data"
    },
    {
     "data": {
      "image/png": "[encoded data removed]",
      "text/plain": [
       "<Figure size 1080x648 with 1 Axes>"
      ]
     },
     "metadata": {
      "needs_background": "light"
     },
     "output_type": "display_data"
    },
    {
     "data": {
      "image/png": "[encoded data removed]",
      "text/plain": [
       "<Figure size 1080x648 with 1 Axes>"
      ]
     },
     "metadata": {
      "needs_background": "light"
     },
     "output_type": "display_data"
    }
   ],
   "source": [
    "# plot histogram distribution for mean features\n",
    "for col in data.drop(['Churn','gender','Near_Location','Partner','Promo_friends','Phone','Contract_period','Group_visits','Age','Month_to_end_contract','Lifetime'], axis = 1).columns:\n",
    "    plt.figure(figsize=(15,9))\n",
    "    #sns.barplot(x=data['Churn'],y=data[col])\n",
    "    sns.histplot(data=data, x=col, hue=data[\"Churn\"])\n",
    "    plt.show()"
   ]
  },
  {
   "cell_type": "markdown",
   "metadata": {},
   "source": [
    "# Conclusion"
   ]
  },
  {
   "cell_type": "markdown",
   "metadata": {},
   "source": [
    "    From the histogram we discovered tht gender label 1 has more customers of over 1500 who stayed as compared to \n",
    "    customers of gender label 0.\n",
    "    Also near_location of label 0 have 400 customers who stayed and 300 customers left. near_location of label 1 \n",
    "    have 2600 customers who stayed and 700 customers of those who left.\n",
    "    Partner feature of label 0 have over 1300 custoers who stayed and 700 customers who left.Partner feature of \n",
    "    label 1 have more customers who stayed at approximately 1600 whiles 300 stayed.\n",
    "    Age of customers who stayed and those who left are normally distributed.Lifetime feature, the distribution of \n",
    "    customers who stayed and those who left are positively skewed with mean to the right with outliers.\n",
    "    The total amount of money spent on other gym services(Avg_additional_charges_total) feature, distribution of \n",
    "    customers are positively skewed with mean located on the right.\n",
    "    Average frequency of visits per week over the preceding month (Avg_class_frequency_current_month)  feature, \n",
    "    distribution of customers are positively skewed with mean located on the right.\n",
    "    Finally,average frequency of visits per week over the customer's lifetime (Avg_class_frequency_total) feature, \n",
    "    distribution of customers are normally distributed."
   ]
  },
  {
   "cell_type": "markdown",
   "metadata": {},
   "source": [
    "## Build a correlation matrix and display it.\n",
    "<a id='step1.4'></a>"
   ]
  },
  {
   "cell_type": "code",
   "execution_count": 9,
   "metadata": {},
   "outputs": [
    {
     "data": {
      "image/png": "[encoded data removed]",
      "text/plain": [
       "<Figure size 1080x720 with 2 Axes>"
      ]
     },
     "metadata": {
      "needs_background": "light"
     },
     "output_type": "display_data"
    }
   ],
   "source": [
    "# plot a heatmap for features\n",
    "plt.figure(figsize=(15,10))\n",
    "cm = data.corr() # calculate correlation matrix\n",
    "sns.heatmap(cm,annot=True,square=True)\n",
    "plt.show()\n",
    "\n"
   ]
  },
  {
   "cell_type": "markdown",
   "metadata": {},
   "source": [
    "# Conclusion"
   ]
  },
  {
   "cell_type": "markdown",
   "metadata": {},
   "source": [
    "    From the heatmap there are positive linear relationships between the following features which means as a feature \n",
    "    increases so does the other:\n",
    "        1) low linear relationship of 0.45 between promo_friends and partner\n",
    "        2) high linear relationship of 0.97 between contract_period and month_to_end_contract\n",
    "        3) high linear relationship of  0.95 between Avg_class_frequency_current_month and Avg_class_frequency_total\n",
    "        \n",
    "    There are also negative linear relationships between the following features which means as a feature increases \n",
    "    the other decreases:\n",
    "        1) low linear relationship of -0.39 between contract_period and Churn\n",
    "        2) low linear relationship of -0.4 between age and Churn\n",
    "        3) low linear relationship of -0.38 between month_to_end_contract and Churn\n",
    "        4) low linear relationship of -0.44 between lifetime and Churn\n",
    "        5) low linear relationship of -0.44 between Avg_class_frequency_current_month and Churn\n",
    "        "
   ]
  },
  {
   "cell_type": "markdown",
   "metadata": {},
   "source": [
    "<div class=\"alert alert-success\">\n",
    "    <b>Reviewer's comment</b><br>\n",
    "    You explored the data and made some interesting observations! The visualizations are used appropriately\n",
    "</div>"
   ]
  },
  {
   "cell_type": "markdown",
   "metadata": {},
   "source": [
    "# Step 3. Build a model to predict user churn\n",
    "<a id='step2'></a>"
   ]
  },
  {
   "cell_type": "code",
   "execution_count": 10,
   "metadata": {},
   "outputs": [],
   "source": [
    "# divide dataset into input values and outcome values\n",
    "X = data.drop('Churn',axis=1)\n",
    "y = data['Churn']"
   ]
  },
  {
   "cell_type": "markdown",
   "metadata": {},
   "source": [
    "## Divide the data into train and validation sets using the train_test_split() function.\n",
    "<a id='step2.1'></a>"
   ]
  },
  {
   "cell_type": "code",
   "execution_count": 11,
   "metadata": {},
   "outputs": [],
   "source": [
    "# Divide data into train and validation set\n",
    "X_train,X_test,y_train,y_test = train_test_split(X,y,test_size=0.2,random_state=0)"
   ]
  },
  {
   "cell_type": "markdown",
   "metadata": {},
   "source": [
    "## Train the model on the train set with two methods:\n",
    "    logistic regression\n",
    "    random forest\n",
    "   <a id='step2.2'></a>"
   ]
  },
  {
   "cell_type": "code",
   "execution_count": 12,
   "metadata": {},
   "outputs": [],
   "source": [
    "# logistics regression and random forest classifier model\n",
    "models = [LogisticRegression(),RandomForestClassifier()]"
   ]
  },
  {
   "cell_type": "code",
   "execution_count": 13,
   "metadata": {},
   "outputs": [],
   "source": [
    "# A function to train,predict and validate model \n",
    "def prediction(m, X_train, y_train, X_test):\n",
    "    model = m\n",
    "    model.fit(X_train, y_train)\n",
    "    y_pred = model.predict(X_test)\n",
    "    print('Accuracy:{:.2f} \\nPrecision:{:.2f} \\nRecall:{:.2f}'.format(accuracy_score(y_test, y_pred), \n",
    "                                                                      precision_score(y_test, y_pred),\n",
    "                                                                      recall_score(y_test, y_pred)))"
   ]
  },
  {
   "cell_type": "code",
   "execution_count": 14,
   "metadata": {},
   "outputs": [],
   "source": [
    "warnings.filterwarnings('ignore')"
   ]
  },
  {
   "cell_type": "markdown",
   "metadata": {},
   "source": [
    "# Conclusion"
   ]
  },
  {
   "cell_type": "markdown",
   "metadata": {},
   "source": [
    "    We divided dataset into inputs and outcome values.After build a dataset from the input and outcome values by \n",
    "    dividing the input and outcome datasets into train and validation datasets. We then train the datasets on the\n",
    "    Logistics regression and random forest classifier through a user defined function.\n",
    "    This function train, predict and calculte the accuracy,precision and recall of both classifiers to determined\n",
    "    the the best one."
   ]
  },
  {
   "cell_type": "markdown",
   "metadata": {},
   "source": [
    "## Evaluate accuracy, precision, and recall for both models using the validation data. Use them to compare the models. Which model gave better results?\n",
    "<a id='step2.3'></a>"
   ]
  },
  {
   "cell_type": "code",
   "execution_count": 15,
   "metadata": {},
   "outputs": [
    {
     "name": "stdout",
     "output_type": "stream",
     "text": [
      "LogisticRegression\n",
      "Accuracy:0.90 \n",
      "Precision:0.81 \n",
      "Recall:0.79\n",
      "\n",
      "\n",
      "RandomForestClassifier\n",
      "Accuracy:0.91 \n",
      "Precision:0.84 \n",
      "Recall:0.80\n",
      "\n",
      "\n"
     ]
    }
   ],
   "source": [
    "# write a loop that outputs metrics for each model\n",
    "for i in models:\n",
    "    print(i.__class__.__name__)\n",
    "    prediction(m=i, X_train=X_train, y_train=y_train, X_test=X_test)\n",
    "    print('\\n')"
   ]
  },
  {
   "cell_type": "markdown",
   "metadata": {},
   "source": [
    "# Conclusion"
   ]
  },
  {
   "cell_type": "markdown",
   "metadata": {},
   "source": [
    "    Aside accuracy, precision and recall plays a major role in deciding a good model.The question that precision\n",
    "    metrics answers is all the customers that labelled as stayed or left how many stayed or left?.Hence high precision \n",
    "    relates to low false positive rate this means that both classifiers LogisticRegression and RandomForestClassifier \n",
    "    with rates of 0.86 ,0.82 respectively are good classifiers but LogisticRegression preforms better in terms of \n",
    "    precision.\n",
    "\n",
    "    Also recall  is the ratio of correctly predicting positive observations to the all observations in actual class. \n",
    "    The question recall answers is: Of all the customers that stayed, how many did we label? We have got recall of 0.83 \n",
    "    and 0.79 for both LogisticRegression and RandomForestClassifier respectively.\n",
    "\n",
    "    Therefore, we can say that LogisticRegression is a better classifier compared to RandomForestClassifier based on \n",
    "    the metrics used."
   ]
  },
  {
   "cell_type": "markdown",
   "metadata": {},
   "source": [
    "<div class=\"alert alert-success\">\n",
    "    <b>Reviewer's comment</b><br>\n",
    "    The models were trained and evaluated correctly. Conclusions make sense.\n",
    "</div>"
   ]
  },
  {
   "cell_type": "markdown",
   "metadata": {},
   "source": [
    "# Step 4. Create user clusters\n",
    "<a id='step3'></a>"
   ]
  },
  {
   "cell_type": "markdown",
   "metadata": {},
   "source": [
    "## Standardize the data.\n",
    "<a id='step3.1'></a>"
   ]
  },
  {
   "cell_type": "code",
   "execution_count": 16,
   "metadata": {},
   "outputs": [],
   "source": [
    "# standardize the data\n",
    "scaler = StandardScaler()\n",
    "x_train_st=scaler.fit_transform(data)"
   ]
  },
  {
   "cell_type": "code",
   "execution_count": null,
   "metadata": {},
   "outputs": [],
   "source": []
  },
  {
   "cell_type": "markdown",
   "metadata": {},
   "source": [
    "## Use the linkage() function to build a matrix of distances based on the standardized feature matrix and plot a dendrogram. Note: rendering the dendrogram may take time! Use the resulting graph to estimate the number of clusters you can single out.\n",
    "<a id='step3.2'></a>"
   ]
  },
  {
   "cell_type": "code",
   "execution_count": 17,
   "metadata": {},
   "outputs": [],
   "source": [
    "linked = linkage(x_train_st, method='ward')"
   ]
  },
  {
   "cell_type": "code",
   "execution_count": null,
   "metadata": {},
   "outputs": [],
   "source": [
    "plt.figure(figsize=(15, 10))  \n",
    "dendrogram(linked, orientation='top')\n",
    "plt.title('Hierarchical clustering for GYM')\n",
    "plt.show() "
   ]
  },
  {
   "cell_type": "markdown",
   "metadata": {},
   "source": [
    "# Conclusion"
   ]
  },
  {
   "cell_type": "markdown",
   "metadata": {},
   "source": [
    "The suggested optimal number of clusters 5 corresponds to the five different colors on the plot."
   ]
  },
  {
   "cell_type": "markdown",
   "metadata": {},
   "source": [
    "## Train the clustering model with the K-means algorithm and predict customer clusters. (Let the number of clusters be n=5, so that it'll be easier to compare your results with those of other students. However, in real life, no one will give you such hints, so you'll have to decide based on the graph from the previous step.)\n",
    "<a id='step3.3'></a>"
   ]
  },
  {
   "cell_type": "code",
   "execution_count": null,
   "metadata": {},
   "outputs": [],
   "source": [
    "# define the k_means model with 5 clusters\n",
    "km = KMeans(n_clusters=5,random_state=0)"
   ]
  },
  {
   "cell_type": "code",
   "execution_count": null,
   "metadata": {},
   "outputs": [],
   "source": [
    "# predict the clusters for observations (the algorithm assigns them a number from 0 to 4)\n",
    "labels = km.fit_predict(x_train_st)"
   ]
  },
  {
   "cell_type": "code",
   "execution_count": null,
   "metadata": {},
   "outputs": [],
   "source": [
    "# copy dataset\n",
    "df = data.copy()"
   ]
  },
  {
   "cell_type": "code",
   "execution_count": null,
   "metadata": {},
   "outputs": [],
   "source": [
    "# store cluster labels in the field of our dataset\n",
    "df['clusters'] = labels"
   ]
  },
  {
   "cell_type": "markdown",
   "metadata": {},
   "source": [
    "# Conclusion"
   ]
  },
  {
   "cell_type": "markdown",
   "metadata": {},
   "source": [
    "    We defined kmeans model with 5 clusters and predicted the clusters based on the scaled dataset to obtain the cluster \n",
    "    labels for the dataset. We then stored the labels in the field of our dataset which gives each label and it \n",
    "    corresponding cluster label."
   ]
  },
  {
   "cell_type": "markdown",
   "metadata": {},
   "source": [
    "## Look at the mean feature values for clusters. Does anything catch your eye?\n",
    "<a id='step3.4'></a>"
   ]
  },
  {
   "cell_type": "code",
   "execution_count": null,
   "metadata": {},
   "outputs": [],
   "source": [
    "df.groupby('clusters').mean().reset_index()"
   ]
  },
  {
   "cell_type": "markdown",
   "metadata": {},
   "source": [
    "# Conclusion"
   ]
  },
  {
   "cell_type": "markdown",
   "metadata": {},
   "source": [
    "    Cluster 3 have the highest number of customers who on average frequently  visits per week over the customer's lifetime\n",
    "    at the gym at the same time the highest average frequency of visits per week over the preceding month.\n",
    "\n",
    "    Cluster 1 on average generate the highest total amount of money spent on other gym services"
   ]
  },
  {
   "cell_type": "markdown",
   "metadata": {},
   "source": [
    "## Plot distributions of features for the clusters. Do you notice anything?\n",
    "<a id='step3.5'></a>"
   ]
  },
  {
   "cell_type": "code",
   "execution_count": null,
   "metadata": {},
   "outputs": [],
   "source": [
    "pip install -U seaborn"
   ]
  },
  {
   "cell_type": "code",
   "execution_count": null,
   "metadata": {},
   "outputs": [],
   "source": []
  },
  {
   "cell_type": "code",
   "execution_count": null,
   "metadata": {},
   "outputs": [],
   "source": [
    "# Plot a graph of clusters against feat\n",
    "for col in df.drop('clusters',axis=1).columns:\n",
    "    plt.figure(figsize=(15,10))\n",
    "    sns.histplot(df, x=col, hue=\"clusters\", multiple=\"dodge\", shrink=.8)\n",
    "    plt.show()"
   ]
  },
  {
   "cell_type": "markdown",
   "metadata": {},
   "source": [
    "# Conclusion"
   ]
  },
  {
   "cell_type": "markdown",
   "metadata": {},
   "source": [
    "    There were few customers in all clusters having Churn 1 as its lable except cluster 2 whiles there was 0 customers \n",
    "    in cluster 2 concerning churn label 0.\n",
    "    Age of customers who stayed and those who left are normally distributed in all clusters.Lifetime feature, the \n",
    "    distribution of customers who stayed and those who left are positively skewed in all clusters with mean to the \n",
    "    right with outliers.\n",
    "    The total amount of money spent on other gym services(Avg_additional_charges_total) feature, distribution of \n",
    "    customers are positively skewed in all clusters with mean located on the right.\n",
    "    Average frequency of visits per week over the preceding month (Avg_class_frequency_current_month)  feature, \n",
    "    distribution of customers are positively skewed in all clusters with mean located on the right.\n",
    "    Finally,average frequency of visits per week over the customer's lifetime (Avg_class_frequency_total) feature, \n",
    "    distribution of customers are normally distributed in all clusters."
   ]
  },
  {
   "cell_type": "markdown",
   "metadata": {},
   "source": [
    "## Calculate the churn rate for each cluster (use the groupby() method). Do they differ in terms of churn rate? Which clusters are prone to leaving, and which are loyal?\n",
    "<a id='step3.6'></a>"
   ]
  },
  {
   "cell_type": "code",
   "execution_count": null,
   "metadata": {},
   "outputs": [],
   "source": [
    "# the number of entries in the dataset\n",
    "df.shape[0]"
   ]
  },
  {
   "cell_type": "code",
   "execution_count": null,
   "metadata": {},
   "outputs": [],
   "source": [
    "# group by clusters and churn to calculate the churn rate\n",
    "diff_churn = df.groupby(['clusters','Churn']).agg(churn_count=('Churn','count')).reset_index()"
   ]
  },
  {
   "cell_type": "code",
   "execution_count": null,
   "metadata": {},
   "outputs": [],
   "source": [
    "# calculate churn rate by dividing by total customers\n",
    "diff_churn['churn_rate'] = diff_churn['churn_count']/ df.shape[0]"
   ]
  },
  {
   "cell_type": "code",
   "execution_count": null,
   "metadata": {},
   "outputs": [],
   "source": [
    "# view churn rate\n",
    "diff_churn"
   ]
  },
  {
   "cell_type": "code",
   "execution_count": null,
   "metadata": {},
   "outputs": [],
   "source": []
  },
  {
   "cell_type": "code",
   "execution_count": null,
   "metadata": {},
   "outputs": [],
   "source": [
    "# plot to view loyal and disloyal customers in a cluster\n",
    "plt.figure(figsize=(15,8))\n",
    "sns.barplot(x='clusters', y='churn_rate',hue=\"Churn\", data=diff_churn)\n",
    "plt.show()"
   ]
  },
  {
   "cell_type": "markdown",
   "metadata": {},
   "source": [
    "# Conclusion"
   ]
  },
  {
   "cell_type": "markdown",
   "metadata": {},
   "source": [
    "    From the churn rate calculate and the pictorial graph we can see that customers belonging to cluster 1 are the most \n",
    "    loyal customers whiles customers of cluster 2 are the most disloyal customers"
   ]
  },
  {
   "cell_type": "markdown",
   "metadata": {},
   "source": [
    "<div class=\"alert alert-warning\">\n",
    "    <b>Note</b><br>\n",
    "    Clusters were successfully identified and studied. I have one suggestion: to ensure reproducibility of your research you can set the random_state parameter of KMeans. Otherwise you will get different clusters every time.\n",
    "</div>"
   ]
  },
  {
   "cell_type": "markdown",
   "metadata": {},
   "source": [
    "# Step 5. Come up with conclusions and basic recommendations on working with customers\n",
    "<a id='step4'></a>"
   ]
  },
  {
   "cell_type": "markdown",
   "metadata": {},
   "source": [
    "### Draw conclusions and formulate recommendations regarding the strategy for customer interaction and retention.\n",
    "<a id='step4.1'></a>"
   ]
  },
  {
   "cell_type": "markdown",
   "metadata": {},
   "source": [
    "    In conclusion customers with gender label 1 tends to stay more than those of label 0 at the same time customers \n",
    "    with near_location of label 1 stays more than those of label 0.\n",
    "    Also customers around the age of 30 and 29 years stays more than others.\n",
    "    Finally,customers or groupswho have less number of months from the day of registration stays more."
   ]
  },
  {
   "cell_type": "markdown",
   "metadata": {},
   "source": []
  },
  {
   "cell_type": "code",
   "execution_count": null,
   "metadata": {},
   "outputs": [],
   "source": []
  }
 ],
 "metadata": {
  "ExecuteTimeLog": [
   {
    "duration": 1464,
    "start_time": "2021-06-30T16:37:04.994Z"
   },
   {
    "duration": 26,
    "start_time": "2021-06-30T16:38:09.641Z"
   },
   {
    "duration": 11,
    "start_time": "2021-06-30T16:38:36.162Z"
   },
   {
    "duration": 21,
    "start_time": "2021-06-30T16:38:45.216Z"
   },
   {
    "duration": 10,
    "start_time": "2021-06-30T16:39:59.251Z"
   },
   {
    "duration": 72,
    "start_time": "2021-06-30T16:41:41.980Z"
   },
   {
    "duration": 16,
    "start_time": "2021-06-30T17:05:01.596Z"
   },
   {
    "duration": 4,
    "start_time": "2021-06-30T17:17:14.920Z"
   },
   {
    "duration": 8,
    "start_time": "2021-06-30T18:31:24.565Z"
   },
   {
    "duration": 5507,
    "start_time": "2021-06-30T18:31:33.051Z"
   },
   {
    "duration": 1594,
    "start_time": "2021-06-30T18:35:43.050Z"
   },
   {
    "duration": 1776,
    "start_time": "2021-06-30T18:37:00.176Z"
   },
   {
    "duration": 1692,
    "start_time": "2021-06-30T18:37:17.818Z"
   },
   {
    "duration": 1656,
    "start_time": "2021-06-30T18:37:45.446Z"
   },
   {
    "duration": 1759,
    "start_time": "2021-06-30T18:38:38.498Z"
   },
   {
    "duration": 1775,
    "start_time": "2021-06-30T18:38:49.571Z"
   },
   {
    "duration": 1908,
    "start_time": "2021-06-30T18:39:27.713Z"
   },
   {
    "duration": 461,
    "start_time": "2021-06-30T18:42:18.254Z"
   },
   {
    "duration": 6,
    "start_time": "2021-06-30T18:42:55.392Z"
   },
   {
    "duration": 309,
    "start_time": "2021-06-30T18:46:20.546Z"
   },
   {
    "duration": 55,
    "start_time": "2021-06-30T18:46:27.271Z"
   },
   {
    "duration": 328,
    "start_time": "2021-06-30T18:46:36.930Z"
   },
   {
    "duration": 11,
    "start_time": "2021-06-30T18:47:23.880Z"
   },
   {
    "duration": 353,
    "start_time": "2021-06-30T18:52:31.438Z"
   },
   {
    "duration": 341,
    "start_time": "2021-06-30T18:53:18.680Z"
   },
   {
    "duration": 308,
    "start_time": "2021-06-30T18:53:19.670Z"
   },
   {
    "duration": 30,
    "start_time": "2021-06-30T18:53:31.452Z"
   },
   {
    "duration": 9,
    "start_time": "2021-06-30T18:53:40.489Z"
   },
   {
    "duration": 6,
    "start_time": "2021-06-30T18:53:41.998Z"
   },
   {
    "duration": 32,
    "start_time": "2021-06-30T19:33:58.407Z"
   },
   {
    "duration": 343,
    "start_time": "2021-06-30T19:42:56.219Z"
   },
   {
    "duration": 5,
    "start_time": "2021-06-30T19:44:12.716Z"
   },
   {
    "duration": 5,
    "start_time": "2021-06-30T19:44:20.511Z"
   },
   {
    "duration": 5,
    "start_time": "2021-06-30T19:46:51.422Z"
   },
   {
    "duration": 294,
    "start_time": "2021-06-30T19:46:56.908Z"
   },
   {
    "duration": 4,
    "start_time": "2021-06-30T19:47:05.944Z"
   },
   {
    "duration": 5,
    "start_time": "2021-06-30T19:47:07.009Z"
   },
   {
    "duration": 341,
    "start_time": "2021-06-30T19:47:12.426Z"
   },
   {
    "duration": 8,
    "start_time": "2021-06-30T19:47:38.134Z"
   },
   {
    "duration": 10,
    "start_time": "2021-06-30T19:47:41.263Z"
   },
   {
    "duration": 6,
    "start_time": "2021-06-30T19:47:42.037Z"
   },
   {
    "duration": 4,
    "start_time": "2021-06-30T19:47:42.701Z"
   },
   {
    "duration": 5,
    "start_time": "2021-06-30T19:47:44.702Z"
   },
   {
    "duration": 5,
    "start_time": "2021-06-30T19:47:45.953Z"
   },
   {
    "duration": 346,
    "start_time": "2021-06-30T19:47:47.233Z"
   },
   {
    "duration": 327,
    "start_time": "2021-06-30T19:48:30.814Z"
   },
   {
    "duration": 8,
    "start_time": "2021-06-30T19:48:40.390Z"
   },
   {
    "duration": 687,
    "start_time": "2021-06-30T19:48:46.261Z"
   },
   {
    "duration": 116,
    "start_time": "2021-06-30T19:50:53.185Z"
   },
   {
    "duration": 717,
    "start_time": "2021-06-30T19:50:57.145Z"
   },
   {
    "duration": 5,
    "start_time": "2021-06-30T19:51:25.477Z"
   },
   {
    "duration": 285,
    "start_time": "2021-06-30T19:51:31.951Z"
   },
   {
    "duration": 5,
    "start_time": "2021-06-30T20:01:56.528Z"
   },
   {
    "duration": 4,
    "start_time": "2021-06-30T20:02:20.097Z"
   },
   {
    "duration": 245,
    "start_time": "2021-06-30T20:02:22.073Z"
   },
   {
    "duration": 250,
    "start_time": "2021-06-30T20:02:45.967Z"
   },
   {
    "duration": 263,
    "start_time": "2021-06-30T20:03:48.758Z"
   },
   {
    "duration": 5,
    "start_time": "2021-06-30T20:04:56.031Z"
   },
   {
    "duration": 5,
    "start_time": "2021-06-30T20:06:04.197Z"
   },
   {
    "duration": 353,
    "start_time": "2021-06-30T20:06:55.867Z"
   },
   {
    "duration": 5,
    "start_time": "2021-06-30T20:07:17.094Z"
   },
   {
    "duration": 261,
    "start_time": "2021-06-30T20:07:23.652Z"
   },
   {
    "duration": 283,
    "start_time": "2021-06-30T20:08:27.729Z"
   },
   {
    "duration": 7,
    "start_time": "2021-06-30T20:08:55.058Z"
   },
   {
    "duration": 8,
    "start_time": "2021-06-30T20:09:20.153Z"
   },
   {
    "duration": 5,
    "start_time": "2021-06-30T20:09:20.185Z"
   },
   {
    "duration": 5,
    "start_time": "2021-06-30T20:13:28.359Z"
   },
   {
    "duration": 476,
    "start_time": "2021-06-30T20:14:46.718Z"
   },
   {
    "duration": 111364,
    "start_time": "2021-06-30T20:15:32.373Z"
   },
   {
    "duration": 306,
    "start_time": "2021-06-30T20:23:25.783Z"
   },
   {
    "duration": 23,
    "start_time": "2021-06-30T20:23:49.744Z"
   },
   {
    "duration": 4,
    "start_time": "2021-06-30T20:23:56.986Z"
   },
   {
    "duration": 1771,
    "start_time": "2021-06-30T20:25:11.497Z"
   },
   {
    "duration": 8,
    "start_time": "2021-06-30T20:46:32.013Z"
   },
   {
    "duration": 770,
    "start_time": "2021-06-30T20:46:37.083Z"
   },
   {
    "duration": 140008,
    "start_time": "2021-06-30T20:46:40.400Z"
   },
   {
    "duration": 2226,
    "start_time": "2021-06-30T21:06:46.657Z"
   },
   {
    "duration": 1935,
    "start_time": "2021-06-30T21:10:31.033Z"
   },
   {
    "duration": 5,
    "start_time": "2021-06-30T21:11:08.362Z"
   },
   {
    "duration": 4,
    "start_time": "2021-06-30T21:11:52.868Z"
   },
   {
    "duration": 19,
    "start_time": "2021-06-30T21:12:02.417Z"
   },
   {
    "duration": 16,
    "start_time": "2021-06-30T21:12:17.209Z"
   },
   {
    "duration": 3090,
    "start_time": "2021-06-30T21:12:50.685Z"
   },
   {
    "duration": 338,
    "start_time": "2021-06-30T21:19:26.273Z"
   },
   {
    "duration": 2365,
    "start_time": "2021-06-30T21:19:52.005Z"
   },
   {
    "duration": 19,
    "start_time": "2021-06-30T21:23:19.946Z"
   },
   {
    "duration": 2314,
    "start_time": "2021-06-30T21:27:09.576Z"
   },
   {
    "duration": 332,
    "start_time": "2021-06-30T21:32:50.141Z"
   },
   {
    "duration": 28,
    "start_time": "2021-06-30T21:32:59.805Z"
   },
   {
    "duration": 337,
    "start_time": "2021-07-07T12:29:58.787Z"
   },
   {
    "duration": 287,
    "start_time": "2021-07-07T14:33:23.281Z"
   },
   {
    "duration": 2105,
    "start_time": "2021-07-07T14:33:53.298Z"
   },
   {
    "duration": 25,
    "start_time": "2021-07-07T14:33:55.406Z"
   },
   {
    "duration": 20,
    "start_time": "2021-07-07T14:33:55.434Z"
   },
   {
    "duration": 12,
    "start_time": "2021-07-07T14:33:55.456Z"
   },
   {
    "duration": 78,
    "start_time": "2021-07-07T14:33:55.471Z"
   },
   {
    "duration": 15,
    "start_time": "2021-07-07T14:33:55.551Z"
   },
   {
    "duration": 5045,
    "start_time": "2021-07-07T14:33:55.568Z"
   },
   {
    "duration": 1865,
    "start_time": "2021-07-07T14:34:00.615Z"
   },
   {
    "duration": 17,
    "start_time": "2021-07-07T14:34:02.484Z"
   },
   {
    "duration": 14,
    "start_time": "2021-07-07T14:34:02.504Z"
   },
   {
    "duration": 6,
    "start_time": "2021-07-07T14:34:02.520Z"
   },
   {
    "duration": 8,
    "start_time": "2021-07-07T14:34:02.528Z"
   },
   {
    "duration": 10,
    "start_time": "2021-07-07T14:34:02.538Z"
   },
   {
    "duration": 301,
    "start_time": "2021-07-07T14:34:02.551Z"
   },
   {
    "duration": 12,
    "start_time": "2021-07-07T14:34:02.855Z"
   },
   {
    "duration": 945,
    "start_time": "2021-07-07T14:34:02.870Z"
   },
   {
    "duration": 137864,
    "start_time": "2021-07-07T14:34:03.818Z"
   },
   {
    "duration": 3,
    "start_time": "2021-07-07T14:36:21.685Z"
   },
   {
    "duration": 1705,
    "start_time": "2021-07-07T14:36:21.700Z"
   },
   {
    "duration": 92,
    "start_time": "2021-07-07T14:36:23.409Z"
   },
   {
    "duration": 14,
    "start_time": "2021-07-07T14:36:23.504Z"
   },
   {
    "duration": 32,
    "start_time": "2021-07-07T14:36:23.520Z"
   },
   {
    "duration": 4780,
    "start_time": "2021-07-07T14:36:23.554Z"
   },
   {
    "duration": 484,
    "start_time": "2021-07-07T14:36:28.337Z"
   },
   {
    "duration": 329,
    "start_time": "2021-07-07T14:36:28.496Z"
   },
   {
    "duration": 215,
    "start_time": "2021-07-07T14:36:28.613Z"
   },
   {
    "duration": 205,
    "start_time": "2021-07-07T14:36:28.625Z"
   },
   {
    "duration": 198,
    "start_time": "2021-07-07T14:36:28.634Z"
   },
   {
    "duration": 196,
    "start_time": "2021-07-07T14:36:28.639Z"
   },
   {
    "duration": 1992,
    "start_time": "2021-07-07T14:38:25.101Z"
   },
   {
    "duration": 26,
    "start_time": "2021-07-07T14:38:27.096Z"
   },
   {
    "duration": 23,
    "start_time": "2021-07-07T14:38:27.125Z"
   },
   {
    "duration": 11,
    "start_time": "2021-07-07T14:38:27.151Z"
   },
   {
    "duration": 105,
    "start_time": "2021-07-07T14:38:27.165Z"
   },
   {
    "duration": 29,
    "start_time": "2021-07-07T14:38:27.273Z"
   },
   {
    "duration": 4462,
    "start_time": "2021-07-07T14:38:27.305Z"
   },
   {
    "duration": 1838,
    "start_time": "2021-07-07T14:38:31.771Z"
   },
   {
    "duration": 7,
    "start_time": "2021-07-07T14:38:33.613Z"
   },
   {
    "duration": 18,
    "start_time": "2021-07-07T14:38:33.623Z"
   },
   {
    "duration": 4,
    "start_time": "2021-07-07T14:38:33.645Z"
   },
   {
    "duration": 8,
    "start_time": "2021-07-07T14:38:33.652Z"
   },
   {
    "duration": 6,
    "start_time": "2021-07-07T14:38:33.663Z"
   },
   {
    "duration": 320,
    "start_time": "2021-07-07T14:38:33.702Z"
   },
   {
    "duration": 10,
    "start_time": "2021-07-07T14:38:34.025Z"
   },
   {
    "duration": 813,
    "start_time": "2021-07-07T14:38:34.038Z"
   },
   {
    "duration": 141641,
    "start_time": "2021-07-07T14:38:34.854Z"
   },
   {
    "duration": 5,
    "start_time": "2021-07-07T14:40:56.501Z"
   },
   {
    "duration": 1408,
    "start_time": "2021-07-07T14:40:56.513Z"
   },
   {
    "duration": 77,
    "start_time": "2021-07-07T14:40:57.924Z"
   },
   {
    "duration": 12,
    "start_time": "2021-07-07T14:40:58.004Z"
   },
   {
    "duration": 29,
    "start_time": "2021-07-07T14:40:58.019Z"
   },
   {
    "duration": 3592,
    "start_time": "2021-07-07T14:40:58.052Z"
   },
   {
    "duration": 15541,
    "start_time": "2021-07-07T14:41:01.648Z"
   },
   {
    "duration": 14,
    "start_time": "2021-07-07T14:41:17.192Z"
   },
   {
    "duration": 18,
    "start_time": "2021-07-07T14:41:17.208Z"
   },
   {
    "duration": 5,
    "start_time": "2021-07-07T14:41:17.229Z"
   },
   {
    "duration": 13,
    "start_time": "2021-07-07T14:41:17.236Z"
   },
   {
    "duration": 648,
    "start_time": "2021-07-07T14:41:17.252Z"
   },
   {
    "duration": 6607,
    "start_time": "2021-07-07T16:08:53.812Z"
   },
   {
    "duration": 9094,
    "start_time": "2021-07-07T16:12:37.879Z"
   },
   {
    "duration": 90,
    "start_time": "2021-07-07T16:19:09.070Z"
   },
   {
    "duration": 1914,
    "start_time": "2021-07-07T16:24:03.185Z"
   },
   {
    "duration": 25,
    "start_time": "2021-07-07T16:24:05.102Z"
   },
   {
    "duration": 22,
    "start_time": "2021-07-07T16:24:05.131Z"
   },
   {
    "duration": 12,
    "start_time": "2021-07-07T16:24:05.156Z"
   },
   {
    "duration": 83,
    "start_time": "2021-07-07T16:24:05.170Z"
   },
   {
    "duration": 16,
    "start_time": "2021-07-07T16:24:05.256Z"
   },
   {
    "duration": 9325,
    "start_time": "2021-07-07T16:24:05.275Z"
   },
   {
    "duration": 1845,
    "start_time": "2021-07-07T16:24:14.604Z"
   },
   {
    "duration": 7,
    "start_time": "2021-07-07T16:24:16.454Z"
   },
   {
    "duration": 37,
    "start_time": "2021-07-07T16:24:16.465Z"
   },
   {
    "duration": 8,
    "start_time": "2021-07-07T16:24:16.505Z"
   },
   {
    "duration": 7,
    "start_time": "2021-07-07T16:24:16.516Z"
   },
   {
    "duration": 6,
    "start_time": "2021-07-07T16:24:16.526Z"
   },
   {
    "duration": 308,
    "start_time": "2021-07-07T16:24:16.534Z"
   },
   {
    "duration": 7,
    "start_time": "2021-07-07T16:24:16.844Z"
   },
   {
    "duration": 811,
    "start_time": "2021-07-07T16:24:16.854Z"
   },
   {
    "duration": 134638,
    "start_time": "2021-07-07T16:24:17.668Z"
   },
   {
    "duration": 4,
    "start_time": "2021-07-07T16:26:32.309Z"
   },
   {
    "duration": 1910,
    "start_time": "2021-07-07T16:26:32.315Z"
   },
   {
    "duration": 5,
    "start_time": "2021-07-07T16:26:34.228Z"
   },
   {
    "duration": 12,
    "start_time": "2021-07-07T16:26:34.236Z"
   },
   {
    "duration": 51,
    "start_time": "2021-07-07T16:26:34.251Z"
   },
   {
    "duration": 3872,
    "start_time": "2021-07-07T16:26:34.306Z"
   },
   {
    "duration": 15165,
    "start_time": "2021-07-07T16:26:38.182Z"
   },
   {
    "duration": 6,
    "start_time": "2021-07-07T16:26:53.350Z"
   },
   {
    "duration": 20,
    "start_time": "2021-07-07T16:26:53.358Z"
   },
   {
    "duration": 5,
    "start_time": "2021-07-07T16:26:53.400Z"
   },
   {
    "duration": 21,
    "start_time": "2021-07-07T16:26:53.408Z"
   },
   {
    "duration": 476,
    "start_time": "2021-07-07T16:26:53.432Z"
   },
   {
    "duration": 384920,
    "start_time": "2021-07-07T18:49:59.842Z"
   },
   {
    "duration": 112,
    "start_time": "2021-07-07T19:01:46.516Z"
   },
   {
    "duration": 10952,
    "start_time": "2021-07-07T19:03:13.919Z"
   },
   {
    "duration": 1578,
    "start_time": "2021-07-07T21:56:07.714Z"
   },
   {
    "duration": 20,
    "start_time": "2021-07-07T21:56:09.294Z"
   },
   {
    "duration": 12,
    "start_time": "2021-07-07T21:56:09.316Z"
   },
   {
    "duration": 10,
    "start_time": "2021-07-07T21:56:09.329Z"
   },
   {
    "duration": 35,
    "start_time": "2021-07-07T21:56:09.340Z"
   },
   {
    "duration": 16,
    "start_time": "2021-07-07T21:56:09.376Z"
   },
   {
    "duration": 399,
    "start_time": "2021-07-07T21:56:09.394Z"
   },
   {
    "duration": 694,
    "start_time": "2021-07-07T21:56:09.101Z"
   },
   {
    "duration": 691,
    "start_time": "2021-07-07T21:56:09.105Z"
   },
   {
    "duration": 688,
    "start_time": "2021-07-07T21:56:09.109Z"
   },
   {
    "duration": 680,
    "start_time": "2021-07-07T21:56:09.117Z"
   },
   {
    "duration": 674,
    "start_time": "2021-07-07T21:56:09.124Z"
   },
   {
    "duration": 670,
    "start_time": "2021-07-07T21:56:09.129Z"
   },
   {
    "duration": 667,
    "start_time": "2021-07-07T21:56:09.133Z"
   },
   {
    "duration": 664,
    "start_time": "2021-07-07T21:56:09.137Z"
   },
   {
    "duration": 660,
    "start_time": "2021-07-07T21:56:09.141Z"
   },
   {
    "duration": 657,
    "start_time": "2021-07-07T21:56:09.145Z"
   },
   {
    "duration": 652,
    "start_time": "2021-07-07T21:56:09.151Z"
   },
   {
    "duration": 647,
    "start_time": "2021-07-07T21:56:09.157Z"
   },
   {
    "duration": 642,
    "start_time": "2021-07-07T21:56:09.163Z"
   },
   {
    "duration": 636,
    "start_time": "2021-07-07T21:56:09.170Z"
   },
   {
    "duration": 629,
    "start_time": "2021-07-07T21:56:09.178Z"
   },
   {
    "duration": 548,
    "start_time": "2021-07-07T21:56:09.261Z"
   },
   {
    "duration": 482,
    "start_time": "2021-07-07T21:56:09.327Z"
   },
   {
    "duration": 473,
    "start_time": "2021-07-07T21:56:09.337Z"
   },
   {
    "duration": 470,
    "start_time": "2021-07-07T21:56:09.341Z"
   },
   {
    "duration": 468,
    "start_time": "2021-07-07T21:56:09.344Z"
   },
   {
    "duration": 459,
    "start_time": "2021-07-07T21:56:09.354Z"
   },
   {
    "duration": 455,
    "start_time": "2021-07-07T21:56:09.359Z"
   },
   {
    "duration": 1450,
    "start_time": "2021-07-07T21:57:22.766Z"
   },
   {
    "duration": 20,
    "start_time": "2021-07-07T21:57:24.217Z"
   },
   {
    "duration": 14,
    "start_time": "2021-07-07T21:57:24.239Z"
   },
   {
    "duration": 10,
    "start_time": "2021-07-07T21:57:24.254Z"
   },
   {
    "duration": 36,
    "start_time": "2021-07-07T21:57:24.265Z"
   },
   {
    "duration": 9,
    "start_time": "2021-07-07T21:57:24.302Z"
   },
   {
    "duration": 336,
    "start_time": "2021-07-07T21:57:24.312Z"
   },
   {
    "duration": 709,
    "start_time": "2021-07-07T21:57:23.941Z"
   },
   {
    "duration": 707,
    "start_time": "2021-07-07T21:57:23.945Z"
   },
   {
    "duration": 704,
    "start_time": "2021-07-07T21:57:23.949Z"
   },
   {
    "duration": 698,
    "start_time": "2021-07-07T21:57:23.957Z"
   },
   {
    "duration": 694,
    "start_time": "2021-07-07T21:57:23.962Z"
   },
   {
    "duration": 691,
    "start_time": "2021-07-07T21:57:23.966Z"
   },
   {
    "duration": 679,
    "start_time": "2021-07-07T21:57:23.979Z"
   },
   {
    "duration": 671,
    "start_time": "2021-07-07T21:57:23.989Z"
   },
   {
    "duration": 664,
    "start_time": "2021-07-07T21:57:23.997Z"
   },
   {
    "duration": 660,
    "start_time": "2021-07-07T21:57:24.003Z"
   },
   {
    "duration": 658,
    "start_time": "2021-07-07T21:57:24.006Z"
   },
   {
    "duration": 655,
    "start_time": "2021-07-07T21:57:24.010Z"
   },
   {
    "duration": 652,
    "start_time": "2021-07-07T21:57:24.014Z"
   },
   {
    "duration": 591,
    "start_time": "2021-07-07T21:57:24.077Z"
   },
   {
    "duration": 588,
    "start_time": "2021-07-07T21:57:24.081Z"
   },
   {
    "duration": 581,
    "start_time": "2021-07-07T21:57:24.089Z"
   },
   {
    "duration": 573,
    "start_time": "2021-07-07T21:57:24.098Z"
   },
   {
    "duration": 570,
    "start_time": "2021-07-07T21:57:24.103Z"
   },
   {
    "duration": 567,
    "start_time": "2021-07-07T21:57:24.107Z"
   },
   {
    "duration": 564,
    "start_time": "2021-07-07T21:57:24.111Z"
   },
   {
    "duration": 563,
    "start_time": "2021-07-07T21:57:24.114Z"
   },
   {
    "duration": 559,
    "start_time": "2021-07-07T21:57:24.119Z"
   },
   {
    "duration": 4022,
    "start_time": "2021-07-07T22:00:21.926Z"
   },
   {
    "duration": 225,
    "start_time": "2021-07-07T22:01:34.176Z"
   },
   {
    "duration": 229,
    "start_time": "2021-07-07T22:02:01.933Z"
   },
   {
    "duration": 3324,
    "start_time": "2021-07-07T22:02:55.405Z"
   },
   {
    "duration": 227,
    "start_time": "2021-07-07T22:03:04.307Z"
   },
   {
    "duration": 1451,
    "start_time": "2021-07-07T22:04:34.590Z"
   },
   {
    "duration": 19,
    "start_time": "2021-07-07T22:04:36.043Z"
   },
   {
    "duration": 13,
    "start_time": "2021-07-07T22:04:36.064Z"
   },
   {
    "duration": 10,
    "start_time": "2021-07-07T22:04:36.078Z"
   },
   {
    "duration": 36,
    "start_time": "2021-07-07T22:04:36.089Z"
   },
   {
    "duration": 9,
    "start_time": "2021-07-07T22:04:36.126Z"
   },
   {
    "duration": 2345,
    "start_time": "2021-07-07T22:04:36.136Z"
   },
   {
    "duration": 4776,
    "start_time": "2021-07-07T22:04:38.484Z"
   },
   {
    "duration": 1122,
    "start_time": "2021-07-07T22:04:43.262Z"
   },
   {
    "duration": 5,
    "start_time": "2021-07-07T22:04:44.386Z"
   },
   {
    "duration": 7,
    "start_time": "2021-07-07T22:04:44.393Z"
   },
   {
    "duration": 6,
    "start_time": "2021-07-07T22:04:44.401Z"
   },
   {
    "duration": 8,
    "start_time": "2021-07-07T22:04:44.409Z"
   },
   {
    "duration": 6,
    "start_time": "2021-07-07T22:04:44.418Z"
   },
   {
    "duration": 192,
    "start_time": "2021-07-07T22:04:44.425Z"
   },
   {
    "duration": 6,
    "start_time": "2021-07-07T22:04:44.619Z"
   },
   {
    "duration": 558,
    "start_time": "2021-07-07T22:04:44.627Z"
   },
   {
    "duration": 72593,
    "start_time": "2021-07-07T22:04:45.187Z"
   },
   {
    "duration": 2,
    "start_time": "2021-07-07T22:05:57.782Z"
   },
   {
    "duration": 1309,
    "start_time": "2021-07-07T22:05:57.785Z"
   },
   {
    "duration": 4,
    "start_time": "2021-07-07T22:05:59.096Z"
   },
   {
    "duration": 9,
    "start_time": "2021-07-07T22:05:59.192Z"
   },
   {
    "duration": 19,
    "start_time": "2021-07-07T22:05:59.203Z"
   },
   {
    "duration": 2431,
    "start_time": "2021-07-07T22:05:59.224Z"
   },
   {
    "duration": 7866,
    "start_time": "2021-07-07T22:06:01.658Z"
   },
   {
    "duration": 4,
    "start_time": "2021-07-07T22:06:09.525Z"
   },
   {
    "duration": 14,
    "start_time": "2021-07-07T22:06:09.530Z"
   },
   {
    "duration": 3,
    "start_time": "2021-07-07T22:06:09.546Z"
   },
   {
    "duration": 15,
    "start_time": "2021-07-07T22:06:09.551Z"
   },
   {
    "duration": 264,
    "start_time": "2021-07-07T22:06:09.568Z"
   },
   {
    "duration": 217116,
    "start_time": "2021-07-07T22:16:42.335Z"
   },
   {
    "duration": 2828,
    "start_time": "2021-07-07T22:22:22.371Z"
   },
   {
    "duration": 1337,
    "start_time": "2021-07-07T22:28:55.705Z"
   },
   {
    "duration": 5,
    "start_time": "2021-07-08T19:46:11.774Z"
   },
   {
    "duration": 377,
    "start_time": "2021-07-08T19:46:24.653Z"
   },
   {
    "duration": 361,
    "start_time": "2021-07-08T19:46:56.656Z"
   },
   {
    "duration": 2048,
    "start_time": "2021-07-08T19:47:17.765Z"
   },
   {
    "duration": 61,
    "start_time": "2021-07-08T19:47:19.816Z"
   },
   {
    "duration": 21,
    "start_time": "2021-07-08T19:47:19.880Z"
   },
   {
    "duration": 11,
    "start_time": "2021-07-08T19:47:19.904Z"
   },
   {
    "duration": 86,
    "start_time": "2021-07-08T19:47:19.917Z"
   },
   {
    "duration": 15,
    "start_time": "2021-07-08T19:47:20.005Z"
   },
   {
    "duration": 4931,
    "start_time": "2021-07-08T19:47:20.022Z"
   },
   {
    "duration": 5182,
    "start_time": "2021-07-08T19:47:24.957Z"
   },
   {
    "duration": 544,
    "start_time": "2021-07-08T19:47:30.143Z"
   },
   {
    "duration": -6577,
    "start_time": "2021-07-08T19:47:37.267Z"
   },
   {
    "duration": -6754,
    "start_time": "2021-07-08T19:47:37.445Z"
   },
   {
    "duration": -6766,
    "start_time": "2021-07-08T19:47:37.459Z"
   },
   {
    "duration": -6775,
    "start_time": "2021-07-08T19:47:37.469Z"
   },
   {
    "duration": -6801,
    "start_time": "2021-07-08T19:47:37.497Z"
   },
   {
    "duration": -6931,
    "start_time": "2021-07-08T19:47:37.628Z"
   },
   {
    "duration": -6987,
    "start_time": "2021-07-08T19:47:37.686Z"
   },
   {
    "duration": -7833,
    "start_time": "2021-07-08T19:47:38.534Z"
   },
   {
    "duration": -7842,
    "start_time": "2021-07-08T19:47:38.544Z"
   },
   {
    "duration": -7851,
    "start_time": "2021-07-08T19:47:38.555Z"
   },
   {
    "duration": -7858,
    "start_time": "2021-07-08T19:47:38.563Z"
   },
   {
    "duration": -8863,
    "start_time": "2021-07-08T19:47:39.569Z"
   },
   {
    "duration": -9099,
    "start_time": "2021-07-08T19:47:39.807Z"
   },
   {
    "duration": -9113,
    "start_time": "2021-07-08T19:47:39.822Z"
   },
   {
    "duration": -9281,
    "start_time": "2021-07-08T19:47:39.992Z"
   },
   {
    "duration": -9284,
    "start_time": "2021-07-08T19:47:39.996Z"
   },
   {
    "duration": -9476,
    "start_time": "2021-07-08T19:47:40.190Z"
   },
   {
    "duration": -9480,
    "start_time": "2021-07-08T19:47:40.195Z"
   },
   {
    "duration": -9483,
    "start_time": "2021-07-08T19:47:40.199Z"
   },
   {
    "duration": -9487,
    "start_time": "2021-07-08T19:47:40.205Z"
   },
   {
    "duration": -9669,
    "start_time": "2021-07-08T19:47:40.388Z"
   },
   {
    "duration": -9678,
    "start_time": "2021-07-08T19:47:40.399Z"
   },
   {
    "duration": 2007,
    "start_time": "2021-07-08T19:49:57.859Z"
   },
   {
    "duration": 23,
    "start_time": "2021-07-08T19:49:59.869Z"
   },
   {
    "duration": 21,
    "start_time": "2021-07-08T19:49:59.895Z"
   },
   {
    "duration": 11,
    "start_time": "2021-07-08T19:49:59.919Z"
   },
   {
    "duration": 91,
    "start_time": "2021-07-08T19:49:59.932Z"
   },
   {
    "duration": 15,
    "start_time": "2021-07-08T19:50:00.026Z"
   },
   {
    "duration": 3547,
    "start_time": "2021-07-08T19:50:00.044Z"
   },
   {
    "duration": 5472,
    "start_time": "2021-07-08T19:50:03.595Z"
   },
   {
    "duration": 2391,
    "start_time": "2021-07-08T19:50:09.070Z"
   },
   {
    "duration": 2623,
    "start_time": "2021-07-08T19:50:11.467Z"
   },
   {
    "duration": 6,
    "start_time": "2021-07-08T19:50:14.092Z"
   },
   {
    "duration": 10,
    "start_time": "2021-07-08T19:50:14.101Z"
   },
   {
    "duration": 4,
    "start_time": "2021-07-08T19:50:14.114Z"
   },
   {
    "duration": 6,
    "start_time": "2021-07-08T19:50:14.121Z"
   },
   {
    "duration": 4,
    "start_time": "2021-07-08T19:50:14.172Z"
   },
   {
    "duration": 329,
    "start_time": "2021-07-08T19:50:14.179Z"
   },
   {
    "duration": 7,
    "start_time": "2021-07-08T19:50:14.511Z"
   },
   {
    "duration": 791,
    "start_time": "2021-07-08T19:50:14.521Z"
   },
   {
    "duration": 139063,
    "start_time": "2021-07-08T19:50:15.315Z"
   },
   {
    "duration": 3,
    "start_time": "2021-07-08T19:52:34.380Z"
   },
   {
    "duration": 1791,
    "start_time": "2021-07-08T19:52:34.386Z"
   },
   {
    "duration": 4,
    "start_time": "2021-07-08T19:52:36.179Z"
   },
   {
    "duration": 10,
    "start_time": "2021-07-08T19:52:36.188Z"
   },
   {
    "duration": 51,
    "start_time": "2021-07-08T19:52:36.201Z"
   },
   {
    "duration": 3724,
    "start_time": "2021-07-08T19:52:36.255Z"
   },
   {
    "duration": 15354,
    "start_time": "2021-07-08T19:52:39.982Z"
   },
   {
    "duration": 5,
    "start_time": "2021-07-08T19:52:55.338Z"
   },
   {
    "duration": 35,
    "start_time": "2021-07-08T19:52:55.345Z"
   },
   {
    "duration": 4,
    "start_time": "2021-07-08T19:52:55.383Z"
   },
   {
    "duration": 17,
    "start_time": "2021-07-08T19:52:55.389Z"
   },
   {
    "duration": 505,
    "start_time": "2021-07-08T19:52:55.409Z"
   },
   {
    "duration": 5,
    "start_time": "2021-07-08T20:05:50.672Z"
   },
   {
    "duration": 383,
    "start_time": "2021-07-08T20:05:58.951Z"
   },
   {
    "duration": 5,
    "start_time": "2021-07-08T20:39:54.497Z"
   },
   {
    "duration": 278,
    "start_time": "2021-07-08T20:40:00.334Z"
   },
   {
    "duration": 458,
    "start_time": "2021-07-11T13:32:09.395Z"
   },
   {
    "duration": 2161,
    "start_time": "2021-07-11T13:32:25.832Z"
   },
   {
    "duration": 22,
    "start_time": "2021-07-11T13:32:27.996Z"
   },
   {
    "duration": 21,
    "start_time": "2021-07-11T13:32:28.022Z"
   },
   {
    "duration": 14,
    "start_time": "2021-07-11T13:32:28.045Z"
   },
   {
    "duration": 90,
    "start_time": "2021-07-11T13:32:28.061Z"
   },
   {
    "duration": 16,
    "start_time": "2021-07-11T13:32:28.153Z"
   },
   {
    "duration": 4958,
    "start_time": "2021-07-11T13:32:28.172Z"
   },
   {
    "duration": 5230,
    "start_time": "2021-07-11T13:32:33.134Z"
   },
   {
    "duration": 642,
    "start_time": "2021-07-11T13:32:38.367Z"
   },
   {
    "duration": -292,
    "start_time": "2021-07-11T13:32:39.305Z"
   },
   {
    "duration": -302,
    "start_time": "2021-07-11T13:32:39.316Z"
   },
   {
    "duration": -396,
    "start_time": "2021-07-11T13:32:39.412Z"
   },
   {
    "duration": -429,
    "start_time": "2021-07-11T13:32:39.446Z"
   },
   {
    "duration": -432,
    "start_time": "2021-07-11T13:32:39.451Z"
   },
   {
    "duration": -442,
    "start_time": "2021-07-11T13:32:39.462Z"
   },
   {
    "duration": -451,
    "start_time": "2021-07-11T13:32:39.473Z"
   },
   {
    "duration": -460,
    "start_time": "2021-07-11T13:32:39.483Z"
   },
   {
    "duration": -469,
    "start_time": "2021-07-11T13:32:39.494Z"
   },
   {
    "duration": -480,
    "start_time": "2021-07-11T13:32:39.506Z"
   },
   {
    "duration": -488,
    "start_time": "2021-07-11T13:32:39.516Z"
   },
   {
    "duration": -502,
    "start_time": "2021-07-11T13:32:39.531Z"
   },
   {
    "duration": -511,
    "start_time": "2021-07-11T13:32:39.542Z"
   },
   {
    "duration": -531,
    "start_time": "2021-07-11T13:32:39.563Z"
   },
   {
    "duration": -541,
    "start_time": "2021-07-11T13:32:39.575Z"
   },
   {
    "duration": -551,
    "start_time": "2021-07-11T13:32:39.586Z"
   },
   {
    "duration": -562,
    "start_time": "2021-07-11T13:32:39.599Z"
   },
   {
    "duration": -572,
    "start_time": "2021-07-11T13:32:39.611Z"
   },
   {
    "duration": -581,
    "start_time": "2021-07-11T13:32:39.621Z"
   },
   {
    "duration": -595,
    "start_time": "2021-07-11T13:32:39.636Z"
   },
   {
    "duration": -604,
    "start_time": "2021-07-11T13:32:39.647Z"
   },
   {
    "duration": -617,
    "start_time": "2021-07-11T13:32:39.661Z"
   },
   {
    "duration": 2067,
    "start_time": "2021-07-11T13:33:06.373Z"
   },
   {
    "duration": 24,
    "start_time": "2021-07-11T13:33:08.443Z"
   },
   {
    "duration": 22,
    "start_time": "2021-07-11T13:33:08.470Z"
   },
   {
    "duration": 22,
    "start_time": "2021-07-11T13:33:08.495Z"
   },
   {
    "duration": 68,
    "start_time": "2021-07-11T13:33:08.519Z"
   },
   {
    "duration": 31,
    "start_time": "2021-07-11T13:33:08.589Z"
   },
   {
    "duration": 3546,
    "start_time": "2021-07-11T13:33:08.623Z"
   },
   {
    "duration": 5511,
    "start_time": "2021-07-11T13:33:12.173Z"
   },
   {
    "duration": 2351,
    "start_time": "2021-07-11T13:33:17.687Z"
   },
   {
    "duration": 2081,
    "start_time": "2021-07-11T13:33:20.041Z"
   },
   {
    "duration": 5,
    "start_time": "2021-07-11T13:33:22.125Z"
   },
   {
    "duration": 18,
    "start_time": "2021-07-11T13:33:22.132Z"
   },
   {
    "duration": 7,
    "start_time": "2021-07-11T13:33:22.153Z"
   },
   {
    "duration": 21,
    "start_time": "2021-07-11T13:33:22.163Z"
   },
   {
    "duration": 12,
    "start_time": "2021-07-11T13:33:22.187Z"
   },
   {
    "duration": 263,
    "start_time": "2021-07-11T13:33:22.202Z"
   },
   {
    "duration": 8,
    "start_time": "2021-07-11T13:33:22.467Z"
   },
   {
    "duration": 981,
    "start_time": "2021-07-11T13:33:22.478Z"
   },
   {
    "duration": 5,
    "start_time": "2021-07-11T13:36:08.634Z"
   },
   {
    "duration": 28,
    "start_time": "2021-07-11T13:36:08.642Z"
   },
   {
    "duration": 39,
    "start_time": "2021-07-11T13:36:08.672Z"
   },
   {
    "duration": 16,
    "start_time": "2021-07-11T13:36:08.715Z"
   },
   {
    "duration": 106,
    "start_time": "2021-07-11T13:36:08.735Z"
   },
   {
    "duration": 17,
    "start_time": "2021-07-11T13:36:08.843Z"
   },
   {
    "duration": 3894,
    "start_time": "2021-07-11T13:36:08.864Z"
   },
   {
    "duration": 5737,
    "start_time": "2021-07-11T13:36:12.761Z"
   },
   {
    "duration": 2433,
    "start_time": "2021-07-11T13:36:18.501Z"
   },
   {
    "duration": 1952,
    "start_time": "2021-07-11T13:36:20.936Z"
   },
   {
    "duration": 5,
    "start_time": "2021-07-11T13:36:22.890Z"
   },
   {
    "duration": 8,
    "start_time": "2021-07-11T13:36:22.909Z"
   },
   {
    "duration": 10,
    "start_time": "2021-07-11T13:36:22.920Z"
   },
   {
    "duration": 7,
    "start_time": "2021-07-11T13:36:22.934Z"
   },
   {
    "duration": 6,
    "start_time": "2021-07-11T13:36:22.944Z"
   },
   {
    "duration": 303,
    "start_time": "2021-07-11T13:36:22.953Z"
   },
   {
    "duration": 8,
    "start_time": "2021-07-11T13:36:23.259Z"
   },
   {
    "duration": 846,
    "start_time": "2021-07-11T13:36:23.270Z"
   },
   {
    "duration": 148268,
    "start_time": "2021-07-11T13:36:24.119Z"
   },
   {
    "duration": 4,
    "start_time": "2021-07-11T13:38:52.389Z"
   },
   {
    "duration": 2010,
    "start_time": "2021-07-11T13:38:52.408Z"
   },
   {
    "duration": 5,
    "start_time": "2021-07-11T13:38:54.421Z"
   },
   {
    "duration": 18,
    "start_time": "2021-07-11T13:38:54.428Z"
   },
   {
    "duration": 33,
    "start_time": "2021-07-11T13:38:54.448Z"
   },
   {
    "duration": 3713,
    "start_time": "2021-07-11T13:38:54.483Z"
   },
   {
    "duration": 16255,
    "start_time": "2021-07-11T13:38:58.198Z"
   },
   {
    "duration": 5,
    "start_time": "2021-07-11T13:39:14.457Z"
   },
   {
    "duration": 16,
    "start_time": "2021-07-11T13:39:14.465Z"
   },
   {
    "duration": 5,
    "start_time": "2021-07-11T13:39:14.509Z"
   },
   {
    "duration": 15,
    "start_time": "2021-07-11T13:39:14.526Z"
   },
   {
    "duration": 522,
    "start_time": "2021-07-11T13:39:14.544Z"
   }
  ],
  "kernelspec": {
   "display_name": "Python 3 (ipykernel)",
   "language": "python",
   "name": "python3"
  },
  "language_info": {
   "codemirror_mode": {
    "name": "ipython",
    "version": 3
   },
   "file_extension": ".py",
   "mimetype": "text/x-python",
   "name": "python",
   "nbconvert_exporter": "python",
   "pygments_lexer": "ipython3",
   "version": "3.9.7"
  },
  "toc": {
   "base_numbering": 1,
   "nav_menu": {},
   "number_sections": true,
   "sideBar": true,
   "skip_h1_title": true,
   "title_cell": "Table of Contents",
   "title_sidebar": "Contents",
   "toc_cell": false,
   "toc_position": {},
   "toc_section_display": true,
   "toc_window_display": false
  }
 },
 "nbformat": 4,
 "nbformat_minor": 2
}
