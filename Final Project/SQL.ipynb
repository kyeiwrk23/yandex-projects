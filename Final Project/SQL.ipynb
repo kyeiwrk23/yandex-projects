{
  "metadata": {
    "ExecuteTimeLog": [
      {
        "duration": 917,
        "start_time": "2021-08-11T05:02:19.538Z"
      },
      {
        "duration": 349,
        "start_time": "2021-08-11T05:27:51.703Z"
      },
      {
        "duration": 241,
        "start_time": "2021-08-11T05:30:58.992Z"
      },
      {
        "duration": 41,
        "start_time": "2021-08-11T05:32:26.643Z"
      },
      {
        "duration": 42,
        "start_time": "2021-08-11T05:32:58.085Z"
      },
      {
        "duration": 44,
        "start_time": "2021-08-11T05:33:23.962Z"
      },
      {
        "duration": 44,
        "start_time": "2021-08-11T05:33:45.722Z"
      },
      {
        "duration": 41,
        "start_time": "2021-08-11T05:50:48.991Z"
      },
      {
        "duration": 41,
        "start_time": "2021-08-11T05:51:02.774Z"
      },
      {
        "duration": 41,
        "start_time": "2021-08-11T05:51:37.105Z"
      },
      {
        "duration": 394,
        "start_time": "2021-08-11T06:03:15.051Z"
      },
      {
        "duration": 351,
        "start_time": "2021-08-11T06:04:43.310Z"
      },
      {
        "duration": 332,
        "start_time": "2021-08-11T06:05:10.092Z"
      },
      {
        "duration": 319,
        "start_time": "2021-08-11T06:06:11.440Z"
      },
      {
        "duration": 310,
        "start_time": "2021-08-11T06:09:55.982Z"
      },
      {
        "duration": 323,
        "start_time": "2021-08-11T06:11:35.944Z"
      },
      {
        "duration": 79,
        "start_time": "2021-08-11T06:12:33.295Z"
      },
      {
        "duration": 78,
        "start_time": "2021-08-11T06:15:27.112Z"
      },
      {
        "duration": 78,
        "start_time": "2021-08-11T06:15:46.804Z"
      },
      {
        "duration": 47,
        "start_time": "2021-08-11T06:26:17.086Z"
      },
      {
        "duration": 433,
        "start_time": "2021-08-11T06:30:19.893Z"
      },
      {
        "duration": 622,
        "start_time": "2021-08-11T06:33:10.731Z"
      },
      {
        "duration": 57,
        "start_time": "2021-08-11T06:33:41.961Z"
      },
      {
        "duration": 440,
        "start_time": "2021-08-11T06:34:58.786Z"
      },
      {
        "duration": 59,
        "start_time": "2021-08-11T06:35:04.442Z"
      },
      {
        "duration": 57,
        "start_time": "2021-08-11T06:36:13.925Z"
      },
      {
        "duration": 57,
        "start_time": "2021-08-11T06:37:33.814Z"
      },
      {
        "duration": 57,
        "start_time": "2021-08-11T06:38:31.010Z"
      },
      {
        "duration": 59,
        "start_time": "2021-08-11T06:44:12.774Z"
      },
      {
        "duration": 310,
        "start_time": "2021-08-11T06:50:57.718Z"
      },
      {
        "duration": 347,
        "start_time": "2021-08-11T07:48:55.691Z"
      },
      {
        "duration": 314,
        "start_time": "2021-08-11T07:55:32.335Z"
      },
      {
        "duration": 311,
        "start_time": "2021-08-11T07:56:05.840Z"
      },
      {
        "duration": 40,
        "start_time": "2021-08-11T07:56:46.841Z"
      },
      {
        "duration": 43,
        "start_time": "2021-08-11T07:57:00.452Z"
      },
      {
        "duration": 42,
        "start_time": "2021-08-11T07:57:17.949Z"
      },
      {
        "duration": 42,
        "start_time": "2021-08-11T07:57:51.048Z"
      },
      {
        "duration": 58,
        "start_time": "2021-08-11T07:58:13.027Z"
      },
      {
        "duration": 61,
        "start_time": "2021-08-11T07:59:15.752Z"
      },
      {
        "duration": 337,
        "start_time": "2021-08-11T08:02:52.988Z"
      },
      {
        "duration": 64,
        "start_time": "2021-08-11T08:03:01.407Z"
      },
      {
        "duration": 63,
        "start_time": "2021-08-11T08:03:20.223Z"
      },
      {
        "duration": 316,
        "start_time": "2021-08-11T08:03:56.634Z"
      },
      {
        "duration": 309,
        "start_time": "2021-08-11T08:05:18.774Z"
      },
      {
        "duration": 315,
        "start_time": "2021-08-11T08:05:38.766Z"
      },
      {
        "duration": 52,
        "start_time": "2021-08-11T08:06:02.231Z"
      },
      {
        "duration": 52,
        "start_time": "2021-08-11T08:07:39.798Z"
      },
      {
        "duration": 52,
        "start_time": "2021-08-11T08:13:13.953Z"
      },
      {
        "duration": 53,
        "start_time": "2021-08-11T08:13:32.347Z"
      },
      {
        "duration": 56,
        "start_time": "2021-08-11T08:13:59.738Z"
      },
      {
        "duration": 51,
        "start_time": "2021-08-11T08:14:28.068Z"
      },
      {
        "duration": 53,
        "start_time": "2021-08-11T08:15:04.737Z"
      },
      {
        "duration": 484,
        "start_time": "2021-08-12T00:00:12.179Z"
      },
      {
        "duration": 932,
        "start_time": "2021-08-12T00:00:35.092Z"
      },
      {
        "duration": 51,
        "start_time": "2021-08-12T00:00:36.027Z"
      },
      {
        "duration": 13,
        "start_time": "2021-08-12T00:00:36.083Z"
      },
      {
        "duration": 12,
        "start_time": "2021-08-12T00:00:36.100Z"
      },
      {
        "duration": 13,
        "start_time": "2021-08-12T00:00:36.115Z"
      },
      {
        "duration": 13,
        "start_time": "2021-08-12T00:00:36.131Z"
      },
      {
        "duration": 48,
        "start_time": "2021-08-12T00:00:36.146Z"
      },
      {
        "duration": 30,
        "start_time": "2021-08-12T00:00:36.196Z"
      },
      {
        "duration": 18,
        "start_time": "2021-08-12T00:00:36.229Z"
      },
      {
        "duration": 56,
        "start_time": "2021-08-12T00:00:36.249Z"
      },
      {
        "duration": 325,
        "start_time": "2021-08-12T00:00:36.307Z"
      },
      {
        "duration": 5,
        "start_time": "2021-08-12T00:00:36.634Z"
      },
      {
        "duration": 428,
        "start_time": "2021-08-12T02:56:51.639Z"
      },
      {
        "duration": 371,
        "start_time": "2021-08-12T02:57:02.000Z"
      },
      {
        "duration": 904,
        "start_time": "2021-08-12T02:57:12.578Z"
      },
      {
        "duration": 50,
        "start_time": "2021-08-12T02:57:15.240Z"
      },
      {
        "duration": 13,
        "start_time": "2021-08-12T02:57:59.478Z"
      },
      {
        "duration": 15,
        "start_time": "2021-08-12T02:58:00.630Z"
      },
      {
        "duration": 15,
        "start_time": "2021-08-12T02:58:01.300Z"
      },
      {
        "duration": 13,
        "start_time": "2021-08-12T02:58:05.107Z"
      },
      {
        "duration": 29,
        "start_time": "2021-08-12T02:58:06.910Z"
      },
      {
        "duration": 19,
        "start_time": "2021-08-12T02:58:11.650Z"
      },
      {
        "duration": 23,
        "start_time": "2021-08-12T02:58:33.410Z"
      },
      {
        "duration": 319,
        "start_time": "2021-08-12T02:58:48.770Z"
      },
      {
        "duration": 486,
        "start_time": "2021-08-12T03:03:09.670Z"
      },
      {
        "duration": 113,
        "start_time": "2021-08-12T03:03:26.930Z"
      },
      {
        "duration": 111,
        "start_time": "2021-08-12T03:06:18.030Z"
      },
      {
        "duration": 35,
        "start_time": "2021-08-12T03:12:33.874Z"
      },
      {
        "duration": 416,
        "start_time": "2021-08-12T03:15:29.755Z"
      },
      {
        "duration": 452,
        "start_time": "2021-08-12T03:16:29.657Z"
      },
      {
        "duration": 401,
        "start_time": "2021-08-12T03:17:18.963Z"
      },
      {
        "duration": 25,
        "start_time": "2021-08-12T03:18:12.824Z"
      },
      {
        "duration": 519,
        "start_time": "2021-08-12T07:55:45.758Z"
      },
      {
        "duration": 927,
        "start_time": "2021-08-12T07:56:04.696Z"
      },
      {
        "duration": 49,
        "start_time": "2021-08-12T07:56:05.626Z"
      },
      {
        "duration": 12,
        "start_time": "2021-08-12T07:56:05.678Z"
      },
      {
        "duration": 16,
        "start_time": "2021-08-12T07:56:05.693Z"
      },
      {
        "duration": 14,
        "start_time": "2021-08-12T07:56:05.711Z"
      },
      {
        "duration": 14,
        "start_time": "2021-08-12T07:56:05.727Z"
      },
      {
        "duration": 10,
        "start_time": "2021-08-12T07:56:05.743Z"
      },
      {
        "duration": 62,
        "start_time": "2021-08-12T07:56:05.755Z"
      },
      {
        "duration": 18,
        "start_time": "2021-08-12T07:56:05.821Z"
      },
      {
        "duration": 23,
        "start_time": "2021-08-12T07:56:05.842Z"
      },
      {
        "duration": 483,
        "start_time": "2021-08-12T07:56:05.867Z"
      },
      {
        "duration": 86646,
        "start_time": "2021-08-12T07:54:39.708Z"
      },
      {
        "duration": 365,
        "start_time": "2021-08-12T07:59:24.928Z"
      },
      {
        "duration": 378,
        "start_time": "2021-08-12T08:00:56.638Z"
      },
      {
        "duration": 386,
        "start_time": "2021-08-12T08:05:31.243Z"
      },
      {
        "duration": 385,
        "start_time": "2021-08-12T08:05:57.930Z"
      },
      {
        "duration": 368,
        "start_time": "2021-08-12T08:06:47.294Z"
      },
      {
        "duration": 381,
        "start_time": "2021-08-12T08:07:22.463Z"
      },
      {
        "duration": 17,
        "start_time": "2021-08-12T08:10:01.041Z"
      },
      {
        "duration": 14,
        "start_time": "2021-08-12T08:10:36.254Z"
      },
      {
        "duration": 398,
        "start_time": "2021-08-12T08:29:00.722Z"
      },
      {
        "duration": 29,
        "start_time": "2021-08-12T08:31:07.304Z"
      },
      {
        "duration": 34,
        "start_time": "2021-08-12T08:31:43.654Z"
      },
      {
        "duration": 413,
        "start_time": "2021-08-12T08:39:47.745Z"
      },
      {
        "duration": 31,
        "start_time": "2021-08-12T08:40:09.860Z"
      },
      {
        "duration": 29,
        "start_time": "2021-08-12T08:40:26.914Z"
      },
      {
        "duration": 31,
        "start_time": "2021-08-12T08:40:48.609Z"
      },
      {
        "duration": 3,
        "start_time": "2021-08-12T08:43:34.535Z"
      },
      {
        "duration": 3,
        "start_time": "2021-08-12T08:47:52.402Z"
      },
      {
        "duration": 19,
        "start_time": "2021-08-12T08:56:47.717Z"
      },
      {
        "duration": 20,
        "start_time": "2021-08-12T08:57:13.316Z"
      },
      {
        "duration": 19,
        "start_time": "2021-08-12T08:57:53.959Z"
      },
      {
        "duration": 19,
        "start_time": "2021-08-12T08:59:56.468Z"
      },
      {
        "duration": 21,
        "start_time": "2021-08-12T09:01:05.417Z"
      },
      {
        "duration": 19,
        "start_time": "2021-08-12T09:01:12.787Z"
      },
      {
        "duration": 394,
        "start_time": "2021-08-12T09:03:47.269Z"
      },
      {
        "duration": 30,
        "start_time": "2021-08-12T09:06:41.889Z"
      },
      {
        "duration": 20,
        "start_time": "2021-08-12T09:08:44.731Z"
      },
      {
        "duration": 22,
        "start_time": "2021-08-12T09:11:59.501Z"
      },
      {
        "duration": 24,
        "start_time": "2021-08-12T09:12:19.155Z"
      },
      {
        "duration": 21,
        "start_time": "2021-08-12T09:13:05.751Z"
      },
      {
        "duration": 661,
        "start_time": "2021-08-12T10:43:37.264Z"
      },
      {
        "duration": 241,
        "start_time": "2021-08-12T10:43:37.927Z"
      },
      {
        "duration": 40,
        "start_time": "2021-08-12T10:43:38.170Z"
      },
      {
        "duration": 40,
        "start_time": "2021-08-12T10:43:38.212Z"
      },
      {
        "duration": 42,
        "start_time": "2021-08-12T10:43:38.254Z"
      },
      {
        "duration": 41,
        "start_time": "2021-08-12T10:43:38.298Z"
      },
      {
        "duration": 39,
        "start_time": "2021-08-12T10:43:38.341Z"
      },
      {
        "duration": 77,
        "start_time": "2021-08-12T10:43:38.383Z"
      },
      {
        "duration": 44,
        "start_time": "2021-08-12T10:43:38.462Z"
      },
      {
        "duration": 47,
        "start_time": "2021-08-12T10:43:38.508Z"
      },
      {
        "duration": 41,
        "start_time": "2021-08-12T10:43:38.557Z"
      },
      {
        "duration": 817,
        "start_time": "2021-08-13T06:55:53.896Z"
      },
      {
        "duration": 56,
        "start_time": "2021-08-13T06:55:54.716Z"
      },
      {
        "duration": 12,
        "start_time": "2021-08-13T06:55:54.778Z"
      },
      {
        "duration": 11,
        "start_time": "2021-08-13T06:55:54.793Z"
      },
      {
        "duration": 12,
        "start_time": "2021-08-13T06:55:54.807Z"
      },
      {
        "duration": 46,
        "start_time": "2021-08-13T06:55:54.822Z"
      },
      {
        "duration": 11,
        "start_time": "2021-08-13T06:55:54.871Z"
      },
      {
        "duration": 43,
        "start_time": "2021-08-13T06:55:54.884Z"
      },
      {
        "duration": 27,
        "start_time": "2021-08-13T06:55:54.930Z"
      },
      {
        "duration": 19,
        "start_time": "2021-08-13T06:55:54.960Z"
      },
      {
        "duration": 12,
        "start_time": "2021-08-13T06:55:54.982Z"
      },
      {
        "duration": 269,
        "start_time": "2021-08-13T19:17:31.871Z"
      },
      {
        "duration": 822,
        "start_time": "2021-08-13T19:17:49.100Z"
      },
      {
        "duration": 198,
        "start_time": "2021-08-13T19:17:49.925Z"
      },
      {
        "duration": 36,
        "start_time": "2021-08-13T19:17:50.127Z"
      },
      {
        "duration": 37,
        "start_time": "2021-08-13T19:17:50.165Z"
      },
      {
        "duration": 38,
        "start_time": "2021-08-13T19:17:50.205Z"
      },
      {
        "duration": 39,
        "start_time": "2021-08-13T19:17:50.246Z"
      },
      {
        "duration": 34,
        "start_time": "2021-08-13T19:17:50.287Z"
      },
      {
        "duration": 75,
        "start_time": "2021-08-13T19:17:50.326Z"
      },
      {
        "duration": 40,
        "start_time": "2021-08-13T19:17:50.404Z"
      },
      {
        "duration": 43,
        "start_time": "2021-08-13T19:17:50.447Z"
      },
      {
        "duration": 37,
        "start_time": "2021-08-13T19:17:50.492Z"
      }
    ],
    "kernelspec": {
      "name": "python",
      "display_name": "Pyolite",
      "language": "python"
    },
    "language_info": {
      "codemirror_mode": {
        "name": "python",
        "version": 3
      },
      "file_extension": ".py",
      "mimetype": "text/x-python",
      "name": "python",
      "nbconvert_exporter": "python",
      "pygments_lexer": "ipython3",
      "version": "3.8"
    },
    "toc": {
      "base_numbering": 1,
      "nav_menu": {},
      "number_sections": true,
      "sideBar": true,
      "skip_h1_title": true,
      "title_cell": "Table of Contents",
      "title_sidebar": "Contents",
      "toc_cell": false,
      "toc_position": {},
      "toc_section_display": true,
      "toc_window_display": false
    }
  },
  "nbformat_minor": 4,
  "nbformat": 4,
  "cells": [
    {
      "cell_type": "markdown",
      "source": "# Describe the goals of the study.",
      "metadata": {}
    },
    {
      "cell_type": "markdown",
      "source": "    With the coronavirus which took the entire world by surprise, bringing about less mobility in human activities.\n    City dwellers no longer spent their free time outside, going to cafes and malls; with more people at home, reading\n    books. This phenomena attracted the attention of startups that rushed to develop new apps for book lovers.\n    Given a database of one of the services competing in this market. This contains data on books, publishers, authors, \n    and customer ratings and reviews of books. This information will be used to generate a value proposition for a \n    new product.",
      "metadata": {}
    },
    {
      "cell_type": "code",
      "source": "# import libraries\nimport pandas as pd\nfrom sqlalchemy import create_engine\n\n\ndb_config = {'user': 'practicum_student',         # username\n             'pwd': 's65BlTKV3faNIGhmvJVzOqhs', # password\n             'host': 'rc1b-wcoijxj3yxfsf3fs.mdb.yandexcloud.net',\n             'port': 6432,              # connection port\n             'db': 'data-analyst-final-project-db'}          # the name of the database\n\nconnection_string = 'postgresql://{}:{}@{}:{}/{}'.format(db_config['user'],\n                                                                     db_config['pwd'],\n                                                                       db_config['host'],\n                                                                       db_config['port'],\n                                                                       db_config['db'])\n\nengine = create_engine(connection_string, connect_args={'sslmode':'require'})",
      "metadata": {},
      "execution_count": 1,
      "outputs": []
    },
    {
      "cell_type": "markdown",
      "source": "# Study the tables (print the first rows)",
      "metadata": {}
    },
    {
      "cell_type": "code",
      "source": "# print first 5 rows of books table\npd.read_sql_query('''SELECT * FROM books LIMIT 5;''',con=engine)",
      "metadata": {},
      "execution_count": 2,
      "outputs": [
        {
          "execution_count": 2,
          "output_type": "execute_result",
          "data": {
            "text/html": [
              "<div>\n",
              "<style scoped>\n",
              "    .dataframe tbody tr th:only-of-type {\n",
              "        vertical-align: middle;\n",
              "    }\n",
              "\n",
              "    .dataframe tbody tr th {\n",
              "        vertical-align: top;\n",
              "    }\n",
              "\n",
              "    .dataframe thead th {\n",
              "        text-align: right;\n",
              "    }\n",
              "</style>\n",
              "<table border=\"1\" class=\"dataframe\">\n",
              "  <thead>\n",
              "    <tr style=\"text-align: right;\">\n",
              "      <th></th>\n",
              "      <th>book_id</th>\n",
              "      <th>author_id</th>\n",
              "      <th>title</th>\n",
              "      <th>num_pages</th>\n",
              "      <th>publication_date</th>\n",
              "      <th>publisher_id</th>\n",
              "    </tr>\n",
              "  </thead>\n",
              "  <tbody>\n",
              "    <tr>\n",
              "      <td>0</td>\n",
              "      <td>1</td>\n",
              "      <td>546</td>\n",
              "      <td>'Salem's Lot</td>\n",
              "      <td>594</td>\n",
              "      <td>2005-11-01</td>\n",
              "      <td>93</td>\n",
              "    </tr>\n",
              "    <tr>\n",
              "      <td>1</td>\n",
              "      <td>2</td>\n",
              "      <td>465</td>\n",
              "      <td>1 000 Places to See Before You Die</td>\n",
              "      <td>992</td>\n",
              "      <td>2003-05-22</td>\n",
              "      <td>336</td>\n",
              "    </tr>\n",
              "    <tr>\n",
              "      <td>2</td>\n",
              "      <td>3</td>\n",
              "      <td>407</td>\n",
              "      <td>13 Little Blue Envelopes (Little Blue Envelope...</td>\n",
              "      <td>322</td>\n",
              "      <td>2010-12-21</td>\n",
              "      <td>135</td>\n",
              "    </tr>\n",
              "    <tr>\n",
              "      <td>3</td>\n",
              "      <td>4</td>\n",
              "      <td>82</td>\n",
              "      <td>1491: New Revelations of the Americas Before C...</td>\n",
              "      <td>541</td>\n",
              "      <td>2006-10-10</td>\n",
              "      <td>309</td>\n",
              "    </tr>\n",
              "    <tr>\n",
              "      <td>4</td>\n",
              "      <td>5</td>\n",
              "      <td>125</td>\n",
              "      <td>1776</td>\n",
              "      <td>386</td>\n",
              "      <td>2006-07-04</td>\n",
              "      <td>268</td>\n",
              "    </tr>\n",
              "  </tbody>\n",
              "</table>\n",
              "</div>"
            ],
            "text/plain": [
              "   book_id  author_id                                              title  \\\n",
              "0        1        546                                       'Salem's Lot   \n",
              "1        2        465                 1 000 Places to See Before You Die   \n",
              "2        3        407  13 Little Blue Envelopes (Little Blue Envelope...   \n",
              "3        4         82  1491: New Revelations of the Americas Before C...   \n",
              "4        5        125                                               1776   \n",
              "\n",
              "   num_pages publication_date  publisher_id  \n",
              "0        594       2005-11-01            93  \n",
              "1        992       2003-05-22           336  \n",
              "2        322       2010-12-21           135  \n",
              "3        541       2006-10-10           309  \n",
              "4        386       2006-07-04           268  "
            ]
          },
          "metadata": {}
        }
      ]
    },
    {
      "cell_type": "code",
      "source": "# print first 5 rows of authors table\npd.read_sql_query('''SELECT * FROM authors LIMIT 5;''',con=engine)",
      "metadata": {},
      "execution_count": 3,
      "outputs": [
        {
          "execution_count": 3,
          "output_type": "execute_result",
          "data": {
            "text/html": [
              "<div>\n",
              "<style scoped>\n",
              "    .dataframe tbody tr th:only-of-type {\n",
              "        vertical-align: middle;\n",
              "    }\n",
              "\n",
              "    .dataframe tbody tr th {\n",
              "        vertical-align: top;\n",
              "    }\n",
              "\n",
              "    .dataframe thead th {\n",
              "        text-align: right;\n",
              "    }\n",
              "</style>\n",
              "<table border=\"1\" class=\"dataframe\">\n",
              "  <thead>\n",
              "    <tr style=\"text-align: right;\">\n",
              "      <th></th>\n",
              "      <th>author_id</th>\n",
              "      <th>author</th>\n",
              "    </tr>\n",
              "  </thead>\n",
              "  <tbody>\n",
              "    <tr>\n",
              "      <td>0</td>\n",
              "      <td>1</td>\n",
              "      <td>A.S. Byatt</td>\n",
              "    </tr>\n",
              "    <tr>\n",
              "      <td>1</td>\n",
              "      <td>2</td>\n",
              "      <td>Aesop/Laura Harris/Laura Gibbs</td>\n",
              "    </tr>\n",
              "    <tr>\n",
              "      <td>2</td>\n",
              "      <td>3</td>\n",
              "      <td>Agatha Christie</td>\n",
              "    </tr>\n",
              "    <tr>\n",
              "      <td>3</td>\n",
              "      <td>4</td>\n",
              "      <td>Alan Brennert</td>\n",
              "    </tr>\n",
              "    <tr>\n",
              "      <td>4</td>\n",
              "      <td>5</td>\n",
              "      <td>Alan Moore/David   Lloyd</td>\n",
              "    </tr>\n",
              "  </tbody>\n",
              "</table>\n",
              "</div>"
            ],
            "text/plain": [
              "   author_id                          author\n",
              "0          1                      A.S. Byatt\n",
              "1          2  Aesop/Laura Harris/Laura Gibbs\n",
              "2          3                 Agatha Christie\n",
              "3          4                   Alan Brennert\n",
              "4          5        Alan Moore/David   Lloyd"
            ]
          },
          "metadata": {}
        }
      ]
    },
    {
      "cell_type": "code",
      "source": "# print first 5 rows of publishers table\npd.read_sql_query('''SELECT * FROM publishers LIMIT 5;''',con=engine)",
      "metadata": {},
      "execution_count": 4,
      "outputs": [
        {
          "execution_count": 4,
          "output_type": "execute_result",
          "data": {
            "text/html": [
              "<div>\n",
              "<style scoped>\n",
              "    .dataframe tbody tr th:only-of-type {\n",
              "        vertical-align: middle;\n",
              "    }\n",
              "\n",
              "    .dataframe tbody tr th {\n",
              "        vertical-align: top;\n",
              "    }\n",
              "\n",
              "    .dataframe thead th {\n",
              "        text-align: right;\n",
              "    }\n",
              "</style>\n",
              "<table border=\"1\" class=\"dataframe\">\n",
              "  <thead>\n",
              "    <tr style=\"text-align: right;\">\n",
              "      <th></th>\n",
              "      <th>publisher_id</th>\n",
              "      <th>publisher</th>\n",
              "    </tr>\n",
              "  </thead>\n",
              "  <tbody>\n",
              "    <tr>\n",
              "      <td>0</td>\n",
              "      <td>1</td>\n",
              "      <td>Ace</td>\n",
              "    </tr>\n",
              "    <tr>\n",
              "      <td>1</td>\n",
              "      <td>2</td>\n",
              "      <td>Ace Book</td>\n",
              "    </tr>\n",
              "    <tr>\n",
              "      <td>2</td>\n",
              "      <td>3</td>\n",
              "      <td>Ace Books</td>\n",
              "    </tr>\n",
              "    <tr>\n",
              "      <td>3</td>\n",
              "      <td>4</td>\n",
              "      <td>Ace Hardcover</td>\n",
              "    </tr>\n",
              "    <tr>\n",
              "      <td>4</td>\n",
              "      <td>5</td>\n",
              "      <td>Addison Wesley Publishing Company</td>\n",
              "    </tr>\n",
              "  </tbody>\n",
              "</table>\n",
              "</div>"
            ],
            "text/plain": [
              "   publisher_id                          publisher\n",
              "0             1                                Ace\n",
              "1             2                           Ace Book\n",
              "2             3                          Ace Books\n",
              "3             4                      Ace Hardcover\n",
              "4             5  Addison Wesley Publishing Company"
            ]
          },
          "metadata": {}
        }
      ]
    },
    {
      "cell_type": "code",
      "source": "# print first 5 rows of ratings table\npd.read_sql_query('''SELECT * FROM ratings LIMIT 5;''',con=engine)",
      "metadata": {},
      "execution_count": 5,
      "outputs": [
        {
          "execution_count": 5,
          "output_type": "execute_result",
          "data": {
            "text/html": [
              "<div>\n",
              "<style scoped>\n",
              "    .dataframe tbody tr th:only-of-type {\n",
              "        vertical-align: middle;\n",
              "    }\n",
              "\n",
              "    .dataframe tbody tr th {\n",
              "        vertical-align: top;\n",
              "    }\n",
              "\n",
              "    .dataframe thead th {\n",
              "        text-align: right;\n",
              "    }\n",
              "</style>\n",
              "<table border=\"1\" class=\"dataframe\">\n",
              "  <thead>\n",
              "    <tr style=\"text-align: right;\">\n",
              "      <th></th>\n",
              "      <th>rating_id</th>\n",
              "      <th>book_id</th>\n",
              "      <th>username</th>\n",
              "      <th>rating</th>\n",
              "    </tr>\n",
              "  </thead>\n",
              "  <tbody>\n",
              "    <tr>\n",
              "      <td>0</td>\n",
              "      <td>1</td>\n",
              "      <td>1</td>\n",
              "      <td>ryanfranco</td>\n",
              "      <td>4</td>\n",
              "    </tr>\n",
              "    <tr>\n",
              "      <td>1</td>\n",
              "      <td>2</td>\n",
              "      <td>1</td>\n",
              "      <td>grantpatricia</td>\n",
              "      <td>2</td>\n",
              "    </tr>\n",
              "    <tr>\n",
              "      <td>2</td>\n",
              "      <td>3</td>\n",
              "      <td>1</td>\n",
              "      <td>brandtandrea</td>\n",
              "      <td>5</td>\n",
              "    </tr>\n",
              "    <tr>\n",
              "      <td>3</td>\n",
              "      <td>4</td>\n",
              "      <td>2</td>\n",
              "      <td>lorichen</td>\n",
              "      <td>3</td>\n",
              "    </tr>\n",
              "    <tr>\n",
              "      <td>4</td>\n",
              "      <td>5</td>\n",
              "      <td>2</td>\n",
              "      <td>mariokeller</td>\n",
              "      <td>2</td>\n",
              "    </tr>\n",
              "  </tbody>\n",
              "</table>\n",
              "</div>"
            ],
            "text/plain": [
              "   rating_id  book_id       username  rating\n",
              "0          1        1     ryanfranco       4\n",
              "1          2        1  grantpatricia       2\n",
              "2          3        1   brandtandrea       5\n",
              "3          4        2       lorichen       3\n",
              "4          5        2    mariokeller       2"
            ]
          },
          "metadata": {}
        }
      ]
    },
    {
      "cell_type": "code",
      "source": "# print first 5 rows of reviews table\npd.read_sql_query('''SELECT * FROM reviews LIMIT 5;''',con=engine)",
      "metadata": {},
      "execution_count": 6,
      "outputs": [
        {
          "execution_count": 6,
          "output_type": "execute_result",
          "data": {
            "text/html": [
              "<div>\n",
              "<style scoped>\n",
              "    .dataframe tbody tr th:only-of-type {\n",
              "        vertical-align: middle;\n",
              "    }\n",
              "\n",
              "    .dataframe tbody tr th {\n",
              "        vertical-align: top;\n",
              "    }\n",
              "\n",
              "    .dataframe thead th {\n",
              "        text-align: right;\n",
              "    }\n",
              "</style>\n",
              "<table border=\"1\" class=\"dataframe\">\n",
              "  <thead>\n",
              "    <tr style=\"text-align: right;\">\n",
              "      <th></th>\n",
              "      <th>review_id</th>\n",
              "      <th>book_id</th>\n",
              "      <th>username</th>\n",
              "      <th>text</th>\n",
              "    </tr>\n",
              "  </thead>\n",
              "  <tbody>\n",
              "    <tr>\n",
              "      <td>0</td>\n",
              "      <td>1</td>\n",
              "      <td>1</td>\n",
              "      <td>brandtandrea</td>\n",
              "      <td>Mention society tell send professor analysis. ...</td>\n",
              "    </tr>\n",
              "    <tr>\n",
              "      <td>1</td>\n",
              "      <td>2</td>\n",
              "      <td>1</td>\n",
              "      <td>ryanfranco</td>\n",
              "      <td>Foot glass pretty audience hit themselves. Amo...</td>\n",
              "    </tr>\n",
              "    <tr>\n",
              "      <td>2</td>\n",
              "      <td>3</td>\n",
              "      <td>2</td>\n",
              "      <td>lorichen</td>\n",
              "      <td>Listen treat keep worry. Miss husband tax but ...</td>\n",
              "    </tr>\n",
              "    <tr>\n",
              "      <td>3</td>\n",
              "      <td>4</td>\n",
              "      <td>3</td>\n",
              "      <td>johnsonamanda</td>\n",
              "      <td>Finally month interesting blue could nature cu...</td>\n",
              "    </tr>\n",
              "    <tr>\n",
              "      <td>4</td>\n",
              "      <td>5</td>\n",
              "      <td>3</td>\n",
              "      <td>scotttamara</td>\n",
              "      <td>Nation purpose heavy give wait song will. List...</td>\n",
              "    </tr>\n",
              "  </tbody>\n",
              "</table>\n",
              "</div>"
            ],
            "text/plain": [
              "   review_id  book_id       username  \\\n",
              "0          1        1   brandtandrea   \n",
              "1          2        1     ryanfranco   \n",
              "2          3        2       lorichen   \n",
              "3          4        3  johnsonamanda   \n",
              "4          5        3    scotttamara   \n",
              "\n",
              "                                                text  \n",
              "0  Mention society tell send professor analysis. ...  \n",
              "1  Foot glass pretty audience hit themselves. Amo...  \n",
              "2  Listen treat keep worry. Miss husband tax but ...  \n",
              "3  Finally month interesting blue could nature cu...  \n",
              "4  Nation purpose heavy give wait song will. List...  "
            ]
          },
          "metadata": {}
        }
      ]
    },
    {
      "cell_type": "markdown",
      "source": "# Conclusion",
      "metadata": {}
    },
    {
      "cell_type": "markdown",
      "source": "    we viewed the first 5 rows of each table in the database.books table comprises of 6 columns, authors table \n    comprises of 2 columns, publisher table comprises of 2 columns, ratings table comprises of 4 columns and finally \n    reviews 4 columns",
      "metadata": {}
    },
    {
      "cell_type": "markdown",
      "source": "# Make an SQL query for each of the tasks.",
      "metadata": {}
    },
    {
      "cell_type": "markdown",
      "source": "## Find the number of books released after January 1, 2000",
      "metadata": {}
    },
    {
      "cell_type": "code",
      "source": "pd.read_sql_query('''SELECT \n                       COUNT(book_id) AS number_of_books \n                     FROM books\n                     WHERE publication_date::date > '2000-01-01';''',con=engine)",
      "metadata": {},
      "execution_count": 7,
      "outputs": [
        {
          "execution_count": 7,
          "output_type": "execute_result",
          "data": {
            "text/html": [
              "<div>\n",
              "<style scoped>\n",
              "    .dataframe tbody tr th:only-of-type {\n",
              "        vertical-align: middle;\n",
              "    }\n",
              "\n",
              "    .dataframe tbody tr th {\n",
              "        vertical-align: top;\n",
              "    }\n",
              "\n",
              "    .dataframe thead th {\n",
              "        text-align: right;\n",
              "    }\n",
              "</style>\n",
              "<table border=\"1\" class=\"dataframe\">\n",
              "  <thead>\n",
              "    <tr style=\"text-align: right;\">\n",
              "      <th></th>\n",
              "      <th>number_of_books</th>\n",
              "    </tr>\n",
              "  </thead>\n",
              "  <tbody>\n",
              "    <tr>\n",
              "      <td>0</td>\n",
              "      <td>819</td>\n",
              "    </tr>\n",
              "  </tbody>\n",
              "</table>\n",
              "</div>"
            ],
            "text/plain": [
              "   number_of_books\n",
              "0              819"
            ]
          },
          "metadata": {}
        }
      ]
    },
    {
      "cell_type": "markdown",
      "source": "# Conclusion",
      "metadata": {}
    },
    {
      "cell_type": "markdown",
      "source": "     From the given task the number books released after january 1,2000 is 819 in number.",
      "metadata": {}
    },
    {
      "cell_type": "markdown",
      "source": "## Find the number of user reviews and the average rating for each book.",
      "metadata": {}
    },
    {
      "cell_type": "code",
      "source": "pd.read_sql_query('''SELECT \n                       books.title AS title,\n                       COUNT(reviews.review_id) AS number_of_reviews,\n                       ROUND(AVG(ratings.rating),2) AS average_rating\n                     FROM books\n                     INNER JOIN reviews ON reviews.book_id=books.book_id\n                     INNER JOIN ratings ON ratings.book_id=books.book_id\n                     GROUP BY\n                       books.title\n                     ORDER BY\n                       number_of_reviews DESC,\n                       average_rating DESC;''',con=engine)",
      "metadata": {},
      "execution_count": 8,
      "outputs": [
        {
          "execution_count": 8,
          "output_type": "execute_result",
          "data": {
            "text/html": [
              "<div>\n",
              "<style scoped>\n",
              "    .dataframe tbody tr th:only-of-type {\n",
              "        vertical-align: middle;\n",
              "    }\n",
              "\n",
              "    .dataframe tbody tr th {\n",
              "        vertical-align: top;\n",
              "    }\n",
              "\n",
              "    .dataframe thead th {\n",
              "        text-align: right;\n",
              "    }\n",
              "</style>\n",
              "<table border=\"1\" class=\"dataframe\">\n",
              "  <thead>\n",
              "    <tr style=\"text-align: right;\">\n",
              "      <th></th>\n",
              "      <th>title</th>\n",
              "      <th>number_of_reviews</th>\n",
              "      <th>average_rating</th>\n",
              "    </tr>\n",
              "  </thead>\n",
              "  <tbody>\n",
              "    <tr>\n",
              "      <td>0</td>\n",
              "      <td>Twilight (Twilight  #1)</td>\n",
              "      <td>1120</td>\n",
              "      <td>3.66</td>\n",
              "    </tr>\n",
              "    <tr>\n",
              "      <td>1</td>\n",
              "      <td>The Hobbit  or There and Back Again</td>\n",
              "      <td>528</td>\n",
              "      <td>4.13</td>\n",
              "    </tr>\n",
              "    <tr>\n",
              "      <td>2</td>\n",
              "      <td>The Catcher in the Rye</td>\n",
              "      <td>516</td>\n",
              "      <td>3.83</td>\n",
              "    </tr>\n",
              "    <tr>\n",
              "      <td>3</td>\n",
              "      <td>Harry Potter and the Prisoner of Azkaban (Harr...</td>\n",
              "      <td>492</td>\n",
              "      <td>4.41</td>\n",
              "    </tr>\n",
              "    <tr>\n",
              "      <td>4</td>\n",
              "      <td>Harry Potter and the Chamber of Secrets (Harry...</td>\n",
              "      <td>480</td>\n",
              "      <td>4.29</td>\n",
              "    </tr>\n",
              "    <tr>\n",
              "      <td>...</td>\n",
              "      <td>...</td>\n",
              "      <td>...</td>\n",
              "      <td>...</td>\n",
              "    </tr>\n",
              "    <tr>\n",
              "      <td>988</td>\n",
              "      <td>Death: The High Cost of Living</td>\n",
              "      <td>2</td>\n",
              "      <td>3.00</td>\n",
              "    </tr>\n",
              "    <tr>\n",
              "      <td>989</td>\n",
              "      <td>Moo  Baa  La La La!</td>\n",
              "      <td>2</td>\n",
              "      <td>3.00</td>\n",
              "    </tr>\n",
              "    <tr>\n",
              "      <td>990</td>\n",
              "      <td>History of Beauty</td>\n",
              "      <td>2</td>\n",
              "      <td>2.50</td>\n",
              "    </tr>\n",
              "    <tr>\n",
              "      <td>991</td>\n",
              "      <td>Tsubasa: RESERVoir CHRoNiCLE  Vol. 1</td>\n",
              "      <td>2</td>\n",
              "      <td>2.50</td>\n",
              "    </tr>\n",
              "    <tr>\n",
              "      <td>992</td>\n",
              "      <td>1 000 Places to See Before You Die</td>\n",
              "      <td>2</td>\n",
              "      <td>2.50</td>\n",
              "    </tr>\n",
              "  </tbody>\n",
              "</table>\n",
              "<p>993 rows × 3 columns</p>\n",
              "</div>"
            ],
            "text/plain": [
              "                                                 title  number_of_reviews  \\\n",
              "0                              Twilight (Twilight  #1)               1120   \n",
              "1                  The Hobbit  or There and Back Again                528   \n",
              "2                               The Catcher in the Rye                516   \n",
              "3    Harry Potter and the Prisoner of Azkaban (Harr...                492   \n",
              "4    Harry Potter and the Chamber of Secrets (Harry...                480   \n",
              "..                                                 ...                ...   \n",
              "988                     Death: The High Cost of Living                  2   \n",
              "989                                Moo  Baa  La La La!                  2   \n",
              "990                                  History of Beauty                  2   \n",
              "991               Tsubasa: RESERVoir CHRoNiCLE  Vol. 1                  2   \n",
              "992                 1 000 Places to See Before You Die                  2   \n",
              "\n",
              "     average_rating  \n",
              "0              3.66  \n",
              "1              4.13  \n",
              "2              3.83  \n",
              "3              4.41  \n",
              "4              4.29  \n",
              "..              ...  \n",
              "988            3.00  \n",
              "989            3.00  \n",
              "990            2.50  \n",
              "991            2.50  \n",
              "992            2.50  \n",
              "\n",
              "[993 rows x 3 columns]"
            ]
          },
          "metadata": {}
        }
      ]
    },
    {
      "cell_type": "markdown",
      "source": "# Conclusion",
      "metadata": {}
    },
    {
      "cell_type": "markdown",
      "source": "    There are 993 books in total and out of this the book titled Twilight had the greatest number of reviews at \n    an average rating of 3.66 whiles book titled 1000 places to see before you die has the lowest number of reviews \n    at an average rating of 2.50.",
      "metadata": {}
    },
    {
      "cell_type": "markdown",
      "source": "## Identify the publisher that has released the greatest number of books with more than 50 pages (this will help you exclude brochures and similar publications from your analysis).",
      "metadata": {}
    },
    {
      "cell_type": "code",
      "source": "pd.read_sql_query('''SELECT \n                       publishers.publisher AS publisher,\n                       COUNT(books.book_id) AS number_of_books\n                     FROM books\n                     INNER JOIN publishers ON publishers.publisher_id = books.publisher_id\n                     WHERE books.num_pages > 50\n                     GROUP BY\n                       publishers.publisher\n                     ORDER BY\n                       number_of_books DESC;''',con=engine)",
      "metadata": {},
      "execution_count": 9,
      "outputs": [
        {
          "execution_count": 9,
          "output_type": "execute_result",
          "data": {
            "text/html": [
              "<div>\n",
              "<style scoped>\n",
              "    .dataframe tbody tr th:only-of-type {\n",
              "        vertical-align: middle;\n",
              "    }\n",
              "\n",
              "    .dataframe tbody tr th {\n",
              "        vertical-align: top;\n",
              "    }\n",
              "\n",
              "    .dataframe thead th {\n",
              "        text-align: right;\n",
              "    }\n",
              "</style>\n",
              "<table border=\"1\" class=\"dataframe\">\n",
              "  <thead>\n",
              "    <tr style=\"text-align: right;\">\n",
              "      <th></th>\n",
              "      <th>publisher</th>\n",
              "      <th>number_of_books</th>\n",
              "    </tr>\n",
              "  </thead>\n",
              "  <tbody>\n",
              "    <tr>\n",
              "      <td>0</td>\n",
              "      <td>Penguin Books</td>\n",
              "      <td>42</td>\n",
              "    </tr>\n",
              "    <tr>\n",
              "      <td>1</td>\n",
              "      <td>Vintage</td>\n",
              "      <td>31</td>\n",
              "    </tr>\n",
              "    <tr>\n",
              "      <td>2</td>\n",
              "      <td>Grand Central Publishing</td>\n",
              "      <td>25</td>\n",
              "    </tr>\n",
              "    <tr>\n",
              "      <td>3</td>\n",
              "      <td>Penguin Classics</td>\n",
              "      <td>24</td>\n",
              "    </tr>\n",
              "    <tr>\n",
              "      <td>4</td>\n",
              "      <td>Ballantine Books</td>\n",
              "      <td>19</td>\n",
              "    </tr>\n",
              "    <tr>\n",
              "      <td>...</td>\n",
              "      <td>...</td>\n",
              "      <td>...</td>\n",
              "    </tr>\n",
              "    <tr>\n",
              "      <td>329</td>\n",
              "      <td>Turtleback</td>\n",
              "      <td>1</td>\n",
              "    </tr>\n",
              "    <tr>\n",
              "      <td>330</td>\n",
              "      <td>Atheneum Books for Young Readers: Richard Jack...</td>\n",
              "      <td>1</td>\n",
              "    </tr>\n",
              "    <tr>\n",
              "      <td>331</td>\n",
              "      <td>Penguin Signet</td>\n",
              "      <td>1</td>\n",
              "    </tr>\n",
              "    <tr>\n",
              "      <td>332</td>\n",
              "      <td>Victor Gollancz</td>\n",
              "      <td>1</td>\n",
              "    </tr>\n",
              "    <tr>\n",
              "      <td>333</td>\n",
              "      <td>Harvard Business Review Press</td>\n",
              "      <td>1</td>\n",
              "    </tr>\n",
              "  </tbody>\n",
              "</table>\n",
              "<p>334 rows × 2 columns</p>\n",
              "</div>"
            ],
            "text/plain": [
              "                                             publisher  number_of_books\n",
              "0                                        Penguin Books               42\n",
              "1                                              Vintage               31\n",
              "2                             Grand Central Publishing               25\n",
              "3                                     Penguin Classics               24\n",
              "4                                     Ballantine Books               19\n",
              "..                                                 ...              ...\n",
              "329                                         Turtleback                1\n",
              "330  Atheneum Books for Young Readers: Richard Jack...                1\n",
              "331                                     Penguin Signet                1\n",
              "332                                    Victor Gollancz                1\n",
              "333                      Harvard Business Review Press                1\n",
              "\n",
              "[334 rows x 2 columns]"
            ]
          },
          "metadata": {}
        }
      ]
    },
    {
      "cell_type": "markdown",
      "source": "# Conclusion",
      "metadata": {}
    },
    {
      "cell_type": "markdown",
      "source": "    Also from this task the publisher with the greatest number of books published are Grand Central Publishing,\n    Penguin Books,Black Dog & Leventhal Publishers and Bantam with 3 books published by each publisher.",
      "metadata": {}
    },
    {
      "cell_type": "markdown",
      "source": "## Identify the author with the highest average book rating: look only at books with at least 50 ratings.",
      "metadata": {}
    },
    {
      "cell_type": "code",
      "source": "pd.read_sql_query('''SELECT \n                       authors.author AS author,\n                       ROUND(AVG(ratings.rating),3) AS average_rating,\n                       COUNT(ratings.rating) AS number_of_rating\n                     FROM authors\n                     INNER JOIN books ON books.author_id=authors.author_id\n                     INNER JOIN ratings ON ratings.book_id=books.book_id\n                     GROUP BY\n                       authors.author\n                     HAVING \n                       COUNT(ratings.rating) >= 50\n                     ORDER BY\n                        number_of_rating DESC;''',con=engine)\n\n",
      "metadata": {},
      "execution_count": 10,
      "outputs": [
        {
          "execution_count": 10,
          "output_type": "execute_result",
          "data": {
            "text/html": [
              "<div>\n",
              "<style scoped>\n",
              "    .dataframe tbody tr th:only-of-type {\n",
              "        vertical-align: middle;\n",
              "    }\n",
              "\n",
              "    .dataframe tbody tr th {\n",
              "        vertical-align: top;\n",
              "    }\n",
              "\n",
              "    .dataframe thead th {\n",
              "        text-align: right;\n",
              "    }\n",
              "</style>\n",
              "<table border=\"1\" class=\"dataframe\">\n",
              "  <thead>\n",
              "    <tr style=\"text-align: right;\">\n",
              "      <th></th>\n",
              "      <th>author</th>\n",
              "      <th>average_rating</th>\n",
              "      <th>number_of_rating</th>\n",
              "    </tr>\n",
              "  </thead>\n",
              "  <tbody>\n",
              "    <tr>\n",
              "      <td>0</td>\n",
              "      <td>J.K. Rowling/Mary GrandPré</td>\n",
              "      <td>4.288</td>\n",
              "      <td>312</td>\n",
              "    </tr>\n",
              "    <tr>\n",
              "      <td>1</td>\n",
              "      <td>J.R.R. Tolkien</td>\n",
              "      <td>4.241</td>\n",
              "      <td>166</td>\n",
              "    </tr>\n",
              "    <tr>\n",
              "      <td>2</td>\n",
              "      <td>Stephenie Meyer</td>\n",
              "      <td>3.663</td>\n",
              "      <td>160</td>\n",
              "    </tr>\n",
              "    <tr>\n",
              "      <td>3</td>\n",
              "      <td>Dan Brown</td>\n",
              "      <td>3.741</td>\n",
              "      <td>143</td>\n",
              "    </tr>\n",
              "    <tr>\n",
              "      <td>4</td>\n",
              "      <td>Nicholas Sparks</td>\n",
              "      <td>3.883</td>\n",
              "      <td>111</td>\n",
              "    </tr>\n",
              "    <tr>\n",
              "      <td>5</td>\n",
              "      <td>Stephen King</td>\n",
              "      <td>4.009</td>\n",
              "      <td>106</td>\n",
              "    </tr>\n",
              "    <tr>\n",
              "      <td>6</td>\n",
              "      <td>J.D. Salinger</td>\n",
              "      <td>3.847</td>\n",
              "      <td>98</td>\n",
              "    </tr>\n",
              "    <tr>\n",
              "      <td>7</td>\n",
              "      <td>Rick Riordan</td>\n",
              "      <td>4.131</td>\n",
              "      <td>84</td>\n",
              "    </tr>\n",
              "    <tr>\n",
              "      <td>8</td>\n",
              "      <td>Jodi Picoult</td>\n",
              "      <td>3.882</td>\n",
              "      <td>76</td>\n",
              "    </tr>\n",
              "    <tr>\n",
              "      <td>9</td>\n",
              "      <td>George Orwell/Boris Grabnar/Peter Škerl</td>\n",
              "      <td>3.730</td>\n",
              "      <td>74</td>\n",
              "    </tr>\n",
              "    <tr>\n",
              "      <td>10</td>\n",
              "      <td>John Steinbeck</td>\n",
              "      <td>3.644</td>\n",
              "      <td>73</td>\n",
              "    </tr>\n",
              "    <tr>\n",
              "      <td>11</td>\n",
              "      <td>William Golding</td>\n",
              "      <td>3.901</td>\n",
              "      <td>71</td>\n",
              "    </tr>\n",
              "    <tr>\n",
              "      <td>12</td>\n",
              "      <td>John Grisham</td>\n",
              "      <td>3.971</td>\n",
              "      <td>70</td>\n",
              "    </tr>\n",
              "    <tr>\n",
              "      <td>13</td>\n",
              "      <td>William Shakespeare/Paul Werstine/Barbara A. M...</td>\n",
              "      <td>3.788</td>\n",
              "      <td>66</td>\n",
              "    </tr>\n",
              "    <tr>\n",
              "      <td>14</td>\n",
              "      <td>Lois Lowry</td>\n",
              "      <td>3.738</td>\n",
              "      <td>65</td>\n",
              "    </tr>\n",
              "    <tr>\n",
              "      <td>15</td>\n",
              "      <td>James Patterson</td>\n",
              "      <td>3.859</td>\n",
              "      <td>64</td>\n",
              "    </tr>\n",
              "    <tr>\n",
              "      <td>16</td>\n",
              "      <td>Roald Dahl/Quentin Blake</td>\n",
              "      <td>4.210</td>\n",
              "      <td>62</td>\n",
              "    </tr>\n",
              "    <tr>\n",
              "      <td>17</td>\n",
              "      <td>Sophie Kinsella</td>\n",
              "      <td>3.877</td>\n",
              "      <td>57</td>\n",
              "    </tr>\n",
              "    <tr>\n",
              "      <td>18</td>\n",
              "      <td>Paulo Coelho/Alan R. Clarke/Özdemir İnce</td>\n",
              "      <td>3.789</td>\n",
              "      <td>57</td>\n",
              "    </tr>\n",
              "    <tr>\n",
              "      <td>19</td>\n",
              "      <td>Arthur Golden</td>\n",
              "      <td>4.107</td>\n",
              "      <td>56</td>\n",
              "    </tr>\n",
              "    <tr>\n",
              "      <td>20</td>\n",
              "      <td>Louisa May Alcott</td>\n",
              "      <td>4.204</td>\n",
              "      <td>54</td>\n",
              "    </tr>\n",
              "    <tr>\n",
              "      <td>21</td>\n",
              "      <td>Markus Zusak/Cao Xuân Việt Khương</td>\n",
              "      <td>4.264</td>\n",
              "      <td>53</td>\n",
              "    </tr>\n",
              "    <tr>\n",
              "      <td>22</td>\n",
              "      <td>Agatha Christie</td>\n",
              "      <td>4.283</td>\n",
              "      <td>53</td>\n",
              "    </tr>\n",
              "    <tr>\n",
              "      <td>23</td>\n",
              "      <td>Diana Gabaldon</td>\n",
              "      <td>4.300</td>\n",
              "      <td>50</td>\n",
              "    </tr>\n",
              "  </tbody>\n",
              "</table>\n",
              "</div>"
            ],
            "text/plain": [
              "                                               author  average_rating  \\\n",
              "0                          J.K. Rowling/Mary GrandPré           4.288   \n",
              "1                                      J.R.R. Tolkien           4.241   \n",
              "2                                     Stephenie Meyer           3.663   \n",
              "3                                           Dan Brown           3.741   \n",
              "4                                     Nicholas Sparks           3.883   \n",
              "5                                        Stephen King           4.009   \n",
              "6                                       J.D. Salinger           3.847   \n",
              "7                                        Rick Riordan           4.131   \n",
              "8                                        Jodi Picoult           3.882   \n",
              "9             George Orwell/Boris Grabnar/Peter Škerl           3.730   \n",
              "10                                     John Steinbeck           3.644   \n",
              "11                                    William Golding           3.901   \n",
              "12                                       John Grisham           3.971   \n",
              "13  William Shakespeare/Paul Werstine/Barbara A. M...           3.788   \n",
              "14                                         Lois Lowry           3.738   \n",
              "15                                    James Patterson           3.859   \n",
              "16                           Roald Dahl/Quentin Blake           4.210   \n",
              "17                                    Sophie Kinsella           3.877   \n",
              "18           Paulo Coelho/Alan R. Clarke/Özdemir İnce           3.789   \n",
              "19                                      Arthur Golden           4.107   \n",
              "20                                  Louisa May Alcott           4.204   \n",
              "21                  Markus Zusak/Cao Xuân Việt Khương           4.264   \n",
              "22                                    Agatha Christie           4.283   \n",
              "23                                     Diana Gabaldon           4.300   \n",
              "\n",
              "    number_of_rating  \n",
              "0                312  \n",
              "1                166  \n",
              "2                160  \n",
              "3                143  \n",
              "4                111  \n",
              "5                106  \n",
              "6                 98  \n",
              "7                 84  \n",
              "8                 76  \n",
              "9                 74  \n",
              "10                73  \n",
              "11                71  \n",
              "12                70  \n",
              "13                66  \n",
              "14                65  \n",
              "15                64  \n",
              "16                62  \n",
              "17                57  \n",
              "18                57  \n",
              "19                56  \n",
              "20                54  \n",
              "21                53  \n",
              "22                53  \n",
              "23                50  "
            ]
          },
          "metadata": {}
        }
      ]
    },
    {
      "cell_type": "markdown",
      "source": "# Conclusion",
      "metadata": {}
    },
    {
      "cell_type": "markdown",
      "source": "    The author with the highest average book rating happens to be Diana Gabaldon with an average rating of 4.3 \n    with 50 number of ratings.",
      "metadata": {}
    },
    {
      "cell_type": "markdown",
      "source": "# Find the average number of text reviews among users who rated more than 50 books",
      "metadata": {}
    },
    {
      "cell_type": "code",
      "source": "pd.read_sql_query('''SELECT \n                        round(AVG(sub.number_of_reviews),2) AS average_reviews\n                     FROM \n                        (SELECT\n                            username,\n                            COUNT(reviews.text) AS number_of_reviews\n                        FROM reviews\n                        WHERE \n                           username IN(\n                                SELECT \n                                   username\n                                FROM ratings\n                                GROUP BY\n                                  username\n                                HAVING\n                                   COUNT(ratings.book_id) > 50 \n                                )\n                        GROUP BY\n                           username) AS sub;''',con=engine)\n\n",
      "metadata": {},
      "execution_count": 11,
      "outputs": [
        {
          "execution_count": 11,
          "output_type": "execute_result",
          "data": {
            "text/html": [
              "<div>\n",
              "<style scoped>\n",
              "    .dataframe tbody tr th:only-of-type {\n",
              "        vertical-align: middle;\n",
              "    }\n",
              "\n",
              "    .dataframe tbody tr th {\n",
              "        vertical-align: top;\n",
              "    }\n",
              "\n",
              "    .dataframe thead th {\n",
              "        text-align: right;\n",
              "    }\n",
              "</style>\n",
              "<table border=\"1\" class=\"dataframe\">\n",
              "  <thead>\n",
              "    <tr style=\"text-align: right;\">\n",
              "      <th></th>\n",
              "      <th>average_reviews</th>\n",
              "    </tr>\n",
              "  </thead>\n",
              "  <tbody>\n",
              "    <tr>\n",
              "      <td>0</td>\n",
              "      <td>24.33</td>\n",
              "    </tr>\n",
              "  </tbody>\n",
              "</table>\n",
              "</div>"
            ],
            "text/plain": [
              "   average_reviews\n",
              "0            24.33"
            ]
          },
          "metadata": {}
        }
      ]
    },
    {
      "cell_type": "markdown",
      "source": "# Conclusion",
      "metadata": {}
    },
    {
      "cell_type": "markdown",
      "source": "    The average number of text reviews among users with more than 50 books is 24.33",
      "metadata": {}
    },
    {
      "cell_type": "code",
      "source": "",
      "metadata": {},
      "execution_count": null,
      "outputs": []
    }
  ]
}