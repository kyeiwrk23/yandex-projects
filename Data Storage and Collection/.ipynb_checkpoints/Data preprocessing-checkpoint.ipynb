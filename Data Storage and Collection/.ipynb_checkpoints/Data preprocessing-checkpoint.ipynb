{
 "cells": [
  {
   "cell_type": "markdown",
   "metadata": {},
   "source": [
    "## Analyzing borrowers’ risk of defaulting\n",
    "\n",
    "Your project is to prepare a report for a bank’s loan division. You’ll need to find out if a customer’s marital status and number of children has an impact on whether they will default on a loan. The bank already has some data on customers’ credit worthiness.\n",
    "\n",
    "Your report will be considered when building a **credit scoring** of a potential customer. A ** credit scoring ** is used to evaluate the ability of a potential borrower to repay their loan."
   ]
  },
  {
   "cell_type": "markdown",
   "metadata": {},
   "source": [
    "### Step 1. Open the data file and have a look at the general information. "
   ]
  },
  {
   "cell_type": "code",
   "execution_count": null,
   "metadata": {},
   "outputs": [],
   "source": [
    "import pandas as pd\n",
    "credit_scoring = pd.read_csv('credit_scoring_eng.csv')"
   ]
  },
  {
   "cell_type": "code",
   "execution_count": 2,
   "metadata": {},
   "outputs": [
    {
     "name": "stdout",
     "output_type": "stream",
     "text": [
      "<class 'pandas.core.frame.DataFrame'>\n",
      "RangeIndex: 21525 entries, 0 to 21524\n",
      "Data columns (total 12 columns):\n",
      "children            21525 non-null int64\n",
      "days_employed       19351 non-null float64\n",
      "dob_years           21525 non-null int64\n",
      "education           21525 non-null object\n",
      "education_id        21525 non-null int64\n",
      "family_status       21525 non-null object\n",
      "family_status_id    21525 non-null int64\n",
      "gender              21525 non-null object\n",
      "income_type         21525 non-null object\n",
      "debt                21525 non-null int64\n",
      "total_income        19351 non-null float64\n",
      "purpose             21525 non-null object\n",
      "dtypes: float64(2), int64(5), object(5)\n",
      "memory usage: 2.0+ MB\n"
     ]
    }
   ],
   "source": [
    "credit_scoring.info() # check for missing values in each column or variable"
   ]
  },
  {
   "cell_type": "code",
   "execution_count": 3,
   "metadata": {
    "scrolled": true
   },
   "outputs": [
    {
     "data": {
      "text/plain": [
       "employee                       11119\n",
       "business                        5085\n",
       "retiree                         3856\n",
       "civil servant                   1459\n",
       "unemployed                         2\n",
       "entrepreneur                       2\n",
       "student                            1\n",
       "paternity / maternity leave        1\n",
       "Name: income_type, dtype: int64"
      ]
     },
     "execution_count": 3,
     "metadata": {},
     "output_type": "execute_result"
    }
   ],
   "source": [
    "credit_scoring['income_type'].value_counts()"
   ]
  },
  {
   "cell_type": "code",
   "execution_count": 4,
   "metadata": {},
   "outputs": [
    {
     "data": {
      "text/plain": [
       "married              12380\n",
       "civil partnership     4177\n",
       "unmarried             2813\n",
       "divorced              1195\n",
       "widow / widower        960\n",
       "Name: family_status, dtype: int64"
      ]
     },
     "execution_count": 4,
     "metadata": {},
     "output_type": "execute_result"
    }
   ],
   "source": [
    "credit_scoring['family_status'].value_counts()"
   ]
  },
  {
   "cell_type": "code",
   "execution_count": 5,
   "metadata": {},
   "outputs": [
    {
     "data": {
      "text/html": [
       "<div>\n",
       "<style scoped>\n",
       "    .dataframe tbody tr th:only-of-type {\n",
       "        vertical-align: middle;\n",
       "    }\n",
       "\n",
       "    .dataframe tbody tr th {\n",
       "        vertical-align: top;\n",
       "    }\n",
       "\n",
       "    .dataframe thead th {\n",
       "        text-align: right;\n",
       "    }\n",
       "</style>\n",
       "<table border=\"1\" class=\"dataframe\">\n",
       "  <thead>\n",
       "    <tr style=\"text-align: right;\">\n",
       "      <th></th>\n",
       "      <th>children</th>\n",
       "      <th>days_employed</th>\n",
       "      <th>dob_years</th>\n",
       "      <th>education</th>\n",
       "      <th>education_id</th>\n",
       "      <th>family_status</th>\n",
       "      <th>family_status_id</th>\n",
       "      <th>gender</th>\n",
       "      <th>income_type</th>\n",
       "      <th>debt</th>\n",
       "      <th>total_income</th>\n",
       "      <th>purpose</th>\n",
       "    </tr>\n",
       "  </thead>\n",
       "  <tbody>\n",
       "    <tr>\n",
       "      <td>0</td>\n",
       "      <td>1</td>\n",
       "      <td>-8437.673028</td>\n",
       "      <td>42</td>\n",
       "      <td>bachelor's degree</td>\n",
       "      <td>0</td>\n",
       "      <td>married</td>\n",
       "      <td>0</td>\n",
       "      <td>F</td>\n",
       "      <td>employee</td>\n",
       "      <td>0</td>\n",
       "      <td>40620.102</td>\n",
       "      <td>purchase of the house</td>\n",
       "    </tr>\n",
       "    <tr>\n",
       "      <td>1</td>\n",
       "      <td>1</td>\n",
       "      <td>-4024.803754</td>\n",
       "      <td>36</td>\n",
       "      <td>secondary education</td>\n",
       "      <td>1</td>\n",
       "      <td>married</td>\n",
       "      <td>0</td>\n",
       "      <td>F</td>\n",
       "      <td>employee</td>\n",
       "      <td>0</td>\n",
       "      <td>17932.802</td>\n",
       "      <td>car purchase</td>\n",
       "    </tr>\n",
       "    <tr>\n",
       "      <td>2</td>\n",
       "      <td>0</td>\n",
       "      <td>-5623.422610</td>\n",
       "      <td>33</td>\n",
       "      <td>Secondary Education</td>\n",
       "      <td>1</td>\n",
       "      <td>married</td>\n",
       "      <td>0</td>\n",
       "      <td>M</td>\n",
       "      <td>employee</td>\n",
       "      <td>0</td>\n",
       "      <td>23341.752</td>\n",
       "      <td>purchase of the house</td>\n",
       "    </tr>\n",
       "    <tr>\n",
       "      <td>3</td>\n",
       "      <td>3</td>\n",
       "      <td>-4124.747207</td>\n",
       "      <td>32</td>\n",
       "      <td>secondary education</td>\n",
       "      <td>1</td>\n",
       "      <td>married</td>\n",
       "      <td>0</td>\n",
       "      <td>M</td>\n",
       "      <td>employee</td>\n",
       "      <td>0</td>\n",
       "      <td>42820.568</td>\n",
       "      <td>supplementary education</td>\n",
       "    </tr>\n",
       "    <tr>\n",
       "      <td>4</td>\n",
       "      <td>0</td>\n",
       "      <td>340266.072047</td>\n",
       "      <td>53</td>\n",
       "      <td>secondary education</td>\n",
       "      <td>1</td>\n",
       "      <td>civil partnership</td>\n",
       "      <td>1</td>\n",
       "      <td>F</td>\n",
       "      <td>retiree</td>\n",
       "      <td>0</td>\n",
       "      <td>25378.572</td>\n",
       "      <td>to have a wedding</td>\n",
       "    </tr>\n",
       "    <tr>\n",
       "      <td>5</td>\n",
       "      <td>0</td>\n",
       "      <td>-926.185831</td>\n",
       "      <td>27</td>\n",
       "      <td>bachelor's degree</td>\n",
       "      <td>0</td>\n",
       "      <td>civil partnership</td>\n",
       "      <td>1</td>\n",
       "      <td>M</td>\n",
       "      <td>business</td>\n",
       "      <td>0</td>\n",
       "      <td>40922.170</td>\n",
       "      <td>purchase of the house</td>\n",
       "    </tr>\n",
       "    <tr>\n",
       "      <td>6</td>\n",
       "      <td>0</td>\n",
       "      <td>-2879.202052</td>\n",
       "      <td>43</td>\n",
       "      <td>bachelor's degree</td>\n",
       "      <td>0</td>\n",
       "      <td>married</td>\n",
       "      <td>0</td>\n",
       "      <td>F</td>\n",
       "      <td>business</td>\n",
       "      <td>0</td>\n",
       "      <td>38484.156</td>\n",
       "      <td>housing transactions</td>\n",
       "    </tr>\n",
       "    <tr>\n",
       "      <td>7</td>\n",
       "      <td>0</td>\n",
       "      <td>-152.779569</td>\n",
       "      <td>50</td>\n",
       "      <td>SECONDARY EDUCATION</td>\n",
       "      <td>1</td>\n",
       "      <td>married</td>\n",
       "      <td>0</td>\n",
       "      <td>M</td>\n",
       "      <td>employee</td>\n",
       "      <td>0</td>\n",
       "      <td>21731.829</td>\n",
       "      <td>education</td>\n",
       "    </tr>\n",
       "    <tr>\n",
       "      <td>8</td>\n",
       "      <td>2</td>\n",
       "      <td>-6929.865299</td>\n",
       "      <td>35</td>\n",
       "      <td>BACHELOR'S DEGREE</td>\n",
       "      <td>0</td>\n",
       "      <td>civil partnership</td>\n",
       "      <td>1</td>\n",
       "      <td>F</td>\n",
       "      <td>employee</td>\n",
       "      <td>0</td>\n",
       "      <td>15337.093</td>\n",
       "      <td>having a wedding</td>\n",
       "    </tr>\n",
       "    <tr>\n",
       "      <td>9</td>\n",
       "      <td>0</td>\n",
       "      <td>-2188.756445</td>\n",
       "      <td>41</td>\n",
       "      <td>secondary education</td>\n",
       "      <td>1</td>\n",
       "      <td>married</td>\n",
       "      <td>0</td>\n",
       "      <td>M</td>\n",
       "      <td>employee</td>\n",
       "      <td>0</td>\n",
       "      <td>23108.150</td>\n",
       "      <td>purchase of the house for my family</td>\n",
       "    </tr>\n",
       "  </tbody>\n",
       "</table>\n",
       "</div>"
      ],
      "text/plain": [
       "   children  days_employed  dob_years            education  education_id  \\\n",
       "0         1   -8437.673028         42    bachelor's degree             0   \n",
       "1         1   -4024.803754         36  secondary education             1   \n",
       "2         0   -5623.422610         33  Secondary Education             1   \n",
       "3         3   -4124.747207         32  secondary education             1   \n",
       "4         0  340266.072047         53  secondary education             1   \n",
       "5         0    -926.185831         27    bachelor's degree             0   \n",
       "6         0   -2879.202052         43    bachelor's degree             0   \n",
       "7         0    -152.779569         50  SECONDARY EDUCATION             1   \n",
       "8         2   -6929.865299         35    BACHELOR'S DEGREE             0   \n",
       "9         0   -2188.756445         41  secondary education             1   \n",
       "\n",
       "       family_status  family_status_id gender income_type  debt  total_income  \\\n",
       "0            married                 0      F    employee     0     40620.102   \n",
       "1            married                 0      F    employee     0     17932.802   \n",
       "2            married                 0      M    employee     0     23341.752   \n",
       "3            married                 0      M    employee     0     42820.568   \n",
       "4  civil partnership                 1      F     retiree     0     25378.572   \n",
       "5  civil partnership                 1      M    business     0     40922.170   \n",
       "6            married                 0      F    business     0     38484.156   \n",
       "7            married                 0      M    employee     0     21731.829   \n",
       "8  civil partnership                 1      F    employee     0     15337.093   \n",
       "9            married                 0      M    employee     0     23108.150   \n",
       "\n",
       "                               purpose  \n",
       "0                purchase of the house  \n",
       "1                         car purchase  \n",
       "2                purchase of the house  \n",
       "3              supplementary education  \n",
       "4                    to have a wedding  \n",
       "5                purchase of the house  \n",
       "6                 housing transactions  \n",
       "7                            education  \n",
       "8                     having a wedding  \n",
       "9  purchase of the house for my family  "
      ]
     },
     "execution_count": 5,
     "metadata": {},
     "output_type": "execute_result"
    }
   ],
   "source": [
    "credit_scoring.head(10)"
   ]
  },
  {
   "cell_type": "markdown",
   "metadata": {},
   "source": [
    " Conclusion"
   ]
  },
  {
   "cell_type": "markdown",
   "metadata": {},
   "source": [
    "From credit_scoring 2174 entries for days_employed and total_income columns are NaN(null) which means that without the number of days_worked the total_income of customers cannot be determined. Also days_employed variable has negative values which is not possible to have negative values for that variable this can be attributed to the floating point datatype."
   ]
  },
  {
   "cell_type": "code",
   "execution_count": null,
   "metadata": {},
   "outputs": [],
   "source": []
  },
  {
   "cell_type": "markdown",
   "metadata": {},
   "source": [
    "### Step 2. Data preprocessing"
   ]
  },
  {
   "cell_type": "markdown",
   "metadata": {},
   "source": [
    "### Processing missing values"
   ]
  },
  {
   "cell_type": "code",
   "execution_count": 6,
   "metadata": {},
   "outputs": [
    {
     "data": {
      "text/html": [
       "<div>\n",
       "<style scoped>\n",
       "    .dataframe tbody tr th:only-of-type {\n",
       "        vertical-align: middle;\n",
       "    }\n",
       "\n",
       "    .dataframe tbody tr th {\n",
       "        vertical-align: top;\n",
       "    }\n",
       "\n",
       "    .dataframe thead th {\n",
       "        text-align: right;\n",
       "    }\n",
       "</style>\n",
       "<table border=\"1\" class=\"dataframe\">\n",
       "  <thead>\n",
       "    <tr style=\"text-align: right;\">\n",
       "      <th></th>\n",
       "      <th>children</th>\n",
       "      <th>days_employed</th>\n",
       "      <th>dob_years</th>\n",
       "      <th>education</th>\n",
       "      <th>education_id</th>\n",
       "      <th>family_status</th>\n",
       "      <th>family_status_id</th>\n",
       "      <th>gender</th>\n",
       "      <th>income_type</th>\n",
       "      <th>debt</th>\n",
       "      <th>total_income</th>\n",
       "      <th>purpose</th>\n",
       "    </tr>\n",
       "  </thead>\n",
       "  <tbody>\n",
       "    <tr>\n",
       "      <td>12</td>\n",
       "      <td>0</td>\n",
       "      <td>NaN</td>\n",
       "      <td>65</td>\n",
       "      <td>secondary education</td>\n",
       "      <td>1</td>\n",
       "      <td>civil partnership</td>\n",
       "      <td>1</td>\n",
       "      <td>M</td>\n",
       "      <td>retiree</td>\n",
       "      <td>0</td>\n",
       "      <td>NaN</td>\n",
       "      <td>to have a wedding</td>\n",
       "    </tr>\n",
       "    <tr>\n",
       "      <td>26</td>\n",
       "      <td>0</td>\n",
       "      <td>NaN</td>\n",
       "      <td>41</td>\n",
       "      <td>secondary education</td>\n",
       "      <td>1</td>\n",
       "      <td>married</td>\n",
       "      <td>0</td>\n",
       "      <td>M</td>\n",
       "      <td>civil servant</td>\n",
       "      <td>0</td>\n",
       "      <td>NaN</td>\n",
       "      <td>education</td>\n",
       "    </tr>\n",
       "    <tr>\n",
       "      <td>29</td>\n",
       "      <td>0</td>\n",
       "      <td>NaN</td>\n",
       "      <td>63</td>\n",
       "      <td>secondary education</td>\n",
       "      <td>1</td>\n",
       "      <td>unmarried</td>\n",
       "      <td>4</td>\n",
       "      <td>F</td>\n",
       "      <td>retiree</td>\n",
       "      <td>0</td>\n",
       "      <td>NaN</td>\n",
       "      <td>building a real estate</td>\n",
       "    </tr>\n",
       "    <tr>\n",
       "      <td>41</td>\n",
       "      <td>0</td>\n",
       "      <td>NaN</td>\n",
       "      <td>50</td>\n",
       "      <td>secondary education</td>\n",
       "      <td>1</td>\n",
       "      <td>married</td>\n",
       "      <td>0</td>\n",
       "      <td>F</td>\n",
       "      <td>civil servant</td>\n",
       "      <td>0</td>\n",
       "      <td>NaN</td>\n",
       "      <td>second-hand car purchase</td>\n",
       "    </tr>\n",
       "    <tr>\n",
       "      <td>55</td>\n",
       "      <td>0</td>\n",
       "      <td>NaN</td>\n",
       "      <td>54</td>\n",
       "      <td>secondary education</td>\n",
       "      <td>1</td>\n",
       "      <td>civil partnership</td>\n",
       "      <td>1</td>\n",
       "      <td>F</td>\n",
       "      <td>retiree</td>\n",
       "      <td>1</td>\n",
       "      <td>NaN</td>\n",
       "      <td>to have a wedding</td>\n",
       "    </tr>\n",
       "  </tbody>\n",
       "</table>\n",
       "</div>"
      ],
      "text/plain": [
       "    children  days_employed  dob_years            education  education_id  \\\n",
       "12         0            NaN         65  secondary education             1   \n",
       "26         0            NaN         41  secondary education             1   \n",
       "29         0            NaN         63  secondary education             1   \n",
       "41         0            NaN         50  secondary education             1   \n",
       "55         0            NaN         54  secondary education             1   \n",
       "\n",
       "        family_status  family_status_id gender    income_type  debt  \\\n",
       "12  civil partnership                 1      M        retiree     0   \n",
       "26            married                 0      M  civil servant     0   \n",
       "29          unmarried                 4      F        retiree     0   \n",
       "41            married                 0      F  civil servant     0   \n",
       "55  civil partnership                 1      F        retiree     1   \n",
       "\n",
       "    total_income                   purpose  \n",
       "12           NaN         to have a wedding  \n",
       "26           NaN                 education  \n",
       "29           NaN    building a real estate  \n",
       "41           NaN  second-hand car purchase  \n",
       "55           NaN         to have a wedding  "
      ]
     },
     "execution_count": 6,
     "metadata": {},
     "output_type": "execute_result"
    }
   ],
   "source": [
    "# checking all missing values in the dataset\n",
    "data = credit_scoring\n",
    "data[data['days_employed'].isnull()].head()"
   ]
  },
  {
   "cell_type": "code",
   "execution_count": 7,
   "metadata": {
    "scrolled": true
   },
   "outputs": [],
   "source": [
    "data['days_employed'] = data['days_employed'].abs() # take absolute values of days_employed variable \n"
   ]
  },
  {
   "cell_type": "code",
   "execution_count": 8,
   "metadata": {},
   "outputs": [],
   "source": [
    "data['days_employed'] = data['days_employed'].fillna(0) # Fill all null values in days_employed column with 0"
   ]
  },
  {
   "cell_type": "code",
   "execution_count": null,
   "metadata": {},
   "outputs": [],
   "source": []
  },
  {
   "cell_type": "code",
   "execution_count": 9,
   "metadata": {},
   "outputs": [],
   "source": [
    "income_level_value = data['income_type'].unique() # store all unique values of income type in a list"
   ]
  },
  {
   "cell_type": "code",
   "execution_count": 10,
   "metadata": {},
   "outputs": [],
   "source": [
    "median_age = data.groupby('income_type').agg({'dob_years':['median']}) # find the median age for all income levels\n",
    "age = median_age['dob_years']['median']\n",
    "\n",
    "# Fill  all ages with zero(0) values  of income levels with their median age\n",
    "for levels in income_level_value:\n",
    "    data.loc[(data['income_type']==levels )& (data['dob_years']==0),'dob_years']= age[levels]\n",
    "\n"
   ]
  },
  {
   "cell_type": "code",
   "execution_count": 12,
   "metadata": {},
   "outputs": [],
   "source": [
    "# find the average income for all persons belonging to a particular income level\n",
    "mean_income_level = data.groupby('income_type').agg({'total_income':['mean']}) \n",
    "income_level = mean_income_level['total_income']['mean']\n",
    "\n",
    "# fill all null income variables with their respective average incomes from all levels\n",
    "for var in income_level_value:\n",
    "    data.loc[(data['income_type'] == var) & (data['total_income'].isnull()),'total_income'] = income_level[var]\n"
   ]
  },
  {
   "cell_type": "code",
   "execution_count": 14,
   "metadata": {},
   "outputs": [],
   "source": [
    "#find average  number of days employed for each income level\n",
    "median_days_worked = data.groupby('income_type').agg({'days_employed':['mean']})\n",
    "days_worked = median_days_worked['days_employed']['mean']\n",
    "\n",
    "\n",
    "# fill all days_employed values of zero(0) with the mean of each income levels \n",
    "for days in income_level_value:\n",
    "    data.loc[(data['income_type'] == days) & (data['days_employed']==0.0),'days_employed'] = days_worked[days]\n",
    "\n",
    "\n"
   ]
  },
  {
   "cell_type": "code",
   "execution_count": 15,
   "metadata": {},
   "outputs": [],
   "source": [
    "# change all education values to lower case \n",
    "data['education'] = data['education'].str.lower()"
   ]
  },
  {
   "cell_type": "code",
   "execution_count": 16,
   "metadata": {},
   "outputs": [],
   "source": [
    "data['children'] = data['children'].abs() #take the absolute of the children column"
   ]
  },
  {
   "cell_type": "code",
   "execution_count": 17,
   "metadata": {},
   "outputs": [],
   "source": [
    "# Take the absolute value of days_employed\n",
    "data['days_employed'] = abs(data['days_employed'])"
   ]
  },
  {
   "cell_type": "code",
   "execution_count": 18,
   "metadata": {},
   "outputs": [],
   "source": [
    "# Round the number of days employed to the nearest integer to get the number of days worked \n",
    "data['days_employed'] = round(data['days_employed'])"
   ]
  },
  {
   "cell_type": "code",
   "execution_count": 19,
   "metadata": {},
   "outputs": [],
   "source": [
    "# Change number of days to number of months\n",
    "data['months_employed'] = round(data['days_employed']/30).astype('int16')"
   ]
  },
  {
   "cell_type": "code",
   "execution_count": null,
   "metadata": {},
   "outputs": [],
   "source": []
  },
  {
   "cell_type": "markdown",
   "metadata": {},
   "source": [
    "### Conclusion"
   ]
  },
  {
   "cell_type": "markdown",
   "metadata": {},
   "source": [
    "    In days_employed column all NaN values was replaced with zeros(0).The absolute value was then taken which \n",
    "    turns all negatives to positives.The values then rounded to get the nearest integer which then gives the number\n",
    "    of days employed for all income levels.In addition to this,the average number of days_employed for each income \n",
    "    level was calculated. The mean for each income level was used to replace each zero(0) value for each income level\n",
    "    respectively.Out of this, months_employed column was created which can be use as an indicator for awarding loans to \n",
    "    customers based on the years of experience or the number of years worked in the current company.\n",
    "    \n",
    "     Secondly the median age of each income level was calculated and used as the value for each dob_years and its \n",
    "     corresponding income level.Also, average total income was calculated based on each income level and the value \n",
    "     used to replace NaN values "
   ]
  },
  {
   "cell_type": "code",
   "execution_count": 23,
   "metadata": {},
   "outputs": [
    {
     "data": {
      "text/plain": [
       "count     21525.000000\n",
       "mean      66582.933333\n",
       "std      137868.492155\n",
       "min          24.000000\n",
       "25%        1026.000000\n",
       "50%        2095.000000\n",
       "75%        5347.000000\n",
       "max      401755.000000\n",
       "Name: days_employed, dtype: float64"
      ]
     },
     "execution_count": 23,
     "metadata": {},
     "output_type": "execute_result"
    }
   ],
   "source": [
    "# Describe features\n",
    "data['days_employed'].describe()"
   ]
  },
  {
   "cell_type": "markdown",
   "metadata": {},
   "source": [
    "### Data type replacement"
   ]
  },
  {
   "cell_type": "code",
   "execution_count": 24,
   "metadata": {},
   "outputs": [],
   "source": [
    "# Concert int64 data type to int16 datatype for all variables that stores smallinteger values\n",
    "data['children'] = data['children'].astype('int16')\n",
    "data['dob_years'] = data['dob_years'].astype('int16')  # convert from floating point datatype to integer datatype\n",
    "data['education_id'] = data['education_id'].astype('int16')\n",
    "data['family_status_id'] = data['family_status_id'].astype('int16')\n",
    "data['debt'] = data['debt'].astype('int16')\n",
    "data['children'] = data['children'].astype('int16')  # convert from floating point datatype to integer datatype\n",
    "\n",
    "# total_income rounded off to a precision of 2 decimal places\n",
    "data['total_income'] = round(data['total_income'])\n"
   ]
  },
  {
   "cell_type": "code",
   "execution_count": 25,
   "metadata": {},
   "outputs": [
    {
     "data": {
      "text/plain": [
       "3307.0"
      ]
     },
     "execution_count": 25,
     "metadata": {},
     "output_type": "execute_result"
    }
   ],
   "source": [
    "data['total_income'].min()"
   ]
  },
  {
   "cell_type": "markdown",
   "metadata": {},
   "source": [
    "### Conclusion"
   ]
  },
  {
   "cell_type": "markdown",
   "metadata": {},
   "source": [
    "    Changed all variables storing smaller integer values to int16 and also changed floating point datatype of  \n",
    "    dob_years to int16. In addition to this floating point value of total_income was rounded off to the 1  decimal "
   ]
  },
  {
   "cell_type": "code",
   "execution_count": null,
   "metadata": {},
   "outputs": [],
   "source": []
  },
  {
   "cell_type": "markdown",
   "metadata": {},
   "source": [
    "### Processing duplicates"
   ]
  },
  {
   "cell_type": "code",
   "execution_count": 26,
   "metadata": {},
   "outputs": [
    {
     "data": {
      "text/plain": [
       "71"
      ]
     },
     "execution_count": 26,
     "metadata": {},
     "output_type": "execute_result"
    }
   ],
   "source": [
    "# check for duplicates in the dataset\n",
    "data.duplicated().sum() "
   ]
  },
  {
   "cell_type": "code",
   "execution_count": 27,
   "metadata": {},
   "outputs": [],
   "source": [
    "# seek to drop all duplicates appearing in all fields of the dataset\n",
    "data.drop_duplicates(inplace=True)"
   ]
  },
  {
   "cell_type": "markdown",
   "metadata": {},
   "source": [
    "### Conclusion"
   ]
  },
  {
   "cell_type": "markdown",
   "metadata": {},
   "source": [
    "used drop_duplicate function to drop all duplicated entries in the data"
   ]
  },
  {
   "cell_type": "markdown",
   "metadata": {},
   "source": [
    "### Categorizing Data"
   ]
  },
  {
   "cell_type": "code",
   "execution_count": 28,
   "metadata": {},
   "outputs": [],
   "source": [
    "def purpose_new(value):\n",
    "    if 'wedding' in value:\n",
    "        return 'Prepare for wedding'\n",
    "    elif 'car' in value:\n",
    "        return 'purchase a car'\n",
    "    elif 'educat'  in value or 'university' in value:\n",
    "        return 'getting education'\n",
    "    elif 'propert' in value:\n",
    "        return 'build property'\n",
    "    elif 'real estate' in value:\n",
    "        return 'real estate'\n",
    "    elif 'hous' in value:\n",
    "        return 'purchase a house'\n",
    "    else:\n",
    "        return value"
   ]
  },
  {
   "cell_type": "code",
   "execution_count": 29,
   "metadata": {},
   "outputs": [],
   "source": [
    "data['purpose_group'] = data['purpose'].apply(purpose_new)"
   ]
  },
  {
   "cell_type": "code",
   "execution_count": 30,
   "metadata": {},
   "outputs": [
    {
     "data": {
      "text/plain": [
       "real estate            4464\n",
       "purchase a car         4306\n",
       "getting education      4013\n",
       "purchase a house       3809\n",
       "build property         2538\n",
       "Prepare for wedding    2324\n",
       "Name: purpose_group, dtype: int64"
      ]
     },
     "execution_count": 30,
     "metadata": {},
     "output_type": "execute_result"
    }
   ],
   "source": [
    "data['purpose_group'].value_counts()"
   ]
  },
  {
   "cell_type": "code",
   "execution_count": 31,
   "metadata": {},
   "outputs": [],
   "source": [
    "data['income_distribution'] = pd.qcut(data['total_income'], q=6,duplicates = 'drop' )"
   ]
  },
  {
   "cell_type": "code",
   "execution_count": 32,
   "metadata": {},
   "outputs": [
    {
     "data": {
      "text/plain": [
       "(36620.5, 362497.0]    3576\n",
       "(24302.0, 28289.0]     3576\n",
       "(14743.5, 19653.0]     3576\n",
       "(3306.999, 14743.5]    3576\n",
       "(28289.0, 36620.5]     3575\n",
       "(19653.0, 24302.0]     3575\n",
       "Name: income_distribution, dtype: int64"
      ]
     },
     "execution_count": 32,
     "metadata": {},
     "output_type": "execute_result"
    }
   ],
   "source": [
    "data['income_distribution'].value_counts()"
   ]
  },
  {
   "cell_type": "code",
   "execution_count": null,
   "metadata": {},
   "outputs": [],
   "source": []
  },
  {
   "cell_type": "markdown",
   "metadata": {},
   "source": [
    " https://pandas.pydata.org/pandas-docs/stable/reference/api/pandas.qcut.html\n",
    " \n"
   ]
  },
  {
   "cell_type": "markdown",
   "metadata": {},
   "source": [
    "### Conclusion"
   ]
  },
  {
   "cell_type": "markdown",
   "metadata": {},
   "source": [
    "    The purpose column which describes the purpose of applying for a loan is categorized into various descriptions \n",
    "    such as \"prepare for wedding\",\"purchase a car\",\"property\",\"getting education\",\"real estate\" and \"purchase a house\".\n",
    "    Also the total income column categorized into various categories of total income received per month by each borrower\n",
    "    starting from '3306.99 - 14743.5','14745.5 - 19653.0','19653.0 - 24302.0','24302.0 - 28289.0','28289.0 - 36620.5',\n",
    "    '366205.5 - 362497.0'"
   ]
  },
  {
   "cell_type": "code",
   "execution_count": null,
   "metadata": {},
   "outputs": [],
   "source": []
  },
  {
   "cell_type": "markdown",
   "metadata": {},
   "source": [
    "### Step 3. Answer these questions"
   ]
  },
  {
   "cell_type": "markdown",
   "metadata": {},
   "source": [
    "- Is there a relation between having kids and repaying a loan on time?"
   ]
  },
  {
   "cell_type": "code",
   "execution_count": 39,
   "metadata": {},
   "outputs": [],
   "source": [
    "kids_loan_relation = pd.pivot_table(data = data , index =['children'],columns='debt',values='income_type', aggfunc='count')"
   ]
  },
  {
   "cell_type": "code",
   "execution_count": 40,
   "metadata": {},
   "outputs": [
    {
     "data": {
      "text/html": [
       "<div>\n",
       "<style scoped>\n",
       "    .dataframe tbody tr th:only-of-type {\n",
       "        vertical-align: middle;\n",
       "    }\n",
       "\n",
       "    .dataframe tbody tr th {\n",
       "        vertical-align: top;\n",
       "    }\n",
       "\n",
       "    .dataframe thead th {\n",
       "        text-align: right;\n",
       "    }\n",
       "</style>\n",
       "<table border=\"1\" class=\"dataframe\">\n",
       "  <thead>\n",
       "    <tr style=\"text-align: right;\">\n",
       "      <th>debt</th>\n",
       "      <th>0</th>\n",
       "      <th>1</th>\n",
       "      <th>total_per_category</th>\n",
       "      <th>percent</th>\n",
       "    </tr>\n",
       "    <tr>\n",
       "      <th>children</th>\n",
       "      <th></th>\n",
       "      <th></th>\n",
       "      <th></th>\n",
       "      <th></th>\n",
       "    </tr>\n",
       "  </thead>\n",
       "  <tbody>\n",
       "    <tr>\n",
       "      <td>0</td>\n",
       "      <td>13028.0</td>\n",
       "      <td>1063.0</td>\n",
       "      <td>14091.0</td>\n",
       "      <td>7.5</td>\n",
       "    </tr>\n",
       "    <tr>\n",
       "      <td>1</td>\n",
       "      <td>4410.0</td>\n",
       "      <td>445.0</td>\n",
       "      <td>4855.0</td>\n",
       "      <td>9.2</td>\n",
       "    </tr>\n",
       "    <tr>\n",
       "      <td>2</td>\n",
       "      <td>1858.0</td>\n",
       "      <td>194.0</td>\n",
       "      <td>2052.0</td>\n",
       "      <td>9.5</td>\n",
       "    </tr>\n",
       "    <tr>\n",
       "      <td>3</td>\n",
       "      <td>303.0</td>\n",
       "      <td>27.0</td>\n",
       "      <td>330.0</td>\n",
       "      <td>8.2</td>\n",
       "    </tr>\n",
       "    <tr>\n",
       "      <td>4</td>\n",
       "      <td>37.0</td>\n",
       "      <td>4.0</td>\n",
       "      <td>41.0</td>\n",
       "      <td>9.8</td>\n",
       "    </tr>\n",
       "    <tr>\n",
       "      <td>20</td>\n",
       "      <td>68.0</td>\n",
       "      <td>8.0</td>\n",
       "      <td>76.0</td>\n",
       "      <td>10.5</td>\n",
       "    </tr>\n",
       "  </tbody>\n",
       "</table>\n",
       "</div>"
      ],
      "text/plain": [
       "debt            0       1  total_per_category  percent\n",
       "children                                              \n",
       "0         13028.0  1063.0             14091.0      7.5\n",
       "1          4410.0   445.0              4855.0      9.2\n",
       "2          1858.0   194.0              2052.0      9.5\n",
       "3           303.0    27.0               330.0      8.2\n",
       "4            37.0     4.0                41.0      9.8\n",
       "20           68.0     8.0                76.0     10.5"
      ]
     },
     "execution_count": 40,
     "metadata": {},
     "output_type": "execute_result"
    }
   ],
   "source": [
    "kids_loan_relation=kids_loan_relation.dropna()\n",
    "kids_loan_relation['total_per_category'] = kids_loan_relation[0] + kids_loan_relation[1]\n",
    "kids_loan_relation['percent'] =  round(kids_loan_relation[1]/kids_loan_relation['total_per_category'] *100,1)\n",
    "kids_loan_relation"
   ]
  },
  {
   "cell_type": "markdown",
   "metadata": {},
   "source": [
    "### Conclusion"
   ]
  },
  {
   "cell_type": "markdown",
   "metadata": {},
   "source": [
    "    As we take a look at \"0 - category\" there are 14091 borrowers without kids and only 1063 have debt which means \n",
    "    that 7.5% of the group are bad debtors.\"1- category\" there are a total of 4855 borrowers with a single kid and \n",
    "    out of the total, 445 which makes a percentage of 9.2% are bad debtors.330 borrowers have 3 kids and 27 are bad \n",
    "    debtors making a percentage of 8.2%.In addition to this 41 borrowers have 4 children out of the total 4 have debt \n",
    "    which means 9.8% are bad debtors.Last but not least 76 borrowers are with 20 kids and only 8 have debt this means \n",
    "    that 10.5% are bad debtors.\n",
    "    \n",
    "    General statistics whose that as the number of children for each debtor increases the likelihood of bad debtors \n",
    "    also increases.Hence the greater the number of children of borrowers the greater the risk of increase in bad debtors"
   ]
  },
  {
   "cell_type": "code",
   "execution_count": null,
   "metadata": {},
   "outputs": [],
   "source": []
  },
  {
   "cell_type": "markdown",
   "metadata": {},
   "source": [
    "- Is there a relation between marital status and repaying a loan on time?"
   ]
  },
  {
   "cell_type": "code",
   "execution_count": 41,
   "metadata": {},
   "outputs": [
    {
     "data": {
      "text/html": [
       "<div>\n",
       "<style scoped>\n",
       "    .dataframe tbody tr th:only-of-type {\n",
       "        vertical-align: middle;\n",
       "    }\n",
       "\n",
       "    .dataframe tbody tr th {\n",
       "        vertical-align: top;\n",
       "    }\n",
       "\n",
       "    .dataframe thead th {\n",
       "        text-align: right;\n",
       "    }\n",
       "</style>\n",
       "<table border=\"1\" class=\"dataframe\">\n",
       "  <thead>\n",
       "    <tr style=\"text-align: right;\">\n",
       "      <th>debt</th>\n",
       "      <th>0</th>\n",
       "      <th>1</th>\n",
       "      <th>total_category</th>\n",
       "      <th>Percentage</th>\n",
       "    </tr>\n",
       "    <tr>\n",
       "      <th>family_status</th>\n",
       "      <th></th>\n",
       "      <th></th>\n",
       "      <th></th>\n",
       "      <th></th>\n",
       "    </tr>\n",
       "  </thead>\n",
       "  <tbody>\n",
       "    <tr>\n",
       "      <td>civil partnership</td>\n",
       "      <td>3763</td>\n",
       "      <td>388</td>\n",
       "      <td>4151</td>\n",
       "      <td>9.3</td>\n",
       "    </tr>\n",
       "    <tr>\n",
       "      <td>divorced</td>\n",
       "      <td>1110</td>\n",
       "      <td>85</td>\n",
       "      <td>1195</td>\n",
       "      <td>7.1</td>\n",
       "    </tr>\n",
       "    <tr>\n",
       "      <td>married</td>\n",
       "      <td>11408</td>\n",
       "      <td>931</td>\n",
       "      <td>12339</td>\n",
       "      <td>7.5</td>\n",
       "    </tr>\n",
       "    <tr>\n",
       "      <td>unmarried</td>\n",
       "      <td>2536</td>\n",
       "      <td>274</td>\n",
       "      <td>2810</td>\n",
       "      <td>9.8</td>\n",
       "    </tr>\n",
       "    <tr>\n",
       "      <td>widow / widower</td>\n",
       "      <td>896</td>\n",
       "      <td>63</td>\n",
       "      <td>959</td>\n",
       "      <td>6.6</td>\n",
       "    </tr>\n",
       "  </tbody>\n",
       "</table>\n",
       "</div>"
      ],
      "text/plain": [
       "debt                   0    1  total_category  Percentage\n",
       "family_status                                            \n",
       "civil partnership   3763  388            4151         9.3\n",
       "divorced            1110   85            1195         7.1\n",
       "married            11408  931           12339         7.5\n",
       "unmarried           2536  274            2810         9.8\n",
       "widow / widower      896   63             959         6.6"
      ]
     },
     "execution_count": 41,
     "metadata": {},
     "output_type": "execute_result"
    }
   ],
   "source": [
    "marital_loan_relation = pd.pivot_table(data = data, index =['family_status'],columns='debt',values='income_type', aggfunc='count')\n",
    "marital_loan_relation['total_category'] = marital_loan_relation[0] + marital_loan_relation[1]\n",
    "marital_loan_relation['Percentage'] = round( marital_loan_relation[1]/marital_loan_relation['total_category'] *100,1)\n",
    "marital_loan_relation"
   ]
  },
  {
   "cell_type": "markdown",
   "metadata": {},
   "source": [
    "### Conclusion"
   ]
  },
  {
   "cell_type": "markdown",
   "metadata": {},
   "source": [
    "    From the statistics available borrowers with civil partnership marrital status are 4151 in number out of that 388\n",
    "    are bad debtors which comprises of 9.3%.1195 category of borrowers are divorced out of those 85 are bad debtors \n",
    "    which makes 7.1%.Also 12339 borrowers are married and out of that total 931 are bad debtors which is 7.5%.2810 \n",
    "    borrowers have a marrital status as married but 274 are bad debtors which makes 9.8%.Finally, a total of 959 \n",
    "    borrowers are  either widow/widower and out of the number 63 are bad debtors which is 6.6% of the total.\n",
    "    \n",
    "    It can be concluded from the statistics available that a category of unmarried borrowers have the highest likelihood\n",
    "    to default on their loan compared to the rest and also widow/widower category are the lowest category of borrowers \n",
    "    to default on their loans"
   ]
  },
  {
   "cell_type": "code",
   "execution_count": null,
   "metadata": {},
   "outputs": [],
   "source": []
  },
  {
   "cell_type": "markdown",
   "metadata": {},
   "source": [
    "- Is there a relation between income level and repaying a loan on time?"
   ]
  },
  {
   "cell_type": "code",
   "execution_count": 45,
   "metadata": {},
   "outputs": [
    {
     "data": {
      "text/html": [
       "<div>\n",
       "<style scoped>\n",
       "    .dataframe tbody tr th:only-of-type {\n",
       "        vertical-align: middle;\n",
       "    }\n",
       "\n",
       "    .dataframe tbody tr th {\n",
       "        vertical-align: top;\n",
       "    }\n",
       "\n",
       "    .dataframe thead th {\n",
       "        text-align: right;\n",
       "    }\n",
       "</style>\n",
       "<table border=\"1\" class=\"dataframe\">\n",
       "  <thead>\n",
       "    <tr style=\"text-align: right;\">\n",
       "      <th>debt</th>\n",
       "      <th>0</th>\n",
       "      <th>1</th>\n",
       "      <th>total_category</th>\n",
       "      <th>percentage</th>\n",
       "    </tr>\n",
       "    <tr>\n",
       "      <th>income_distribution</th>\n",
       "      <th></th>\n",
       "      <th></th>\n",
       "      <th></th>\n",
       "      <th></th>\n",
       "    </tr>\n",
       "  </thead>\n",
       "  <tbody>\n",
       "    <tr>\n",
       "      <td>(3306.999, 14743.5]</td>\n",
       "      <td>3291</td>\n",
       "      <td>285</td>\n",
       "      <td>3576</td>\n",
       "      <td>8.0</td>\n",
       "    </tr>\n",
       "    <tr>\n",
       "      <td>(14743.5, 19653.0]</td>\n",
       "      <td>3280</td>\n",
       "      <td>296</td>\n",
       "      <td>3576</td>\n",
       "      <td>8.3</td>\n",
       "    </tr>\n",
       "    <tr>\n",
       "      <td>(19653.0, 24302.0]</td>\n",
       "      <td>3254</td>\n",
       "      <td>321</td>\n",
       "      <td>3575</td>\n",
       "      <td>9.0</td>\n",
       "    </tr>\n",
       "    <tr>\n",
       "      <td>(24302.0, 28289.0]</td>\n",
       "      <td>3263</td>\n",
       "      <td>313</td>\n",
       "      <td>3576</td>\n",
       "      <td>8.8</td>\n",
       "    </tr>\n",
       "    <tr>\n",
       "      <td>(28289.0, 36620.5]</td>\n",
       "      <td>3299</td>\n",
       "      <td>276</td>\n",
       "      <td>3575</td>\n",
       "      <td>7.7</td>\n",
       "    </tr>\n",
       "    <tr>\n",
       "      <td>(36620.5, 362497.0]</td>\n",
       "      <td>3326</td>\n",
       "      <td>250</td>\n",
       "      <td>3576</td>\n",
       "      <td>7.0</td>\n",
       "    </tr>\n",
       "  </tbody>\n",
       "</table>\n",
       "</div>"
      ],
      "text/plain": [
       "debt                    0    1  total_category  percentage\n",
       "income_distribution                                       \n",
       "(3306.999, 14743.5]  3291  285            3576         8.0\n",
       "(14743.5, 19653.0]   3280  296            3576         8.3\n",
       "(19653.0, 24302.0]   3254  321            3575         9.0\n",
       "(24302.0, 28289.0]   3263  313            3576         8.8\n",
       "(28289.0, 36620.5]   3299  276            3575         7.7\n",
       "(36620.5, 362497.0]  3326  250            3576         7.0"
      ]
     },
     "execution_count": 45,
     "metadata": {},
     "output_type": "execute_result"
    }
   ],
   "source": [
    "income_loan_relation = pd.pivot_table(data = data, index =['income_distribution'],columns='debt',values='income_type', aggfunc='count',fill_value=0)\n",
    "income_loan_relation['total_category'] = income_loan_relation[0] + income_loan_relation[1]\n",
    "income_loan_relation['percentage'] = round(income_loan_relation[1]/income_loan_relation['total_category'] * 100,1)\n",
    "income_loan_relation"
   ]
  },
  {
   "cell_type": "code",
   "execution_count": null,
   "metadata": {},
   "outputs": [],
   "source": []
  },
  {
   "cell_type": "markdown",
   "metadata": {},
   "source": [
    "### Conclusion"
   ]
  },
  {
   "cell_type": "markdown",
   "metadata": {},
   "source": [
    "    From the information available borrowers of income category between \"3306.999 - 14743.5\" is made up of  3576 \n",
    "    in total borrowers and out of this number 285 of them are bad debtors which is a percentage 8.0%.Borrowers whose \n",
    "    income falls between \"14743.5 - 19653.0\" are also 3576 in number and out of that 296 are bad debtors making a \n",
    "    percentage of 8.3%.Also borrowers who falls between income level of \"19653.0 - 24302.0\" are 3575 in total and out \n",
    "    of that 321 are  bad debtors which makes 9.0%.In addition to this borrowers that falls within this income level \n",
    "    category \"24302.0 - 28289.0\" are 3576 in total and out of that number 313 are bad debtors which is a percentage of\n",
    "    8.80%. Borrowers  with income levels within \"28289.0, 36620.5\" are 3576 in total, out of the total  313 are bad \n",
    "    debtors which represent a percentage 7.7%.Also with category between \"36620.5 - 362497.0\" are 3576 in total out of \n",
    "    which 250 are bad debtors representing 7.0%.\n",
    "    \n",
    "    It can be deduced that borrowers with income level between \"19653.0 - 24302.0\" have the highest percentage of \n",
    "    borrowers defaulting on a loan whiles borrowers that falls within the income group \"36620.5 - 362497.0\" are the \n",
    "    least borrowers to default on a loan. "
   ]
  },
  {
   "cell_type": "code",
   "execution_count": null,
   "metadata": {},
   "outputs": [],
   "source": []
  },
  {
   "cell_type": "markdown",
   "metadata": {},
   "source": [
    "- How do different loan purposes affect on-time repayment of the loan?"
   ]
  },
  {
   "cell_type": "code",
   "execution_count": 46,
   "metadata": {},
   "outputs": [
    {
     "data": {
      "text/html": [
       "<div>\n",
       "<style scoped>\n",
       "    .dataframe tbody tr th:only-of-type {\n",
       "        vertical-align: middle;\n",
       "    }\n",
       "\n",
       "    .dataframe tbody tr th {\n",
       "        vertical-align: top;\n",
       "    }\n",
       "\n",
       "    .dataframe thead th {\n",
       "        text-align: right;\n",
       "    }\n",
       "</style>\n",
       "<table border=\"1\" class=\"dataframe\">\n",
       "  <thead>\n",
       "    <tr style=\"text-align: right;\">\n",
       "      <th>debt</th>\n",
       "      <th>0</th>\n",
       "      <th>1</th>\n",
       "      <th>total_category</th>\n",
       "      <th>percentage</th>\n",
       "    </tr>\n",
       "    <tr>\n",
       "      <th>purpose_group</th>\n",
       "      <th></th>\n",
       "      <th></th>\n",
       "      <th></th>\n",
       "      <th></th>\n",
       "    </tr>\n",
       "  </thead>\n",
       "  <tbody>\n",
       "    <tr>\n",
       "      <td>Prepare for wedding</td>\n",
       "      <td>2138</td>\n",
       "      <td>186</td>\n",
       "      <td>2324</td>\n",
       "      <td>8.0</td>\n",
       "    </tr>\n",
       "    <tr>\n",
       "      <td>build property</td>\n",
       "      <td>2348</td>\n",
       "      <td>190</td>\n",
       "      <td>2538</td>\n",
       "      <td>7.5</td>\n",
       "    </tr>\n",
       "    <tr>\n",
       "      <td>getting education</td>\n",
       "      <td>3643</td>\n",
       "      <td>370</td>\n",
       "      <td>4013</td>\n",
       "      <td>9.2</td>\n",
       "    </tr>\n",
       "    <tr>\n",
       "      <td>purchase a car</td>\n",
       "      <td>3903</td>\n",
       "      <td>403</td>\n",
       "      <td>4306</td>\n",
       "      <td>9.4</td>\n",
       "    </tr>\n",
       "    <tr>\n",
       "      <td>purchase a house</td>\n",
       "      <td>3553</td>\n",
       "      <td>256</td>\n",
       "      <td>3809</td>\n",
       "      <td>6.7</td>\n",
       "    </tr>\n",
       "    <tr>\n",
       "      <td>real estate</td>\n",
       "      <td>4128</td>\n",
       "      <td>336</td>\n",
       "      <td>4464</td>\n",
       "      <td>7.5</td>\n",
       "    </tr>\n",
       "  </tbody>\n",
       "</table>\n",
       "</div>"
      ],
      "text/plain": [
       "debt                    0    1  total_category  percentage\n",
       "purpose_group                                             \n",
       "Prepare for wedding  2138  186            2324         8.0\n",
       "build property       2348  190            2538         7.5\n",
       "getting education    3643  370            4013         9.2\n",
       "purchase a car       3903  403            4306         9.4\n",
       "purchase a house     3553  256            3809         6.7\n",
       "real estate          4128  336            4464         7.5"
      ]
     },
     "execution_count": 46,
     "metadata": {},
     "output_type": "execute_result"
    }
   ],
   "source": [
    "purpose_loan_relation = pd.pivot_table(data = data, index =['purpose_group'],columns='debt',values='income_type', aggfunc='count')\n",
    "purpose_loan_relation['total_category'] = purpose_loan_relation[0] + purpose_loan_relation[1]\n",
    "purpose_loan_relation['percentage'] = round(purpose_loan_relation[1]/purpose_loan_relation['total_category'] * 100,1)\n",
    "purpose_loan_relation"
   ]
  },
  {
   "cell_type": "code",
   "execution_count": 47,
   "metadata": {},
   "outputs": [],
   "source": [
    "data_deliq = data[data['debt'] ==1]"
   ]
  },
  {
   "cell_type": "code",
   "execution_count": 48,
   "metadata": {},
   "outputs": [
    {
     "data": {
      "text/html": [
       "<div>\n",
       "<style scoped>\n",
       "    .dataframe tbody tr th:only-of-type {\n",
       "        vertical-align: middle;\n",
       "    }\n",
       "\n",
       "    .dataframe tbody tr th {\n",
       "        vertical-align: top;\n",
       "    }\n",
       "\n",
       "    .dataframe thead tr th {\n",
       "        text-align: left;\n",
       "    }\n",
       "\n",
       "    .dataframe thead tr:last-of-type th {\n",
       "        text-align: right;\n",
       "    }\n",
       "</style>\n",
       "<table border=\"1\" class=\"dataframe\">\n",
       "  <thead>\n",
       "    <tr>\n",
       "      <th></th>\n",
       "      <th>income_distribution</th>\n",
       "      <th>percentage</th>\n",
       "    </tr>\n",
       "    <tr>\n",
       "      <th></th>\n",
       "      <th>count</th>\n",
       "      <th></th>\n",
       "    </tr>\n",
       "    <tr>\n",
       "      <th>income_type</th>\n",
       "      <th></th>\n",
       "      <th></th>\n",
       "    </tr>\n",
       "  </thead>\n",
       "  <tbody>\n",
       "    <tr>\n",
       "      <td>business</td>\n",
       "      <td>376</td>\n",
       "      <td>1.8</td>\n",
       "    </tr>\n",
       "    <tr>\n",
       "      <td>civil servant</td>\n",
       "      <td>86</td>\n",
       "      <td>0.4</td>\n",
       "    </tr>\n",
       "    <tr>\n",
       "      <td>employee</td>\n",
       "      <td>1061</td>\n",
       "      <td>4.9</td>\n",
       "    </tr>\n",
       "    <tr>\n",
       "      <td>paternity / maternity leave</td>\n",
       "      <td>1</td>\n",
       "      <td>0.0</td>\n",
       "    </tr>\n",
       "    <tr>\n",
       "      <td>retiree</td>\n",
       "      <td>216</td>\n",
       "      <td>1.0</td>\n",
       "    </tr>\n",
       "    <tr>\n",
       "      <td>unemployed</td>\n",
       "      <td>1</td>\n",
       "      <td>0.0</td>\n",
       "    </tr>\n",
       "  </tbody>\n",
       "</table>\n",
       "</div>"
      ],
      "text/plain": [
       "                            income_distribution percentage\n",
       "                                          count           \n",
       "income_type                                               \n",
       "business                                    376        1.8\n",
       "civil servant                                86        0.4\n",
       "employee                                   1061        4.9\n",
       "paternity / maternity leave                   1        0.0\n",
       "retiree                                     216        1.0\n",
       "unemployed                                    1        0.0"
      ]
     },
     "execution_count": 48,
     "metadata": {},
     "output_type": "execute_result"
    }
   ],
   "source": [
    "# Find the loan deliquency of bad debtors\n",
    "data_deliq_count =data_deliq.groupby('income_type').agg({'income_distribution':['count']})\n",
    "data_deliq_count['percentage'] = round(data_deliq_count['income_distribution']/data['income_type'].count().sum() * 100,1)\n",
    "data_deliq_count\n",
    "#data['income_type'].count().sum()\n"
   ]
  },
  {
   "cell_type": "markdown",
   "metadata": {},
   "source": [
    "### Conclusion"
   ]
  },
  {
   "cell_type": "markdown",
   "metadata": {},
   "source": [
    "    The category of purpose for applying for a loan  that is \"Prepare for wedding\" has  2324 as the total number of \n",
    "    borrowers out of which 186 are bad debtors which represent 8.0%.The second category of purpose is to \"build property\" \n",
    "    which has 2538 as total number of borrowers  with 190 borrowers as bad debtors which also represent a percentage \n",
    "    of 7.2%.In addition to this another category of purpose which is \"getting education\" which has 4013 as the total \n",
    "    number of borrowers with 370 being bad debtors which represent 9.2%.The \"purchase of car\" category also have 4306 \n",
    "    as the total number of borrowers with reasons for the loan and out of that number 403 are bad debtors as well.\n",
    "    The number of brrowers who gave \"Purchase a house\" as purpose for the loan are 3809 whiles 256 out of this number \n",
    "    are bad debtors representing 6.7%.Last but not least 4464  and 2538 borrowers gave \"real estate\"  and \"property\" \n",
    "    category as the purpose for the loan and out of that  336 and 190 are bad debtors representing 7.5% respectively.\n",
    "    It can be deduced that many borrowers who gave reasons  to \"purchase a car\" are the highest number of debtors who \n",
    "    defaulted on their loans whiles  borrowers who gave reasons as \"build property\" and \"real estate\" are the least \n",
    "    likely to default on their loan   "
   ]
  },
  {
   "cell_type": "markdown",
   "metadata": {},
   "source": [
    "### Step 4. General conclusion"
   ]
  },
  {
   "cell_type": "markdown",
   "metadata": {},
   "source": [
    "    The main objective of this report is to determine the impact a customer's marital status and number of children has on defaulting a loan.A data on customers previous credit worthiness was provided.The given data comprises of  21525 entries of customers. Information on each customer such as number of children,number of children,number of days employed,ages of each customer,educational status,family status, gender,the income type, debt which explains whether a customer has ever defaulted a loan before or not, the total income per month and last but not least the purpose or reason for applying for the loan.\n",
    "\n",
    "    In addition to this,upon careful scrutiny of the data it was clear that some customers information such as the number of days employed and total income per month of 2174 customers were null or missing out 21525 customers.The missing or  NaN(null) entries means that without the number of days worked the total income of those customers affected cannot be determined. Also number days employed feature of customers had negative values which is not possible because it is impossible to have negative days worked. This can be  attributed to the floating point datatype when data was imported.\n",
    "    \n",
    "**Preprocessing**\n",
    "    \n",
    "    In order to arrive at a good analysis, the data available needs to be preprocessed eliminating missing(null) entries of customers information.To begin with, all missing entries of number of days employed feature was replaced with zeros(0) and it's absolute value was taken which turns all negatives to positives.The values then rounded to get the nearest integer which then gives the number of days employed for all income levels.In addition to this,the average number of days employed for each income level was calculated. The mean for each income level was used to replace each zero(0) value for each income level respectively.Out of this, months employed feature was created which can be use as an indicator for awarding loans to customers based on the years of experience or the number of years worked.\n",
    "\n",
    "     Secondly the median age of each income level was calculated and used as the value for each age feature and its corresponding income level.Also, average total income was calculated based on each income level and the value used to replace missing  (null) values.\n",
    "     Also duplicates found in the dataset was droped this reduced customer data entries by 71. This means that there was  a   repeatition of 71 entries of customer information in the dataset. Hence the dataset was reduced to 21454 entries.\n",
    "     \n",
    "     Furthermore,both purpose for a loan and total income feature was categorised into various categories which are listed  bellow.\n",
    "     \n",
    "   __Purpose for a loan category__\n",
    "    * prepare for wedding\n",
    "    * purchase a car\n",
    "    * build property\n",
    "    * getting education \n",
    "    * real estate\n",
    "    * purchase a house\n",
    "    \n",
    "   __total income category__\n",
    "    * 3306.999 - 14743.5\n",
    "    * 14743.5  - 19653.0\n",
    "    * 19653.0  - 24302.0\n",
    "    * 24302.0  - 28289.0\n",
    "    * 28289.0  - 36620.5\n",
    "    * 36620.5  - 362497.0\n",
    "    \n",
    "    \n",
    "    \n",
    "       The group of customers with the highest rate of loan delinquency are customers with employee income type with 1061 making a percentage of 4.9%.\n",
    "       \n",
    "       There was the interest to check the relationships that exist among certain features in order to conclude on the objective of the analysis.\n",
    "       \n",
    "* Whether there exist a relation between having kids and repaying a loan on time?\n",
    "\n",
    "        From the table below, at \"0 - category\" there are 14091 borrowers without kids and only 1063 have debt which means that 7.5% of the group are bad debtors.\"1- category\" there are a total of 4855 borrowers with a single kid and out of the total, 445 which makes a percentage of 9.2% are bad debtors.330 borrowers have 3 kids and 27 are bad debtors making a percentage of 8.2%.In addition to this 41 borrowers have 4 children out of the total 4 have debt which means 9.8% are bad debtors.Last but not least 76 borrowers are with 20 kids and only 8 have debt this means that 10.5% are bad debtors.\n",
    "      Out of this we can conclude that as the number of children for each debtor increases so as the number of customers who default on loans increases.Hence the greater the number of children of borrowers the greater the risk of increase in bad debtors.\n",
    "        \n",
    "    \n",
    "   \n",
    "   | Number of Children|Pay loan on time|default loan| total debtors per category |Percent|\n",
    "   | --- | --- | --- |---|---|\n",
    "   | 0 | 13028 | 1063 |14091|7.5|\n",
    "   | 1 | 4410 | 445 |4855|9.2|\n",
    "   | 2 | 1858 | 194 |2052|9.5|\n",
    "   | 3 | 303 | 27 |330|8.2|\n",
    "   | 4 | 37 | 4 |41|9.8|\n",
    "   | 20 | 68 | 8 |76|10.5|\n",
    "   \n",
    "   \n",
    "* Whether there is a relation between marital status and repaying a loan on time?\n",
    "\n",
    "      In reference to the table below  borrowers with civil partnership as marrital status are 4151 in number out of that 388 are bad debtors which comprises of 9.3%.1195 category of borrowers are divorced out of those 85 are bad debtors which makes 7.1%.Also 12339 borrowers are married and out of that total 931 are bad debtors which is 7.5%.2810 borrowers have a marrital status as married but 274 are bad debtors which makes 9.8%.Finally, a total of 959 borrowers are  either widow/widower and out of the number 63 are bad debtors which is 6.6% of the total.It can be concluded from the statistics available that a category of unmarried borrowers have the highest likelihood to default on their loan compared to the rest and also widow/widower category are the lowest category of borrowers to default on their loans.This can be attributed to the fact that most of umarried customers borrow and spend lavishly on cars which generates no income.\n",
    "        \n",
    "        \n",
    "        \n",
    "  \n",
    "   \n",
    "\n",
    "   |family status|Pay loan on time|default on loan|total debtors per family status|Percentage|\n",
    "   | --- | --- | --- |--- | --- |\t\t\t\n",
    "   |civil partnership|3763|388|4151|9.3|\n",
    "   |divorced|1110|\t85|\t1195|7.1|\n",
    "   |married|11408|\t931|12339|7.5|\n",
    "   |unmarried|2536|274\t|2810|9.8|\n",
    "   |widow / widower|896|63|959|6.6|\n",
    "   \n",
    "\n",
    "* Is there a relation between income level and repaying a loan on time?\n",
    "   \n",
    "       From the information available from the table below,From the information available borrowers of income category between \"3306.999 - 14743.5\" is made up of  3576 in total  and out of this number 285 of them are bad debtors which is a percentage 8.0%.Borrowers whose income falls between \"14743.5 - 19653.0\" are also 3576 in number and out of that 296 are bad debtors making a percentage of 8.3%.Also borrowers who falls between income level of \"19653.0 - 24302.0\" are 3575 in total and out of that 321 are  bad debtors which makes 9.0%.In addition to this borrowers that falls within this income level category \"24302.0 - 28289.0\" are 3576 in total and out of that number 313 are bad debtors which is a percentage of 8.80%. Borrowers  with income levels within \"28289.0, 36620.5\" are 3576 in total, out of the total  313 are bad debtors which represent a percentage 7.7%.Also with category between \"36620.5 - 362497.0\" are 3576 in total out of which are 250 bad debtors which represent 7.0%.\n",
    "       \n",
    "       It can be deduced that borrowers with income level between \"19653.0 - 24302.0\" have the highest percentage of borrowers defaulting on a loan whiles borrowers that falls within the income group \"36620.5 - 362497.0\" are the least borrowers to default on a loan. \n",
    "       \n",
    "       \n",
    "        \n",
    "        \n",
    "        \n",
    "  |distribution of income| Pay loans on time|Default on loans| total income category|percentage|\n",
    "  |---|---|---|---|---|\n",
    "  |3306.999 - 14743.5|\t3291|\t285\t|3576|\t8.0|\n",
    "  |14743.5 - 19653.0|\t3280|\t296|\t3576|\t8.3|\n",
    "  |19653.0 - 24302.0|\t3254|\t321|\t3575|\t9.0|\n",
    "  |24302.0 - 28289.0|\t3263|\t313|\t3576|\t8.8|\n",
    "  |28289.0 - 36620.5|\t3299|\t276|    3575|\t7.7|\n",
    "  |36620.5 - 362497.0|\t3326|\t250|\t3576|\t7.0|\n",
    "\n",
    "   \n",
    "* How do different loan purposes affect on-time repayment of the loan?\n",
    "    \n",
    "        From the table below the category of purpose for applying for a loan  that is \"Prepare for wedding\" has  2324 as the total number of borrowers out of which 186 are bad debtors which represent 8.0%.The second category of purpose is to \"build property\" which has 2538 as total number of borrowers  with 190 borrowers as bad debtors which also represent a percentage of 7.2%.In addition to this another category of purpose which is \"getting education\" which has 4013 as the total number of borrowers with 370 being bad debtors which represent 9.2%.The \"purchase of car\" category also have 4306 as the total number of borrowers with reasons for the loan and out of that number 403 are bad debtors as well.The number of brrowers who gave \"Purchase a house\" as purpose for the loan are 3809 whiles 256 out of this number are bad debtors representing 6.7%.Last but not least 4464  and 2538 borrowers gave \"real estate\"  and \"property\" category as the purpose for the loan and out of that  336 and 190 are bad debtors representing 7.5% respectively.\n",
    "        It can be deduced that many borrowers who gave reasons  to \"purchase a car\" are the highest number of debtors who defaulted on their loans whiles  borrowers who gave reasons as \"build property\" and \"real estate\" are the least likely to default on their loan.This can be concluded that since investment in property building and real estate  pays for itself most borrowers are able to offset their loans on time compared to borrowing to purchase a car.  \n",
    "        \n",
    "        \n",
    "        \n",
    "   |purpose of applying for loan|Pay loan on time|Default on loan|Total purpose category|percentage|\n",
    "   |---|---|---|---|---|\t\t\t\n",
    "   |Prepare for wedding|\t2138|\t186|\t2324|\t8.0|\n",
    "   |build property|\t2348|\t190|\t2538|\t7.5|\n",
    "   |getting education|\t3643|\t370|\t4013|\t9.2|\n",
    "   |purchase a car|\t3903|\t403|\t4306|\t9.4|\n",
    "   |purchase a house|\t3553|\t256|\t3809|\t6.7|\n",
    "   |real estate|\t4128|\t336|\t4464|\t7.5|\n",
    "   \n",
    "In conclusion it was found that  customers with more children default on their loans as well as unmarried customers also default on their loans as well as customers who borrow to purchase cars.Hence it can be concluded that umarried borrowers with more children will default on their loan.\n"
   ]
  },
  {
   "cell_type": "code",
   "execution_count": null,
   "metadata": {},
   "outputs": [],
   "source": []
  },
  {
   "cell_type": "code",
   "execution_count": null,
   "metadata": {},
   "outputs": [],
   "source": []
  }
 ],
 "metadata": {
  "kernelspec": {
   "display_name": "Python 3",
   "language": "python",
   "name": "python3"
  },
  "language_info": {
   "codemirror_mode": {
    "name": "ipython",
    "version": 3
   },
   "file_extension": ".py",
   "mimetype": "text/x-python",
   "name": "python",
   "nbconvert_exporter": "python",
   "pygments_lexer": "ipython3",
   "version": "3.8.8"
  },
  "toc": {
   "base_numbering": 1,
   "nav_menu": {},
   "number_sections": true,
   "sideBar": true,
   "skip_h1_title": true,
   "title_cell": "Table of Contents",
   "title_sidebar": "Contents",
   "toc_cell": false,
   "toc_position": {},
   "toc_section_display": true,
   "toc_window_display": false
  }
 },
 "nbformat": 4,
 "nbformat_minor": 4
}
