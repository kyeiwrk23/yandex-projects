{
 "cells": [
  {
   "cell_type": "markdown",
   "metadata": {},
   "source": [
    "<div class=\"alert alert-block alert-success\">\n",
    "V4. Hello! Thank you for all your fixes! You did a very good job here. Now all looks very nice and I can accept it:)  So, congratulations, you finished this part! Good luck with next steps!\n",
    "</div>"
   ]
  },
  {
   "cell_type": "markdown",
   "metadata": {},
   "source": [
    "<div class=\"alert alert-block alert-warning\">\n",
    "V3. Hello! Looks much better:) Almost done. There are only three small required fixes:\n",
    "    \n",
    "    1. As I can see you're going to place your code after each step of the plan, right? This is not a good idea. The whole plan should be placed before your code and it should be available to be read before to look at your code. So, please, place all your steps in one text cell.\n",
    "    2. If you're going to compare something between tariffs A and B, you should also consider a tariff C. Cuz you don't have any special reasons why to choose only A and B. To not write a lot of duplicate text for each pair of tariffs, you can not specify the tariff pairs in plan. But don't forget to consider all the pairs during coding the project.\n",
    "    3. As I understood you correctly according to your current step 4, you're going to use one special metric 'Average call Abundonment rate', right? But in the project description you were asked to use 3 other metrics. So you should use them cuz the task is so. You can use 'Average call Abundonment rate' as an additional metric if you want. But before it you should use 3 mentioned in the task description metrics. You should aggregate the result of these 3 metrics somehow to identify ineffective operators. But also be careful one of these metrics is applicable not for all operators and you should consider this fact somehow in your aggregation.\n",
    "</div>"
   ]
  },
  {
   "cell_type": "markdown",
   "metadata": {},
   "source": [
    "<div class=\"alert alert-block alert-warning\">\n",
    "V2. Hello again:) Unfortunately, it's super hard to understand your plan. You chose not the best way to write a plan. I think I should to show you an example how it should look like. For intance, it can have a structre like that:\n",
    "</div>\n",
    "\n",
    "### Step 1: Data Preprocessing:\n",
    "\n",
    "- ...\n",
    "- ...\n",
    "- ...\n",
    "\n",
    "### Step 2: EDA:\n",
    "\n",
    "- ...\n",
    "- ...\n",
    "- ...\n",
    "\n",
    "...\n",
    "### Step N: Testing hypotheses:\n",
    "\n",
    "- ...\n",
    "- ...\n",
    "- ...\n",
    "\n",
    "...\n",
    "\n",
    "<div class=\"alert alert-block alert-warning\">\n",
    "Where instead of ... you should write what you're going to do. For instance:\n",
    "</div>\n",
    "\n",
    "### Step 1: Data Preprocessing:\n",
    "\n",
    "- correct data types if necessary\n",
    "- preprocess missing values if there are\n",
    "- ...\n",
    "\n",
    "<div class=\"alert alert-block alert-warning\">\n",
    "Also in your current plan I stil don't see how you're going to identify ineffective operators. You have 3 metrics here and so you need somehow to aggregate them to say the operator is ineffective or not.\n",
    "</div>\n",
    "<div class=\"alert alert-block alert-warning\">\n",
    "About hypotheses. I'm not sure that this is a good idea to compare mean values with industry standards cuz company Call Me Maybe may differ from usual companies and may have own standards. It's better to compare something between different groups cuz these groups come from the same dataset and thus it help to avoid described problem. It's just my opinion and not a mistake. So it's up to you to fix it or not.\n",
    "</div>"
   ]
  },
  {
   "cell_type": "code",
   "execution_count": null,
   "metadata": {},
   "outputs": [],
   "source": []
  },
  {
   "cell_type": "markdown",
   "metadata": {},
   "source": [
    "<div class=\"alert alert-block alert-warning\">\n",
    "V1. Hello! I think you misunderstood a task a bit. A plan should be a one good structured text block. The plan should be placed before your main work and should be always available to be looked. So, please fix it. In additional to that there are several more things need to be fixed:\n",
    "    \n",
    "    1. Before the plan it's better to write a short project description with the goals of your project. It's a good common practice for any plan.\n",
    "    2. I think you EDA part is a bit poor and you can analyse much more things in additional to that you mentioned. It's just an advice and not an error. But you forgot to mention number of outgoing calls in EDA step and this is an error and should be fixed.\n",
    "    3. The main goal of your project is to identify ineffective operators. But I see no one word about it in your plan. This should be fixed. This is the crucial part of the project. You can write about it in EDA part or you create a special step for it. It depends on the technique you're going to use to detect ineffective operators.\n",
    "    4. The last step of any plan should be a step about overall conclusion. So, please, add this step.\n",
    "    \n",
    "</div>"
   ]
  },
  {
   "cell_type": "markdown",
   "metadata": {},
   "source": [
    "# Project description\n",
    "\n",
    "    virtual telephony service CallMeMaybe is developing a new function that will give supervisors information on the \n",
    "    least effective operators. An operator is considered ineffective if they have a large number of missed incoming \n",
    "    calls (internal and external) and a long waiting time for incoming calls. Moreover, if an operator is supposed \n",
    "    to make outgoing calls, a small number of them is also a sign of ineffectiveness.\n",
    "    \n",
    "#  Step 1: Data Preprocessing:\n",
    "   \n",
    "- Load Data for processing\n",
    "- Study missing values and replace if necessary\n",
    "- Study duplicate values and remove if necessary\n",
    "- Convert datatypes if necessary\n",
    "- Check the correctness of column names and rename if need be  \n",
    "\n",
    "# Step 2: EDA:\n",
    "\n",
    "- Which client is receiving the most calls\n",
    "- Waiting time incoming calls(Average time in queue)\n",
    "- Number of incoming calls dropped\n",
    "- Low and Peak time for incoming calls\n",
    "- Percentage of callers who hangup before they reach an operator(Average call Abundonment rate)\n",
    "- How many incoming calls an operator answers per hour(Calls answered per hour)\n",
    "- How long it takes an operator to answer a waiting call (Average speed answer)\n",
    "- Percentage calls blocked\n",
    "- Customer Retention and churn Rate\n",
    "- Which agents receive the most calls\n",
    " \n",
    "# Step 4: Agent Ineffectiveness based on metrics\n",
    "- Ineffectiveness based on average waiting time for incoming calls(average time in a queue)\n",
    "- Ineffectiveness based on large number of missed/unanswered calls\n",
    "- Ineffectiveness based on small number of outgoing calls(doesn't apply to all operators)\n",
    "\n",
    "\n",
    "# Step 5: Testing hypotheses:\n",
    "- determine whether average time in call waiting of clients on a tariff plan is lower than the other:\n",
    "    - tariff plan A and B\n",
    "    - tariff plan A and C\n",
    "    - tariff plan B and C\n",
    " \n",
    "- determine whether call abundant rate of clients on a tariff plan is lower than the other:\n",
    "   - tariff plan A and B\n",
    "   - tariff plan A and C\n",
    "   - tariff plan B and C\n",
    "\n",
    "# 5) Overall Conclusion"
   ]
  },
  {
   "cell_type": "markdown",
   "metadata": {},
   "source": [
    "  "
   ]
  },
  {
   "cell_type": "code",
   "execution_count": null,
   "metadata": {},
   "outputs": [],
   "source": []
  },
  {
   "cell_type": "markdown",
   "metadata": {},
   "source": []
  },
  {
   "cell_type": "markdown",
   "metadata": {},
   "source": [
    " "
   ]
  },
  {
   "cell_type": "code",
   "execution_count": null,
   "metadata": {},
   "outputs": [],
   "source": []
  },
  {
   "cell_type": "markdown",
   "metadata": {},
   "source": []
  },
  {
   "cell_type": "code",
   "execution_count": null,
   "metadata": {},
   "outputs": [],
   "source": []
  },
  {
   "cell_type": "markdown",
   "metadata": {},
   "source": []
  },
  {
   "cell_type": "markdown",
   "metadata": {},
   "source": []
  },
  {
   "cell_type": "markdown",
   "metadata": {},
   "source": []
  },
  {
   "cell_type": "markdown",
   "metadata": {},
   "source": []
  },
  {
   "cell_type": "markdown",
   "metadata": {},
   "source": []
  },
  {
   "cell_type": "markdown",
   "metadata": {},
   "source": []
  },
  {
   "cell_type": "code",
   "execution_count": null,
   "metadata": {},
   "outputs": [],
   "source": []
  }
 ],
 "metadata": {
  "kernelspec": {
   "display_name": "Python 3",
   "language": "python",
   "name": "python3"
  },
  "language_info": {
   "codemirror_mode": {
    "name": "ipython",
    "version": 3
   },
   "file_extension": ".py",
   "mimetype": "text/x-python",
   "name": "python",
   "nbconvert_exporter": "python",
   "pygments_lexer": "ipython3",
   "version": "3.7.8"
  },
  "toc": {
   "base_numbering": 1,
   "nav_menu": {},
   "number_sections": true,
   "sideBar": true,
   "skip_h1_title": true,
   "title_cell": "Table of Contents",
   "title_sidebar": "Contents",
   "toc_cell": false,
   "toc_position": {},
   "toc_section_display": true,
   "toc_window_display": false
  }
 },
 "nbformat": 4,
 "nbformat_minor": 2
}
