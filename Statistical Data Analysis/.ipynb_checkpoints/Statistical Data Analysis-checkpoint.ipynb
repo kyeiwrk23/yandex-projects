{
 "cells": [
  {
   "cell_type": "markdown",
   "metadata": {},
   "source": [
    "## .  Open file and View general Information"
   ]
  },
  {
   "cell_type": "code",
   "execution_count": 6,
   "metadata": {},
   "outputs": [],
   "source": [
    "# We get a general overview of all datasets in question\n",
    "import pandas as pd\n",
    "import numpy as np\n",
    "import math\n",
    "import seaborn as sns\n",
    "from matplotlib import pyplot as plt\n",
    "from scipy import stats as st"
   ]
  },
  {
   "cell_type": "code",
   "execution_count": 7,
   "metadata": {},
   "outputs": [],
   "source": [
    "try:\n",
    "    calls = pd.read_csv('/datasets/megaline_calls.csv')\n",
    "    internet= pd.read_csv('/datasets/megaline_internet.csv')\n",
    "    messages = pd.read_csv('/datasets/megaline_messages.csv') # Upload dataset in various variables\n",
    "    plans = pd.read_csv('/datasets/megaline_plans.csv')\n",
    "    users = pd.read_csv('/datasets/megaline_users.csv')\n",
    "except :\n",
    "    calls = pd.read_csv('megaline_calls.csv')\n",
    "    internet= pd.read_csv('megaline_internet.csv')\n",
    "    messages = pd.read_csv('megaline_messages.csv') # Upload dataset in various variables\n",
    "    plans = pd.read_csv('megaline_plans.csv')\n",
    "    users = pd.read_csv('megaline_users.csv')"
   ]
  },
  {
   "cell_type": "code",
   "execution_count": 8,
   "metadata": {},
   "outputs": [
    {
     "data": {
      "text/html": [
       "<div>\n",
       "<style scoped>\n",
       "    .dataframe tbody tr th:only-of-type {\n",
       "        vertical-align: middle;\n",
       "    }\n",
       "\n",
       "    .dataframe tbody tr th {\n",
       "        vertical-align: top;\n",
       "    }\n",
       "\n",
       "    .dataframe thead th {\n",
       "        text-align: right;\n",
       "    }\n",
       "</style>\n",
       "<table border=\"1\" class=\"dataframe\">\n",
       "  <thead>\n",
       "    <tr style=\"text-align: right;\">\n",
       "      <th></th>\n",
       "      <th>id</th>\n",
       "      <th>user_id</th>\n",
       "      <th>call_date</th>\n",
       "      <th>duration</th>\n",
       "    </tr>\n",
       "  </thead>\n",
       "  <tbody>\n",
       "    <tr>\n",
       "      <th>0</th>\n",
       "      <td>1000_93</td>\n",
       "      <td>1000</td>\n",
       "      <td>2018-12-27</td>\n",
       "      <td>8.52</td>\n",
       "    </tr>\n",
       "    <tr>\n",
       "      <th>1</th>\n",
       "      <td>1000_145</td>\n",
       "      <td>1000</td>\n",
       "      <td>2018-12-27</td>\n",
       "      <td>13.66</td>\n",
       "    </tr>\n",
       "    <tr>\n",
       "      <th>2</th>\n",
       "      <td>1000_247</td>\n",
       "      <td>1000</td>\n",
       "      <td>2018-12-27</td>\n",
       "      <td>14.48</td>\n",
       "    </tr>\n",
       "    <tr>\n",
       "      <th>3</th>\n",
       "      <td>1000_309</td>\n",
       "      <td>1000</td>\n",
       "      <td>2018-12-28</td>\n",
       "      <td>5.76</td>\n",
       "    </tr>\n",
       "    <tr>\n",
       "      <th>4</th>\n",
       "      <td>1000_380</td>\n",
       "      <td>1000</td>\n",
       "      <td>2018-12-30</td>\n",
       "      <td>4.22</td>\n",
       "    </tr>\n",
       "  </tbody>\n",
       "</table>\n",
       "</div>"
      ],
      "text/plain": [
       "         id  user_id   call_date  duration\n",
       "0   1000_93     1000  2018-12-27      8.52\n",
       "1  1000_145     1000  2018-12-27     13.66\n",
       "2  1000_247     1000  2018-12-27     14.48\n",
       "3  1000_309     1000  2018-12-28      5.76\n",
       "4  1000_380     1000  2018-12-30      4.22"
      ]
     },
     "execution_count": 8,
     "metadata": {},
     "output_type": "execute_result"
    }
   ],
   "source": [
    "calls.head() # View the first 5 fields of mega_line calls "
   ]
  },
  {
   "cell_type": "code",
   "execution_count": 9,
   "metadata": {},
   "outputs": [
    {
     "name": "stdout",
     "output_type": "stream",
     "text": [
      "<class 'pandas.core.frame.DataFrame'>\n",
      "RangeIndex: 137735 entries, 0 to 137734\n",
      "Data columns (total 4 columns):\n",
      " #   Column     Non-Null Count   Dtype  \n",
      "---  ------     --------------   -----  \n",
      " 0   id         137735 non-null  object \n",
      " 1   user_id    137735 non-null  int64  \n",
      " 2   call_date  137735 non-null  object \n",
      " 3   duration   137735 non-null  float64\n",
      "dtypes: float64(1), int64(1), object(2)\n",
      "memory usage: 4.2+ MB\n"
     ]
    }
   ],
   "source": [
    "calls.info()  # View detailed information of mega_line dataset"
   ]
  },
  {
   "cell_type": "code",
   "execution_count": null,
   "metadata": {},
   "outputs": [],
   "source": []
  },
  {
   "cell_type": "code",
   "execution_count": 10,
   "metadata": {},
   "outputs": [
    {
     "data": {
      "text/html": [
       "<div>\n",
       "<style scoped>\n",
       "    .dataframe tbody tr th:only-of-type {\n",
       "        vertical-align: middle;\n",
       "    }\n",
       "\n",
       "    .dataframe tbody tr th {\n",
       "        vertical-align: top;\n",
       "    }\n",
       "\n",
       "    .dataframe thead th {\n",
       "        text-align: right;\n",
       "    }\n",
       "</style>\n",
       "<table border=\"1\" class=\"dataframe\">\n",
       "  <thead>\n",
       "    <tr style=\"text-align: right;\">\n",
       "      <th></th>\n",
       "      <th>id</th>\n",
       "      <th>user_id</th>\n",
       "      <th>session_date</th>\n",
       "      <th>mb_used</th>\n",
       "    </tr>\n",
       "  </thead>\n",
       "  <tbody>\n",
       "    <tr>\n",
       "      <th>0</th>\n",
       "      <td>1000_13</td>\n",
       "      <td>1000</td>\n",
       "      <td>2018-12-29</td>\n",
       "      <td>89.86</td>\n",
       "    </tr>\n",
       "    <tr>\n",
       "      <th>1</th>\n",
       "      <td>1000_204</td>\n",
       "      <td>1000</td>\n",
       "      <td>2018-12-31</td>\n",
       "      <td>0.00</td>\n",
       "    </tr>\n",
       "    <tr>\n",
       "      <th>2</th>\n",
       "      <td>1000_379</td>\n",
       "      <td>1000</td>\n",
       "      <td>2018-12-28</td>\n",
       "      <td>660.40</td>\n",
       "    </tr>\n",
       "    <tr>\n",
       "      <th>3</th>\n",
       "      <td>1000_413</td>\n",
       "      <td>1000</td>\n",
       "      <td>2018-12-26</td>\n",
       "      <td>270.99</td>\n",
       "    </tr>\n",
       "    <tr>\n",
       "      <th>4</th>\n",
       "      <td>1000_442</td>\n",
       "      <td>1000</td>\n",
       "      <td>2018-12-27</td>\n",
       "      <td>880.22</td>\n",
       "    </tr>\n",
       "  </tbody>\n",
       "</table>\n",
       "</div>"
      ],
      "text/plain": [
       "         id  user_id session_date  mb_used\n",
       "0   1000_13     1000   2018-12-29    89.86\n",
       "1  1000_204     1000   2018-12-31     0.00\n",
       "2  1000_379     1000   2018-12-28   660.40\n",
       "3  1000_413     1000   2018-12-26   270.99\n",
       "4  1000_442     1000   2018-12-27   880.22"
      ]
     },
     "execution_count": 10,
     "metadata": {},
     "output_type": "execute_result"
    }
   ],
   "source": [
    "internet.head() # view the first 5 fields of internet data of users "
   ]
  },
  {
   "cell_type": "code",
   "execution_count": 11,
   "metadata": {},
   "outputs": [
    {
     "name": "stdout",
     "output_type": "stream",
     "text": [
      "<class 'pandas.core.frame.DataFrame'>\n",
      "RangeIndex: 104825 entries, 0 to 104824\n",
      "Data columns (total 4 columns):\n",
      " #   Column        Non-Null Count   Dtype  \n",
      "---  ------        --------------   -----  \n",
      " 0   id            104825 non-null  object \n",
      " 1   user_id       104825 non-null  int64  \n",
      " 2   session_date  104825 non-null  object \n",
      " 3   mb_used       104825 non-null  float64\n",
      "dtypes: float64(1), int64(1), object(2)\n",
      "memory usage: 3.2+ MB\n"
     ]
    }
   ],
   "source": [
    "internet.info() # view detailed information of internet data of users "
   ]
  },
  {
   "cell_type": "code",
   "execution_count": 12,
   "metadata": {},
   "outputs": [
    {
     "data": {
      "text/html": [
       "<div>\n",
       "<style scoped>\n",
       "    .dataframe tbody tr th:only-of-type {\n",
       "        vertical-align: middle;\n",
       "    }\n",
       "\n",
       "    .dataframe tbody tr th {\n",
       "        vertical-align: top;\n",
       "    }\n",
       "\n",
       "    .dataframe thead th {\n",
       "        text-align: right;\n",
       "    }\n",
       "</style>\n",
       "<table border=\"1\" class=\"dataframe\">\n",
       "  <thead>\n",
       "    <tr style=\"text-align: right;\">\n",
       "      <th></th>\n",
       "      <th>id</th>\n",
       "      <th>user_id</th>\n",
       "      <th>message_date</th>\n",
       "    </tr>\n",
       "  </thead>\n",
       "  <tbody>\n",
       "    <tr>\n",
       "      <th>0</th>\n",
       "      <td>1000_125</td>\n",
       "      <td>1000</td>\n",
       "      <td>2018-12-27</td>\n",
       "    </tr>\n",
       "    <tr>\n",
       "      <th>1</th>\n",
       "      <td>1000_160</td>\n",
       "      <td>1000</td>\n",
       "      <td>2018-12-31</td>\n",
       "    </tr>\n",
       "    <tr>\n",
       "      <th>2</th>\n",
       "      <td>1000_223</td>\n",
       "      <td>1000</td>\n",
       "      <td>2018-12-31</td>\n",
       "    </tr>\n",
       "    <tr>\n",
       "      <th>3</th>\n",
       "      <td>1000_251</td>\n",
       "      <td>1000</td>\n",
       "      <td>2018-12-27</td>\n",
       "    </tr>\n",
       "    <tr>\n",
       "      <th>4</th>\n",
       "      <td>1000_255</td>\n",
       "      <td>1000</td>\n",
       "      <td>2018-12-26</td>\n",
       "    </tr>\n",
       "  </tbody>\n",
       "</table>\n",
       "</div>"
      ],
      "text/plain": [
       "         id  user_id message_date\n",
       "0  1000_125     1000   2018-12-27\n",
       "1  1000_160     1000   2018-12-31\n",
       "2  1000_223     1000   2018-12-31\n",
       "3  1000_251     1000   2018-12-27\n",
       "4  1000_255     1000   2018-12-26"
      ]
     },
     "execution_count": 12,
     "metadata": {},
     "output_type": "execute_result"
    }
   ],
   "source": [
    "messages.head()  # View first 5 fields of messages data on users"
   ]
  },
  {
   "cell_type": "code",
   "execution_count": 13,
   "metadata": {},
   "outputs": [
    {
     "name": "stdout",
     "output_type": "stream",
     "text": [
      "<class 'pandas.core.frame.DataFrame'>\n",
      "RangeIndex: 76051 entries, 0 to 76050\n",
      "Data columns (total 3 columns):\n",
      " #   Column        Non-Null Count  Dtype \n",
      "---  ------        --------------  ----- \n",
      " 0   id            76051 non-null  object\n",
      " 1   user_id       76051 non-null  int64 \n",
      " 2   message_date  76051 non-null  object\n",
      "dtypes: int64(1), object(2)\n",
      "memory usage: 1.7+ MB\n"
     ]
    }
   ],
   "source": [
    "messages.info() # view detailed information of messages data of users"
   ]
  },
  {
   "cell_type": "code",
   "execution_count": 14,
   "metadata": {},
   "outputs": [
    {
     "data": {
      "text/html": [
       "<div>\n",
       "<style scoped>\n",
       "    .dataframe tbody tr th:only-of-type {\n",
       "        vertical-align: middle;\n",
       "    }\n",
       "\n",
       "    .dataframe tbody tr th {\n",
       "        vertical-align: top;\n",
       "    }\n",
       "\n",
       "    .dataframe thead th {\n",
       "        text-align: right;\n",
       "    }\n",
       "</style>\n",
       "<table border=\"1\" class=\"dataframe\">\n",
       "  <thead>\n",
       "    <tr style=\"text-align: right;\">\n",
       "      <th></th>\n",
       "      <th>messages_included</th>\n",
       "      <th>mb_per_month_included</th>\n",
       "      <th>minutes_included</th>\n",
       "      <th>usd_monthly_pay</th>\n",
       "      <th>usd_per_gb</th>\n",
       "      <th>usd_per_message</th>\n",
       "      <th>usd_per_minute</th>\n",
       "      <th>plan_name</th>\n",
       "    </tr>\n",
       "  </thead>\n",
       "  <tbody>\n",
       "    <tr>\n",
       "      <th>0</th>\n",
       "      <td>50</td>\n",
       "      <td>15360</td>\n",
       "      <td>500</td>\n",
       "      <td>20</td>\n",
       "      <td>10</td>\n",
       "      <td>0.03</td>\n",
       "      <td>0.03</td>\n",
       "      <td>surf</td>\n",
       "    </tr>\n",
       "    <tr>\n",
       "      <th>1</th>\n",
       "      <td>1000</td>\n",
       "      <td>30720</td>\n",
       "      <td>3000</td>\n",
       "      <td>70</td>\n",
       "      <td>7</td>\n",
       "      <td>0.01</td>\n",
       "      <td>0.01</td>\n",
       "      <td>ultimate</td>\n",
       "    </tr>\n",
       "  </tbody>\n",
       "</table>\n",
       "</div>"
      ],
      "text/plain": [
       "   messages_included  mb_per_month_included  minutes_included  \\\n",
       "0                 50                  15360               500   \n",
       "1               1000                  30720              3000   \n",
       "\n",
       "   usd_monthly_pay  usd_per_gb  usd_per_message  usd_per_minute plan_name  \n",
       "0               20          10             0.03            0.03      surf  \n",
       "1               70           7             0.01            0.01  ultimate  "
      ]
     },
     "execution_count": 14,
     "metadata": {},
     "output_type": "execute_result"
    }
   ],
   "source": [
    "plans.head() #  view first 5 fields of user plans "
   ]
  },
  {
   "cell_type": "code",
   "execution_count": 15,
   "metadata": {},
   "outputs": [
    {
     "name": "stdout",
     "output_type": "stream",
     "text": [
      "<class 'pandas.core.frame.DataFrame'>\n",
      "RangeIndex: 2 entries, 0 to 1\n",
      "Data columns (total 8 columns):\n",
      " #   Column                 Non-Null Count  Dtype  \n",
      "---  ------                 --------------  -----  \n",
      " 0   messages_included      2 non-null      int64  \n",
      " 1   mb_per_month_included  2 non-null      int64  \n",
      " 2   minutes_included       2 non-null      int64  \n",
      " 3   usd_monthly_pay        2 non-null      int64  \n",
      " 4   usd_per_gb             2 non-null      int64  \n",
      " 5   usd_per_message        2 non-null      float64\n",
      " 6   usd_per_minute         2 non-null      float64\n",
      " 7   plan_name              2 non-null      object \n",
      "dtypes: float64(2), int64(5), object(1)\n",
      "memory usage: 256.0+ bytes\n"
     ]
    }
   ],
   "source": [
    "plans.info() # View detailed information of plans of all users"
   ]
  },
  {
   "cell_type": "code",
   "execution_count": 16,
   "metadata": {},
   "outputs": [
    {
     "data": {
      "text/html": [
       "<div>\n",
       "<style scoped>\n",
       "    .dataframe tbody tr th:only-of-type {\n",
       "        vertical-align: middle;\n",
       "    }\n",
       "\n",
       "    .dataframe tbody tr th {\n",
       "        vertical-align: top;\n",
       "    }\n",
       "\n",
       "    .dataframe thead th {\n",
       "        text-align: right;\n",
       "    }\n",
       "</style>\n",
       "<table border=\"1\" class=\"dataframe\">\n",
       "  <thead>\n",
       "    <tr style=\"text-align: right;\">\n",
       "      <th></th>\n",
       "      <th>user_id</th>\n",
       "      <th>first_name</th>\n",
       "      <th>last_name</th>\n",
       "      <th>age</th>\n",
       "      <th>city</th>\n",
       "      <th>reg_date</th>\n",
       "      <th>plan</th>\n",
       "      <th>churn_date</th>\n",
       "    </tr>\n",
       "  </thead>\n",
       "  <tbody>\n",
       "    <tr>\n",
       "      <th>0</th>\n",
       "      <td>1000</td>\n",
       "      <td>Anamaria</td>\n",
       "      <td>Bauer</td>\n",
       "      <td>45</td>\n",
       "      <td>Atlanta-Sandy Springs-Roswell, GA MSA</td>\n",
       "      <td>2018-12-24</td>\n",
       "      <td>ultimate</td>\n",
       "      <td>NaN</td>\n",
       "    </tr>\n",
       "    <tr>\n",
       "      <th>1</th>\n",
       "      <td>1001</td>\n",
       "      <td>Mickey</td>\n",
       "      <td>Wilkerson</td>\n",
       "      <td>28</td>\n",
       "      <td>Seattle-Tacoma-Bellevue, WA MSA</td>\n",
       "      <td>2018-08-13</td>\n",
       "      <td>surf</td>\n",
       "      <td>NaN</td>\n",
       "    </tr>\n",
       "    <tr>\n",
       "      <th>2</th>\n",
       "      <td>1002</td>\n",
       "      <td>Carlee</td>\n",
       "      <td>Hoffman</td>\n",
       "      <td>36</td>\n",
       "      <td>Las Vegas-Henderson-Paradise, NV MSA</td>\n",
       "      <td>2018-10-21</td>\n",
       "      <td>surf</td>\n",
       "      <td>NaN</td>\n",
       "    </tr>\n",
       "    <tr>\n",
       "      <th>3</th>\n",
       "      <td>1003</td>\n",
       "      <td>Reynaldo</td>\n",
       "      <td>Jenkins</td>\n",
       "      <td>52</td>\n",
       "      <td>Tulsa, OK MSA</td>\n",
       "      <td>2018-01-28</td>\n",
       "      <td>surf</td>\n",
       "      <td>NaN</td>\n",
       "    </tr>\n",
       "    <tr>\n",
       "      <th>4</th>\n",
       "      <td>1004</td>\n",
       "      <td>Leonila</td>\n",
       "      <td>Thompson</td>\n",
       "      <td>40</td>\n",
       "      <td>Seattle-Tacoma-Bellevue, WA MSA</td>\n",
       "      <td>2018-05-23</td>\n",
       "      <td>surf</td>\n",
       "      <td>NaN</td>\n",
       "    </tr>\n",
       "  </tbody>\n",
       "</table>\n",
       "</div>"
      ],
      "text/plain": [
       "   user_id first_name  last_name  age                                   city  \\\n",
       "0     1000   Anamaria      Bauer   45  Atlanta-Sandy Springs-Roswell, GA MSA   \n",
       "1     1001     Mickey  Wilkerson   28        Seattle-Tacoma-Bellevue, WA MSA   \n",
       "2     1002     Carlee    Hoffman   36   Las Vegas-Henderson-Paradise, NV MSA   \n",
       "3     1003   Reynaldo    Jenkins   52                          Tulsa, OK MSA   \n",
       "4     1004    Leonila   Thompson   40        Seattle-Tacoma-Bellevue, WA MSA   \n",
       "\n",
       "     reg_date      plan churn_date  \n",
       "0  2018-12-24  ultimate        NaN  \n",
       "1  2018-08-13      surf        NaN  \n",
       "2  2018-10-21      surf        NaN  \n",
       "3  2018-01-28      surf        NaN  \n",
       "4  2018-05-23      surf        NaN  "
      ]
     },
     "execution_count": 16,
     "metadata": {},
     "output_type": "execute_result"
    }
   ],
   "source": [
    "users.head() # View user first 5 user fields of mega_line"
   ]
  },
  {
   "cell_type": "code",
   "execution_count": 17,
   "metadata": {},
   "outputs": [
    {
     "name": "stdout",
     "output_type": "stream",
     "text": [
      "<class 'pandas.core.frame.DataFrame'>\n",
      "RangeIndex: 500 entries, 0 to 499\n",
      "Data columns (total 8 columns):\n",
      " #   Column      Non-Null Count  Dtype \n",
      "---  ------      --------------  ----- \n",
      " 0   user_id     500 non-null    int64 \n",
      " 1   first_name  500 non-null    object\n",
      " 2   last_name   500 non-null    object\n",
      " 3   age         500 non-null    int64 \n",
      " 4   city        500 non-null    object\n",
      " 5   reg_date    500 non-null    object\n",
      " 6   plan        500 non-null    object\n",
      " 7   churn_date  34 non-null     object\n",
      "dtypes: int64(2), object(6)\n",
      "memory usage: 31.4+ KB\n"
     ]
    }
   ],
   "source": [
    "users.info() # view user details of mega_line "
   ]
  },
  {
   "cell_type": "markdown",
   "metadata": {},
   "source": [
    "<font size=\"+2\"><strong>Conclusion</strong></font>"
   ]
  },
  {
   "cell_type": "markdown",
   "metadata": {},
   "source": [
    "    We found of from that, the mageline_calls dataset comprises of 137735 entries and 5 features with no null \n",
    "    entry from any feature. There are duplicated entries of calls of all users. Also megaline_internet dataset is \n",
    "    made up of 104825 entries and 5  features withh no null entries of each available feature.\n",
    "    \n",
    "    In addition to this, megaline_messages comprises of 76051 entries of data and 4 features with no null entries \n",
    "    from each feature.\n",
    "    Furthermore, megaline_plans dataset also comprises of 2 entries with 8 features with no null entries.\n",
    "    Last but not least megaline_user dataset comprises of 500 entries and 8 features but churn_data which describes \n",
    "    the date the user stopped using the service have 466 missing values.These missing values from the the original \n",
    "    database were missing because the calling plan was in used when the dataset was retrieved.Also the datetime \n",
    "    datatype which was converted to object data type when the data was exported as CSV file hence the missing values \n",
    "    was stored as null(NaN).\n"
   ]
  },
  {
   "cell_type": "code",
   "execution_count": null,
   "metadata": {},
   "outputs": [],
   "source": []
  },
  {
   "cell_type": "code",
   "execution_count": null,
   "metadata": {},
   "outputs": [],
   "source": []
  },
  {
   "cell_type": "markdown",
   "metadata": {},
   "source": [
    "##   Prepare the Data"
   ]
  },
  {
   "cell_type": "markdown",
   "metadata": {},
   "source": [
    "####  Start preparing   calls dataset"
   ]
  },
  {
   "cell_type": "code",
   "execution_count": 18,
   "metadata": {},
   "outputs": [
    {
     "name": "stdout",
     "output_type": "stream",
     "text": [
      "Percentage of zero duration of calls is: 20%\n"
     ]
    }
   ],
   "source": [
    "# we check the percentage of the data set with 0.0 duration \n",
    "zero_duration = calls[calls['duration']==0.0]['duration'].count()\n",
    "\n",
    "print('Percentage of zero duration of calls is: {}%'.format(math.ceil((zero_duration / calls.shape[0]) * 100)))"
   ]
  },
  {
   "cell_type": "code",
   "execution_count": 19,
   "metadata": {},
   "outputs": [
    {
     "data": {
      "text/html": [
       "<div>\n",
       "<style scoped>\n",
       "    .dataframe tbody tr th:only-of-type {\n",
       "        vertical-align: middle;\n",
       "    }\n",
       "\n",
       "    .dataframe tbody tr th {\n",
       "        vertical-align: top;\n",
       "    }\n",
       "\n",
       "    .dataframe thead th {\n",
       "        text-align: right;\n",
       "    }\n",
       "</style>\n",
       "<table border=\"1\" class=\"dataframe\">\n",
       "  <thead>\n",
       "    <tr style=\"text-align: right;\">\n",
       "      <th></th>\n",
       "      <th>duration</th>\n",
       "    </tr>\n",
       "    <tr>\n",
       "      <th>user_id</th>\n",
       "      <th></th>\n",
       "    </tr>\n",
       "  </thead>\n",
       "  <tbody>\n",
       "    <tr>\n",
       "      <th>1000</th>\n",
       "      <td>16</td>\n",
       "    </tr>\n",
       "    <tr>\n",
       "      <th>1001</th>\n",
       "      <td>261</td>\n",
       "    </tr>\n",
       "    <tr>\n",
       "      <th>1002</th>\n",
       "      <td>113</td>\n",
       "    </tr>\n",
       "    <tr>\n",
       "      <th>1003</th>\n",
       "      <td>149</td>\n",
       "    </tr>\n",
       "    <tr>\n",
       "      <th>1004</th>\n",
       "      <td>370</td>\n",
       "    </tr>\n",
       "    <tr>\n",
       "      <th>...</th>\n",
       "      <td>...</td>\n",
       "    </tr>\n",
       "    <tr>\n",
       "      <th>1495</th>\n",
       "      <td>253</td>\n",
       "    </tr>\n",
       "    <tr>\n",
       "      <th>1496</th>\n",
       "      <td>195</td>\n",
       "    </tr>\n",
       "    <tr>\n",
       "      <th>1497</th>\n",
       "      <td>54</td>\n",
       "    </tr>\n",
       "    <tr>\n",
       "      <th>1498</th>\n",
       "      <td>451</td>\n",
       "    </tr>\n",
       "    <tr>\n",
       "      <th>1499</th>\n",
       "      <td>204</td>\n",
       "    </tr>\n",
       "  </tbody>\n",
       "</table>\n",
       "<p>481 rows × 1 columns</p>\n",
       "</div>"
      ],
      "text/plain": [
       "         duration\n",
       "user_id          \n",
       "1000           16\n",
       "1001          261\n",
       "1002          113\n",
       "1003          149\n",
       "1004          370\n",
       "...           ...\n",
       "1495          253\n",
       "1496          195\n",
       "1497           54\n",
       "1498          451\n",
       "1499          204\n",
       "\n",
       "[481 rows x 1 columns]"
      ]
     },
     "execution_count": 19,
     "metadata": {},
     "output_type": "execute_result"
    }
   ],
   "source": [
    "# Check the number of calls made\n",
    "calls.pivot_table(index='user_id', values='duration',aggfunc= 'count')"
   ]
  },
  {
   "cell_type": "code",
   "execution_count": 20,
   "metadata": {},
   "outputs": [
    {
     "data": {
      "text/html": [
       "<div>\n",
       "<style scoped>\n",
       "    .dataframe tbody tr th:only-of-type {\n",
       "        vertical-align: middle;\n",
       "    }\n",
       "\n",
       "    .dataframe tbody tr th {\n",
       "        vertical-align: top;\n",
       "    }\n",
       "\n",
       "    .dataframe thead th {\n",
       "        text-align: right;\n",
       "    }\n",
       "</style>\n",
       "<table border=\"1\" class=\"dataframe\">\n",
       "  <thead>\n",
       "    <tr style=\"text-align: right;\">\n",
       "      <th></th>\n",
       "      <th>id</th>\n",
       "      <th>user_id</th>\n",
       "      <th>call_date</th>\n",
       "      <th>duration</th>\n",
       "    </tr>\n",
       "  </thead>\n",
       "  <tbody>\n",
       "    <tr>\n",
       "      <th>0</th>\n",
       "      <td>1000_93</td>\n",
       "      <td>1000</td>\n",
       "      <td>2018-12-27</td>\n",
       "      <td>9.0</td>\n",
       "    </tr>\n",
       "    <tr>\n",
       "      <th>1</th>\n",
       "      <td>1000_145</td>\n",
       "      <td>1000</td>\n",
       "      <td>2018-12-27</td>\n",
       "      <td>14.0</td>\n",
       "    </tr>\n",
       "    <tr>\n",
       "      <th>2</th>\n",
       "      <td>1000_247</td>\n",
       "      <td>1000</td>\n",
       "      <td>2018-12-27</td>\n",
       "      <td>15.0</td>\n",
       "    </tr>\n",
       "    <tr>\n",
       "      <th>3</th>\n",
       "      <td>1000_309</td>\n",
       "      <td>1000</td>\n",
       "      <td>2018-12-28</td>\n",
       "      <td>6.0</td>\n",
       "    </tr>\n",
       "    <tr>\n",
       "      <th>4</th>\n",
       "      <td>1000_380</td>\n",
       "      <td>1000</td>\n",
       "      <td>2018-12-30</td>\n",
       "      <td>5.0</td>\n",
       "    </tr>\n",
       "  </tbody>\n",
       "</table>\n",
       "</div>"
      ],
      "text/plain": [
       "         id  user_id   call_date  duration\n",
       "0   1000_93     1000  2018-12-27       9.0\n",
       "1  1000_145     1000  2018-12-27      14.0\n",
       "2  1000_247     1000  2018-12-27      15.0\n",
       "3  1000_309     1000  2018-12-28       6.0\n",
       "4  1000_380     1000  2018-12-30       5.0"
      ]
     },
     "execution_count": 20,
     "metadata": {},
     "output_type": "execute_result"
    }
   ],
   "source": [
    "# We round the duration of calls to the nearest minute\n",
    "calls['duration'] = calls['duration'].apply(np.ceil)\n",
    "calls.head()"
   ]
  },
  {
   "cell_type": "code",
   "execution_count": 21,
   "metadata": {},
   "outputs": [],
   "source": [
    "# we convert the call_date viariable to datetime datatype \n",
    "calls['call_date'] = pd.to_datetime(calls['call_date'],format = '%Y-%m-%d')\n",
    "\n",
    "#We convert duration to integer datatype\n",
    "calls['duration'] = calls['duration'].astype('int16')\n",
    "\n",
    "#We create a feature which comprises all months\n",
    "calls['call_month'] = calls['call_date'].dt.month"
   ]
  },
  {
   "cell_type": "code",
   "execution_count": 22,
   "metadata": {},
   "outputs": [
    {
     "data": {
      "text/html": [
       "<div>\n",
       "<style scoped>\n",
       "    .dataframe tbody tr th:only-of-type {\n",
       "        vertical-align: middle;\n",
       "    }\n",
       "\n",
       "    .dataframe tbody tr th {\n",
       "        vertical-align: top;\n",
       "    }\n",
       "\n",
       "    .dataframe thead th {\n",
       "        text-align: right;\n",
       "    }\n",
       "</style>\n",
       "<table border=\"1\" class=\"dataframe\">\n",
       "  <thead>\n",
       "    <tr style=\"text-align: right;\">\n",
       "      <th></th>\n",
       "      <th>user_id</th>\n",
       "      <th>call_month</th>\n",
       "      <th>duration</th>\n",
       "    </tr>\n",
       "  </thead>\n",
       "  <tbody>\n",
       "    <tr>\n",
       "      <th>0</th>\n",
       "      <td>1000</td>\n",
       "      <td>12</td>\n",
       "      <td>124</td>\n",
       "    </tr>\n",
       "    <tr>\n",
       "      <th>1</th>\n",
       "      <td>1001</td>\n",
       "      <td>8</td>\n",
       "      <td>182</td>\n",
       "    </tr>\n",
       "    <tr>\n",
       "      <th>2</th>\n",
       "      <td>1001</td>\n",
       "      <td>9</td>\n",
       "      <td>315</td>\n",
       "    </tr>\n",
       "    <tr>\n",
       "      <th>3</th>\n",
       "      <td>1001</td>\n",
       "      <td>10</td>\n",
       "      <td>393</td>\n",
       "    </tr>\n",
       "    <tr>\n",
       "      <th>4</th>\n",
       "      <td>1001</td>\n",
       "      <td>11</td>\n",
       "      <td>426</td>\n",
       "    </tr>\n",
       "    <tr>\n",
       "      <th>...</th>\n",
       "      <td>...</td>\n",
       "      <td>...</td>\n",
       "      <td>...</td>\n",
       "    </tr>\n",
       "    <tr>\n",
       "      <th>2253</th>\n",
       "      <td>1498</td>\n",
       "      <td>12</td>\n",
       "      <td>339</td>\n",
       "    </tr>\n",
       "    <tr>\n",
       "      <th>2254</th>\n",
       "      <td>1499</td>\n",
       "      <td>9</td>\n",
       "      <td>346</td>\n",
       "    </tr>\n",
       "    <tr>\n",
       "      <th>2255</th>\n",
       "      <td>1499</td>\n",
       "      <td>10</td>\n",
       "      <td>385</td>\n",
       "    </tr>\n",
       "    <tr>\n",
       "      <th>2256</th>\n",
       "      <td>1499</td>\n",
       "      <td>11</td>\n",
       "      <td>308</td>\n",
       "    </tr>\n",
       "    <tr>\n",
       "      <th>2257</th>\n",
       "      <td>1499</td>\n",
       "      <td>12</td>\n",
       "      <td>496</td>\n",
       "    </tr>\n",
       "  </tbody>\n",
       "</table>\n",
       "<p>2258 rows × 3 columns</p>\n",
       "</div>"
      ],
      "text/plain": [
       "      user_id  call_month  duration\n",
       "0        1000          12       124\n",
       "1        1001           8       182\n",
       "2        1001           9       315\n",
       "3        1001          10       393\n",
       "4        1001          11       426\n",
       "...       ...         ...       ...\n",
       "2253     1498          12       339\n",
       "2254     1499           9       346\n",
       "2255     1499          10       385\n",
       "2256     1499          11       308\n",
       "2257     1499          12       496\n",
       "\n",
       "[2258 rows x 3 columns]"
      ]
     },
     "execution_count": 22,
     "metadata": {},
     "output_type": "execute_result"
    }
   ],
   "source": [
    "# group all calls made by user id and the month it was made as well as sum up all the duration of each\n",
    "    # call made on each day to get the duration of calls made in a month\n",
    "calls_id = calls.groupby(['user_id','call_month'], as_index=False).agg({'duration':'sum'})\n",
    "calls_id"
   ]
  },
  {
   "cell_type": "code",
   "execution_count": 23,
   "metadata": {},
   "outputs": [],
   "source": [
    "# Find the median duration of calls made or each user in available months\n",
    "calls_pivot = calls_id.pivot_table(index='user_id', values=['duration'], aggfunc='median')\n",
    "\n",
    "# rename the columns\n",
    "calls_pivot.columns= ['minutes_used_month']"
   ]
  },
  {
   "cell_type": "code",
   "execution_count": 24,
   "metadata": {},
   "outputs": [
    {
     "data": {
      "text/html": [
       "<div>\n",
       "<style scoped>\n",
       "    .dataframe tbody tr th:only-of-type {\n",
       "        vertical-align: middle;\n",
       "    }\n",
       "\n",
       "    .dataframe tbody tr th {\n",
       "        vertical-align: top;\n",
       "    }\n",
       "\n",
       "    .dataframe thead th {\n",
       "        text-align: right;\n",
       "    }\n",
       "</style>\n",
       "<table border=\"1\" class=\"dataframe\">\n",
       "  <thead>\n",
       "    <tr style=\"text-align: right;\">\n",
       "      <th></th>\n",
       "      <th>minutes_used_month</th>\n",
       "    </tr>\n",
       "    <tr>\n",
       "      <th>user_id</th>\n",
       "      <th></th>\n",
       "    </tr>\n",
       "  </thead>\n",
       "  <tbody>\n",
       "    <tr>\n",
       "      <th>1000</th>\n",
       "      <td>124</td>\n",
       "    </tr>\n",
       "    <tr>\n",
       "      <th>1001</th>\n",
       "      <td>393</td>\n",
       "    </tr>\n",
       "    <tr>\n",
       "      <th>1002</th>\n",
       "      <td>384</td>\n",
       "    </tr>\n",
       "    <tr>\n",
       "      <th>1003</th>\n",
       "      <td>1104</td>\n",
       "    </tr>\n",
       "    <tr>\n",
       "      <th>1004</th>\n",
       "      <td>360</td>\n",
       "    </tr>\n",
       "    <tr>\n",
       "      <th>...</th>\n",
       "      <td>...</td>\n",
       "    </tr>\n",
       "    <tr>\n",
       "      <th>1495</th>\n",
       "      <td>427</td>\n",
       "    </tr>\n",
       "    <tr>\n",
       "      <th>1496</th>\n",
       "      <td>308</td>\n",
       "    </tr>\n",
       "    <tr>\n",
       "      <th>1497</th>\n",
       "      <td>300</td>\n",
       "    </tr>\n",
       "    <tr>\n",
       "      <th>1498</th>\n",
       "      <td>288</td>\n",
       "    </tr>\n",
       "    <tr>\n",
       "      <th>1499</th>\n",
       "      <td>366</td>\n",
       "    </tr>\n",
       "  </tbody>\n",
       "</table>\n",
       "<p>481 rows × 1 columns</p>\n",
       "</div>"
      ],
      "text/plain": [
       "         minutes_used_month\n",
       "user_id                    \n",
       "1000                    124\n",
       "1001                    393\n",
       "1002                    384\n",
       "1003                   1104\n",
       "1004                    360\n",
       "...                     ...\n",
       "1495                    427\n",
       "1496                    308\n",
       "1497                    300\n",
       "1498                    288\n",
       "1499                    366\n",
       "\n",
       "[481 rows x 1 columns]"
      ]
     },
     "execution_count": 24,
     "metadata": {},
     "output_type": "execute_result"
    }
   ],
   "source": [
    "# round the calls to the nearest highest integer\n",
    "calls_pivot['minutes_used_month']= calls_pivot['minutes_used_month'].apply(np.ceil)\n",
    "\n",
    "# convert the data type from float to integer\n",
    "calls_pivot['minutes_used_month'] = calls_pivot['minutes_used_month'].astype('int64')\n",
    "calls_pivot"
   ]
  },
  {
   "cell_type": "code",
   "execution_count": null,
   "metadata": {},
   "outputs": [],
   "source": []
  },
  {
   "cell_type": "markdown",
   "metadata": {},
   "source": [
    "### Start preparing Messages dataset"
   ]
  },
  {
   "cell_type": "code",
   "execution_count": 25,
   "metadata": {},
   "outputs": [
    {
     "data": {
      "text/html": [
       "<div>\n",
       "<style scoped>\n",
       "    .dataframe tbody tr th:only-of-type {\n",
       "        vertical-align: middle;\n",
       "    }\n",
       "\n",
       "    .dataframe tbody tr th {\n",
       "        vertical-align: top;\n",
       "    }\n",
       "\n",
       "    .dataframe thead th {\n",
       "        text-align: right;\n",
       "    }\n",
       "</style>\n",
       "<table border=\"1\" class=\"dataframe\">\n",
       "  <thead>\n",
       "    <tr style=\"text-align: right;\">\n",
       "      <th></th>\n",
       "      <th>id</th>\n",
       "      <th>user_id</th>\n",
       "      <th>message_date</th>\n",
       "      <th>message_month</th>\n",
       "    </tr>\n",
       "  </thead>\n",
       "  <tbody>\n",
       "    <tr>\n",
       "      <th>0</th>\n",
       "      <td>1000_125</td>\n",
       "      <td>1000</td>\n",
       "      <td>2018-12-27</td>\n",
       "      <td>12</td>\n",
       "    </tr>\n",
       "    <tr>\n",
       "      <th>1</th>\n",
       "      <td>1000_160</td>\n",
       "      <td>1000</td>\n",
       "      <td>2018-12-31</td>\n",
       "      <td>12</td>\n",
       "    </tr>\n",
       "    <tr>\n",
       "      <th>2</th>\n",
       "      <td>1000_223</td>\n",
       "      <td>1000</td>\n",
       "      <td>2018-12-31</td>\n",
       "      <td>12</td>\n",
       "    </tr>\n",
       "    <tr>\n",
       "      <th>3</th>\n",
       "      <td>1000_251</td>\n",
       "      <td>1000</td>\n",
       "      <td>2018-12-27</td>\n",
       "      <td>12</td>\n",
       "    </tr>\n",
       "    <tr>\n",
       "      <th>4</th>\n",
       "      <td>1000_255</td>\n",
       "      <td>1000</td>\n",
       "      <td>2018-12-26</td>\n",
       "      <td>12</td>\n",
       "    </tr>\n",
       "    <tr>\n",
       "      <th>...</th>\n",
       "      <td>...</td>\n",
       "      <td>...</td>\n",
       "      <td>...</td>\n",
       "      <td>...</td>\n",
       "    </tr>\n",
       "    <tr>\n",
       "      <th>76046</th>\n",
       "      <td>1497_526</td>\n",
       "      <td>1497</td>\n",
       "      <td>2018-12-24</td>\n",
       "      <td>12</td>\n",
       "    </tr>\n",
       "    <tr>\n",
       "      <th>76047</th>\n",
       "      <td>1497_536</td>\n",
       "      <td>1497</td>\n",
       "      <td>2018-12-24</td>\n",
       "      <td>12</td>\n",
       "    </tr>\n",
       "    <tr>\n",
       "      <th>76048</th>\n",
       "      <td>1497_547</td>\n",
       "      <td>1497</td>\n",
       "      <td>2018-12-31</td>\n",
       "      <td>12</td>\n",
       "    </tr>\n",
       "    <tr>\n",
       "      <th>76049</th>\n",
       "      <td>1497_558</td>\n",
       "      <td>1497</td>\n",
       "      <td>2018-12-24</td>\n",
       "      <td>12</td>\n",
       "    </tr>\n",
       "    <tr>\n",
       "      <th>76050</th>\n",
       "      <td>1497_613</td>\n",
       "      <td>1497</td>\n",
       "      <td>2018-12-23</td>\n",
       "      <td>12</td>\n",
       "    </tr>\n",
       "  </tbody>\n",
       "</table>\n",
       "<p>76051 rows × 4 columns</p>\n",
       "</div>"
      ],
      "text/plain": [
       "             id  user_id message_date  message_month\n",
       "0      1000_125     1000   2018-12-27             12\n",
       "1      1000_160     1000   2018-12-31             12\n",
       "2      1000_223     1000   2018-12-31             12\n",
       "3      1000_251     1000   2018-12-27             12\n",
       "4      1000_255     1000   2018-12-26             12\n",
       "...         ...      ...          ...            ...\n",
       "76046  1497_526     1497   2018-12-24             12\n",
       "76047  1497_536     1497   2018-12-24             12\n",
       "76048  1497_547     1497   2018-12-31             12\n",
       "76049  1497_558     1497   2018-12-24             12\n",
       "76050  1497_613     1497   2018-12-23             12\n",
       "\n",
       "[76051 rows x 4 columns]"
      ]
     },
     "execution_count": 25,
     "metadata": {},
     "output_type": "execute_result"
    }
   ],
   "source": [
    "# we change message_date from object datatype to a datetime datatype\n",
    "messages['message_date'] = pd.to_datetime(messages['message_date'], format='%Y-%m-%d')\n",
    "\n",
    "#We create a feature which comprises all months in which message was sent\n",
    "messages['message_month'] = messages['message_date'].dt.month\n",
    "messages"
   ]
  },
  {
   "cell_type": "markdown",
   "metadata": {},
   "source": [
    "<div class=\"alert alert-success\" role=\"alert\">\n",
    "Reviewer's comment v. 2:\n",
    "    \n",
    "Well done that you change column type to the correct format.\n",
    "</div>"
   ]
  },
  {
   "cell_type": "code",
   "execution_count": 26,
   "metadata": {},
   "outputs": [],
   "source": [
    "# group all messages made by user id and the month it was made as well as count up all messages sent \n",
    "    #  on each day to get the total number of messages sent in a  month\n",
    "    \n",
    "messages_user_id = messages.groupby(['user_id','message_month'], as_index=False).agg({'message_date':'count'})"
   ]
  },
  {
   "cell_type": "code",
   "execution_count": 27,
   "metadata": {},
   "outputs": [],
   "source": [
    "# Find the median message sent by each user on any available month\n",
    "\n",
    "messages_pivot = messages_user_id.pivot_table(index='user_id',values='message_date',aggfunc='median')"
   ]
  },
  {
   "cell_type": "code",
   "execution_count": 28,
   "metadata": {},
   "outputs": [],
   "source": [
    "# rename column \n",
    "messages_pivot.columns=['message_month_used'] "
   ]
  },
  {
   "cell_type": "code",
   "execution_count": 29,
   "metadata": {},
   "outputs": [],
   "source": [
    "# round the messages sent  to the nearest highest integer\n",
    "messages_pivot['message_month_used']= messages_pivot['message_month_used'].apply(np.ceil)\n",
    "\n",
    "# change the data type of message per month feauture from float to integer\n",
    "messages_pivot['message_month_used']= messages_pivot['message_month_used'].astype('int64')"
   ]
  },
  {
   "cell_type": "code",
   "execution_count": 30,
   "metadata": {},
   "outputs": [
    {
     "data": {
      "text/html": [
       "<div>\n",
       "<style scoped>\n",
       "    .dataframe tbody tr th:only-of-type {\n",
       "        vertical-align: middle;\n",
       "    }\n",
       "\n",
       "    .dataframe tbody tr th {\n",
       "        vertical-align: top;\n",
       "    }\n",
       "\n",
       "    .dataframe thead th {\n",
       "        text-align: right;\n",
       "    }\n",
       "</style>\n",
       "<table border=\"1\" class=\"dataframe\">\n",
       "  <thead>\n",
       "    <tr style=\"text-align: right;\">\n",
       "      <th></th>\n",
       "      <th>message_month_used</th>\n",
       "    </tr>\n",
       "    <tr>\n",
       "      <th>user_id</th>\n",
       "      <th></th>\n",
       "    </tr>\n",
       "  </thead>\n",
       "  <tbody>\n",
       "    <tr>\n",
       "      <th>1000</th>\n",
       "      <td>11</td>\n",
       "    </tr>\n",
       "    <tr>\n",
       "      <th>1001</th>\n",
       "      <td>44</td>\n",
       "    </tr>\n",
       "    <tr>\n",
       "      <th>1002</th>\n",
       "      <td>32</td>\n",
       "    </tr>\n",
       "    <tr>\n",
       "      <th>1003</th>\n",
       "      <td>50</td>\n",
       "    </tr>\n",
       "    <tr>\n",
       "      <th>1004</th>\n",
       "      <td>25</td>\n",
       "    </tr>\n",
       "    <tr>\n",
       "      <th>...</th>\n",
       "      <td>...</td>\n",
       "    </tr>\n",
       "    <tr>\n",
       "      <th>1491</th>\n",
       "      <td>50</td>\n",
       "    </tr>\n",
       "    <tr>\n",
       "      <th>1492</th>\n",
       "      <td>30</td>\n",
       "    </tr>\n",
       "    <tr>\n",
       "      <th>1494</th>\n",
       "      <td>30</td>\n",
       "    </tr>\n",
       "    <tr>\n",
       "      <th>1496</th>\n",
       "      <td>13</td>\n",
       "    </tr>\n",
       "    <tr>\n",
       "      <th>1497</th>\n",
       "      <td>50</td>\n",
       "    </tr>\n",
       "  </tbody>\n",
       "</table>\n",
       "<p>402 rows × 1 columns</p>\n",
       "</div>"
      ],
      "text/plain": [
       "         message_month_used\n",
       "user_id                    \n",
       "1000                     11\n",
       "1001                     44\n",
       "1002                     32\n",
       "1003                     50\n",
       "1004                     25\n",
       "...                     ...\n",
       "1491                     50\n",
       "1492                     30\n",
       "1494                     30\n",
       "1496                     13\n",
       "1497                     50\n",
       "\n",
       "[402 rows x 1 columns]"
      ]
     },
     "execution_count": 30,
     "metadata": {},
     "output_type": "execute_result"
    }
   ],
   "source": [
    "messages_pivot"
   ]
  },
  {
   "cell_type": "code",
   "execution_count": null,
   "metadata": {},
   "outputs": [],
   "source": []
  },
  {
   "cell_type": "markdown",
   "metadata": {},
   "source": [
    "### Start preparing internet dataset"
   ]
  },
  {
   "cell_type": "code",
   "execution_count": 31,
   "metadata": {},
   "outputs": [],
   "source": [
    "# we convert the session date datatype from object  to datetime datatype \n",
    "internet['session_date'] = pd.to_datetime(internet['session_date'], format='%Y-%m-%d')"
   ]
  },
  {
   "cell_type": "code",
   "execution_count": 32,
   "metadata": {},
   "outputs": [],
   "source": [
    "#We create a feature which comprises all months in which internet data was used\n",
    "internet['session_month'] = internet['session_date'].dt.month\n",
    "\n",
    "# round the mb_used feature to the nearest highest integer\n",
    "internet['mb_used'] = internet['mb_used'].apply(np.ceil)"
   ]
  },
  {
   "cell_type": "code",
   "execution_count": 33,
   "metadata": {},
   "outputs": [],
   "source": [
    "# group all internet bundles used by  user id and the month it was used as well as sum up all the bundles used \n",
    "    #  on each day to get the total bundle data used in each month\n",
    "internet_id = internet.groupby(['user_id','session_month'],as_index=False).agg({'mb_used':'sum'})"
   ]
  },
  {
   "cell_type": "code",
   "execution_count": 34,
   "metadata": {},
   "outputs": [],
   "source": [
    "# Find the median duration of data used by each user in available months\n",
    "internet_pivot = internet_id.pivot_table(index='user_id',values='mb_used',aggfunc='median')"
   ]
  },
  {
   "cell_type": "code",
   "execution_count": 35,
   "metadata": {},
   "outputs": [],
   "source": [
    "# rename the column\n",
    "internet_pivot.columns = ['mb_used_month']"
   ]
  },
  {
   "cell_type": "code",
   "execution_count": 36,
   "metadata": {},
   "outputs": [],
   "source": [
    "# round up to the nearest highest integer of data used in a month\n",
    "internet_pivot['mb_used_month'] = internet_pivot['mb_used_month'].apply(np.ceil)"
   ]
  },
  {
   "cell_type": "code",
   "execution_count": 37,
   "metadata": {},
   "outputs": [],
   "source": [
    "# Convert the datatype from float to interger\n",
    "internet_pivot['mb_used_month'] = internet_pivot['mb_used_month'].astype('int64')"
   ]
  },
  {
   "cell_type": "code",
   "execution_count": 38,
   "metadata": {},
   "outputs": [
    {
     "data": {
      "text/html": [
       "<div>\n",
       "<style scoped>\n",
       "    .dataframe tbody tr th:only-of-type {\n",
       "        vertical-align: middle;\n",
       "    }\n",
       "\n",
       "    .dataframe tbody tr th {\n",
       "        vertical-align: top;\n",
       "    }\n",
       "\n",
       "    .dataframe thead th {\n",
       "        text-align: right;\n",
       "    }\n",
       "</style>\n",
       "<table border=\"1\" class=\"dataframe\">\n",
       "  <thead>\n",
       "    <tr style=\"text-align: right;\">\n",
       "      <th></th>\n",
       "      <th>mb_used_month</th>\n",
       "    </tr>\n",
       "    <tr>\n",
       "      <th>user_id</th>\n",
       "      <th></th>\n",
       "    </tr>\n",
       "  </thead>\n",
       "  <tbody>\n",
       "    <tr>\n",
       "      <th>1000</th>\n",
       "      <td>1903</td>\n",
       "    </tr>\n",
       "    <tr>\n",
       "      <th>1001</th>\n",
       "      <td>18524</td>\n",
       "    </tr>\n",
       "    <tr>\n",
       "      <th>1002</th>\n",
       "      <td>14416</td>\n",
       "    </tr>\n",
       "    <tr>\n",
       "      <th>1003</th>\n",
       "      <td>27069</td>\n",
       "    </tr>\n",
       "    <tr>\n",
       "      <th>1004</th>\n",
       "      <td>21056</td>\n",
       "    </tr>\n",
       "    <tr>\n",
       "      <th>...</th>\n",
       "      <td>...</td>\n",
       "    </tr>\n",
       "    <tr>\n",
       "      <th>1495</th>\n",
       "      <td>24533</td>\n",
       "    </tr>\n",
       "    <tr>\n",
       "      <th>1496</th>\n",
       "      <td>14308</td>\n",
       "    </tr>\n",
       "    <tr>\n",
       "      <th>1497</th>\n",
       "      <td>11120</td>\n",
       "    </tr>\n",
       "    <tr>\n",
       "      <th>1498</th>\n",
       "      <td>20290</td>\n",
       "    </tr>\n",
       "    <tr>\n",
       "      <th>1499</th>\n",
       "      <td>18175</td>\n",
       "    </tr>\n",
       "  </tbody>\n",
       "</table>\n",
       "<p>489 rows × 1 columns</p>\n",
       "</div>"
      ],
      "text/plain": [
       "         mb_used_month\n",
       "user_id               \n",
       "1000              1903\n",
       "1001             18524\n",
       "1002             14416\n",
       "1003             27069\n",
       "1004             21056\n",
       "...                ...\n",
       "1495             24533\n",
       "1496             14308\n",
       "1497             11120\n",
       "1498             20290\n",
       "1499             18175\n",
       "\n",
       "[489 rows x 1 columns]"
      ]
     },
     "execution_count": 38,
     "metadata": {},
     "output_type": "execute_result"
    }
   ],
   "source": [
    "internet_pivot"
   ]
  },
  {
   "cell_type": "code",
   "execution_count": null,
   "metadata": {},
   "outputs": [],
   "source": []
  },
  {
   "cell_type": "markdown",
   "metadata": {},
   "source": [
    "### start preparing users dataset"
   ]
  },
  {
   "cell_type": "code",
   "execution_count": 39,
   "metadata": {},
   "outputs": [],
   "source": [
    "# We change reg_date datatype to datetime datatype\n",
    "users['reg_date'] = pd.to_datetime(users['reg_date'], format='%Y-%m-%d')"
   ]
  },
  {
   "cell_type": "code",
   "execution_count": 40,
   "metadata": {},
   "outputs": [],
   "source": [
    "# we change churn_date datatype to datetime datatype\n",
    "users['churn_date'] = pd.to_datetime(users['churn_date'], format='%Y-%m-%d',errors='coerce')"
   ]
  },
  {
   "cell_type": "code",
   "execution_count": 41,
   "metadata": {},
   "outputs": [
    {
     "data": {
      "text/plain": [
       "0"
      ]
     },
     "execution_count": 41,
     "metadata": {},
     "output_type": "execute_result"
    }
   ],
   "source": [
    "users.duplicated().sum() # check fo duplicates"
   ]
  },
  {
   "cell_type": "code",
   "execution_count": 42,
   "metadata": {},
   "outputs": [],
   "source": [
    "# Use left merge to combine users and plans data set into a single dataset\n",
    "user_plan=pd.merge(users,plans,left_on='plan',right_on='plan_name',suffixes=(False,False),how= 'left')"
   ]
  },
  {
   "cell_type": "code",
   "execution_count": 43,
   "metadata": {},
   "outputs": [
    {
     "name": "stdout",
     "output_type": "stream",
     "text": [
      "<class 'pandas.core.frame.DataFrame'>\n",
      "Int64Index: 500 entries, 0 to 499\n",
      "Data columns (total 16 columns):\n",
      " #   Column                 Non-Null Count  Dtype         \n",
      "---  ------                 --------------  -----         \n",
      " 0   user_id                500 non-null    int64         \n",
      " 1   first_name             500 non-null    object        \n",
      " 2   last_name              500 non-null    object        \n",
      " 3   age                    500 non-null    int64         \n",
      " 4   city                   500 non-null    object        \n",
      " 5   reg_date               500 non-null    datetime64[ns]\n",
      " 6   plan                   500 non-null    object        \n",
      " 7   churn_date             34 non-null     datetime64[ns]\n",
      " 8   messages_included      500 non-null    int64         \n",
      " 9   mb_per_month_included  500 non-null    int64         \n",
      " 10  minutes_included       500 non-null    int64         \n",
      " 11  usd_monthly_pay        500 non-null    int64         \n",
      " 12  usd_per_gb             500 non-null    int64         \n",
      " 13  usd_per_message        500 non-null    float64       \n",
      " 14  usd_per_minute         500 non-null    float64       \n",
      " 15  plan_name              500 non-null    object        \n",
      "dtypes: datetime64[ns](2), float64(2), int64(7), object(5)\n",
      "memory usage: 66.4+ KB\n"
     ]
    }
   ],
   "source": [
    "user_plan.info()"
   ]
  },
  {
   "cell_type": "code",
   "execution_count": null,
   "metadata": {},
   "outputs": [],
   "source": []
  },
  {
   "cell_type": "code",
   "execution_count": 44,
   "metadata": {},
   "outputs": [
    {
     "name": "stdout",
     "output_type": "stream",
     "text": [
      "<class 'pandas.core.frame.DataFrame'>\n",
      "Int64Index: 481 entries, 1000 to 1499\n",
      "Data columns (total 1 columns):\n",
      " #   Column              Non-Null Count  Dtype\n",
      "---  ------              --------------  -----\n",
      " 0   minutes_used_month  481 non-null    int64\n",
      "dtypes: int64(1)\n",
      "memory usage: 7.5 KB\n"
     ]
    }
   ],
   "source": [
    "calls_pivot.info()"
   ]
  },
  {
   "cell_type": "code",
   "execution_count": 45,
   "metadata": {},
   "outputs": [],
   "source": [
    "# Use nested merge to first merge calls_pivot,messages_pivot and then later merged them to internet_pivot dataset\n",
    "df_new = pd.merge(internet_pivot,pd.merge(calls_pivot,messages_pivot,right_index = True,left_index = True,suffixes=(False,False), how='outer'), right_index=True, left_index=True ,suffixes=(False,False),how='outer')"
   ]
  },
  {
   "cell_type": "code",
   "execution_count": 46,
   "metadata": {},
   "outputs": [
    {
     "name": "stdout",
     "output_type": "stream",
     "text": [
      "<class 'pandas.core.frame.DataFrame'>\n",
      "Int64Index: 490 entries, 1000 to 1499\n",
      "Data columns (total 3 columns):\n",
      " #   Column              Non-Null Count  Dtype  \n",
      "---  ------              --------------  -----  \n",
      " 0   mb_used_month       489 non-null    float64\n",
      " 1   minutes_used_month  481 non-null    float64\n",
      " 2   message_month_used  402 non-null    float64\n",
      "dtypes: float64(3)\n",
      "memory usage: 15.3 KB\n"
     ]
    }
   ],
   "source": [
    "df_new.info()"
   ]
  },
  {
   "cell_type": "code",
   "execution_count": 47,
   "metadata": {},
   "outputs": [
    {
     "data": {
      "text/html": [
       "<div>\n",
       "<style scoped>\n",
       "    .dataframe tbody tr th:only-of-type {\n",
       "        vertical-align: middle;\n",
       "    }\n",
       "\n",
       "    .dataframe tbody tr th {\n",
       "        vertical-align: top;\n",
       "    }\n",
       "\n",
       "    .dataframe thead th {\n",
       "        text-align: right;\n",
       "    }\n",
       "</style>\n",
       "<table border=\"1\" class=\"dataframe\">\n",
       "  <thead>\n",
       "    <tr style=\"text-align: right;\">\n",
       "      <th></th>\n",
       "      <th>mb_used_month</th>\n",
       "      <th>minutes_used_month</th>\n",
       "      <th>message_month_used</th>\n",
       "    </tr>\n",
       "    <tr>\n",
       "      <th>user_id</th>\n",
       "      <th></th>\n",
       "      <th></th>\n",
       "      <th></th>\n",
       "    </tr>\n",
       "  </thead>\n",
       "  <tbody>\n",
       "  </tbody>\n",
       "</table>\n",
       "</div>"
      ],
      "text/plain": [
       "Empty DataFrame\n",
       "Columns: [mb_used_month, minutes_used_month, message_month_used]\n",
       "Index: []"
      ]
     },
     "execution_count": 47,
     "metadata": {},
     "output_type": "execute_result"
    }
   ],
   "source": [
    "df_new[df_new['message_month_used']<0]"
   ]
  },
  {
   "cell_type": "code",
   "execution_count": 48,
   "metadata": {},
   "outputs": [],
   "source": [
    "# use outer merge to merge user_plan and df_new dataset together\n",
    "df = pd.merge(user_plan,df_new,left_on='user_id',right_index=True,suffixes=(False,False), how='outer')"
   ]
  },
  {
   "cell_type": "code",
   "execution_count": 49,
   "metadata": {},
   "outputs": [
    {
     "name": "stdout",
     "output_type": "stream",
     "text": [
      "<class 'pandas.core.frame.DataFrame'>\n",
      "Int64Index: 500 entries, 0 to 499\n",
      "Data columns (total 19 columns):\n",
      " #   Column                 Non-Null Count  Dtype         \n",
      "---  ------                 --------------  -----         \n",
      " 0   user_id                500 non-null    int64         \n",
      " 1   first_name             500 non-null    object        \n",
      " 2   last_name              500 non-null    object        \n",
      " 3   age                    500 non-null    int64         \n",
      " 4   city                   500 non-null    object        \n",
      " 5   reg_date               500 non-null    datetime64[ns]\n",
      " 6   plan                   500 non-null    object        \n",
      " 7   churn_date             34 non-null     datetime64[ns]\n",
      " 8   messages_included      500 non-null    int64         \n",
      " 9   mb_per_month_included  500 non-null    int64         \n",
      " 10  minutes_included       500 non-null    int64         \n",
      " 11  usd_monthly_pay        500 non-null    int64         \n",
      " 12  usd_per_gb             500 non-null    int64         \n",
      " 13  usd_per_message        500 non-null    float64       \n",
      " 14  usd_per_minute         500 non-null    float64       \n",
      " 15  plan_name              500 non-null    object        \n",
      " 16  mb_used_month          489 non-null    float64       \n",
      " 17  minutes_used_month     481 non-null    float64       \n",
      " 18  message_month_used     402 non-null    float64       \n",
      "dtypes: datetime64[ns](2), float64(5), int64(7), object(5)\n",
      "memory usage: 78.1+ KB\n"
     ]
    }
   ],
   "source": [
    "df.info()"
   ]
  },
  {
   "cell_type": "code",
   "execution_count": null,
   "metadata": {},
   "outputs": [],
   "source": []
  },
  {
   "cell_type": "code",
   "execution_count": 50,
   "metadata": {},
   "outputs": [],
   "source": [
    "#fill all missing values of mb_used_month,minutes_used_month and message_month_used\n",
    "fill_null = ['mb_used_month','minutes_used_month','message_month_used']\n",
    "\n",
    "for i in fill_null:\n",
    "    df[i] = df[i].fillna(0)"
   ]
  },
  {
   "cell_type": "code",
   "execution_count": null,
   "metadata": {},
   "outputs": [],
   "source": []
  },
  {
   "cell_type": "code",
   "execution_count": null,
   "metadata": {},
   "outputs": [],
   "source": []
  },
  {
   "cell_type": "code",
   "execution_count": 51,
   "metadata": {},
   "outputs": [],
   "source": [
    "# Calcultae the monthly revenue from users\n",
    "def monthly_revenue(row):\n",
    "    mb_used = row['mb_used_month']\n",
    "    mb_included = row['mb_per_month_included']\n",
    "    text_used = row['message_month_used']\n",
    "    text_included = row['messages_included']\n",
    "    minutes_used = row['minutes_used_month']\n",
    "    minutes_included = row['minutes_included']\n",
    "    revenue = row['usd_monthly_pay']\n",
    "    if mb_used > mb_included:\n",
    "        revenue = revenue + (((mb_used - mb_included)/1000) * row['usd_per_gb'])\n",
    "    if text_used > text_included:\n",
    "        revenue = revenue + ((text_used -  text_included) * row['usd_per_message'])\n",
    "    if minutes_used > minutes_included:\n",
    "        revenue = revenue + ((minutes_used - minutes_included) * row['usd_per_minute'])    \n",
    "    return revenue"
   ]
  },
  {
   "cell_type": "code",
   "execution_count": 52,
   "metadata": {},
   "outputs": [],
   "source": [
    "# Add monthly income feature to dataset\n",
    "df['monthly_revenue'] = df.apply(monthly_revenue, axis=1)"
   ]
  },
  {
   "cell_type": "code",
   "execution_count": null,
   "metadata": {},
   "outputs": [],
   "source": []
  },
  {
   "cell_type": "code",
   "execution_count": null,
   "metadata": {},
   "outputs": [],
   "source": []
  },
  {
   "cell_type": "code",
   "execution_count": 53,
   "metadata": {},
   "outputs": [],
   "source": [
    "df['mb_used_month'] = df['mb_used_month'].astype('int64')\n",
    "df['message_month_used'] = df['message_month_used'].astype('int16')\n",
    "df['minutes_used_month'] = df['minutes_used_month'].astype('int16')"
   ]
  },
  {
   "cell_type": "code",
   "execution_count": 54,
   "metadata": {},
   "outputs": [],
   "source": [
    "# duplicate some features in a new dataset\n",
    "data = df.filter(['user_id','age','plan','city',\n",
    "                  'mb_used_month','minutes_used_month','message_month_used','monthly_revenue'], axis=1)"
   ]
  },
  {
   "cell_type": "code",
   "execution_count": null,
   "metadata": {},
   "outputs": [],
   "source": []
  },
  {
   "cell_type": "code",
   "execution_count": null,
   "metadata": {},
   "outputs": [],
   "source": []
  },
  {
   "cell_type": "markdown",
   "metadata": {},
   "source": [
    "<font size=\"+2\"><strong>Conclusion</strong></font>"
   ]
  },
  {
   "cell_type": "markdown",
   "metadata": {},
   "source": [
    "    We established from megaline_call dataset that 0.0 calls which can be attributed to rejected calls or missed calls\n",
    "    comprises of 20% of the entire data of the megaline_call dataset, hence if deleted will go a long way to reduce \n",
    "    the number of calls made by each user. Also out of the missed calls the outfit that is megaline can use to verify \n",
    "    whether the majority of the missed calls were either human errors or technical fault which arose in a particular \n",
    "    package or calling plan which they can use to better their services.\n",
    "    \n",
    "    To begin with we first rounded the \"duration\" viariable of calls made by each user to the highest integer value.\n",
    "    We also changed the datatype of \"call_data\" feature from object type to datetime datatype.We then introduced a new \n",
    "    feature called \"call_month\" which stores all the months on which a call is made by a user.\n",
    "    \n",
    "    The dataset was then grouped by their \"user_id\" and \"call_month\" respectively whiles the respective durations of \n",
    "    each month summed up with respect to each user.\n",
    "\n",
    "    We further calculated the median calls made  in months and was stored in the \"minutes_used_month\" feature and its \n",
    "    datatype changed from floating point value to integer value. The median value was used because a month on which\n",
    "    more calls are made will change the average if mean value is used.\n",
    "\n",
    "    Also in megaline_messages dataset the datatype of \"message_month\" feature was changed from object type to datetime.\n",
    "    New feature wascreated to store the months on which messages were sent.The dataset was further grouped by the \"user_id\" \n",
    "    and \"message_month\" respectively and the total number of messages sent on a particular month calculated and stored in\n",
    "    a variable. The median message  sent on each monthper user was then calculated and stored.\n",
    "    \n",
    "    In addition to this,\"session_date\" of megaline_internet datasetwas converted from object type to datetime datatype and \n",
    "    a new feature name \"session month\" was derived from the \"session_date\" variable which stores the month on which data\n",
    "    was used.\n",
    "    The dataset was grouped by \"user_id\" and \"session_month\" whiles the sum of the data used quantified in megabytes.\n",
    "    The median data used on all the months of each user was populated and stored in a new variable \"mb_used_month\" \n",
    "    and its datatype changed from floating point value to integer value.\n",
    "\n",
    "    Moreover,\"reg_date\" of the megaline_users dataset was converted from object type to datetime type. Also, \"churn_date\" \n",
    "    was also converted from object type to datetime.\n",
    "    We then merged megaline_users and megaline_plans dataset and stored as \"user_plan\" variable.In addition to this, we \n",
    "    further performed a nested merge where \"calls_pivot\" and \"message_pivot\" dataset of the calls and text dataset were \n",
    "    the datasets used for the inner merge whiles \"internet_pivot\" of the data used dataset used as the dataset on the \n",
    "    outer merge and stored in \"df_new\" variable.\n",
    "    \n",
    "    Finally, the resultant dataset \"user_plan\" and \"df_new\" were merged to attain the overall dataset for our analysis.\n",
    "    The monthly revenue for each user was also calculated."
   ]
  },
  {
   "cell_type": "markdown",
   "metadata": {},
   "source": [
    "## Analyze the data"
   ]
  },
  {
   "cell_type": "code",
   "execution_count": 55,
   "metadata": {},
   "outputs": [
    {
     "data": {
      "text/plain": [
       "0"
      ]
     },
     "execution_count": 55,
     "metadata": {},
     "output_type": "execute_result"
    }
   ],
   "source": [
    "data.duplicated().sum()"
   ]
  },
  {
   "cell_type": "code",
   "execution_count": 56,
   "metadata": {},
   "outputs": [
    {
     "data": {
      "text/html": [
       "<div>\n",
       "<style scoped>\n",
       "    .dataframe tbody tr th:only-of-type {\n",
       "        vertical-align: middle;\n",
       "    }\n",
       "\n",
       "    .dataframe tbody tr th {\n",
       "        vertical-align: top;\n",
       "    }\n",
       "\n",
       "    .dataframe thead th {\n",
       "        text-align: right;\n",
       "    }\n",
       "</style>\n",
       "<table border=\"1\" class=\"dataframe\">\n",
       "  <thead>\n",
       "    <tr style=\"text-align: right;\">\n",
       "      <th></th>\n",
       "      <th>count</th>\n",
       "      <th>mean</th>\n",
       "      <th>std</th>\n",
       "      <th>min</th>\n",
       "      <th>25%</th>\n",
       "      <th>50%</th>\n",
       "      <th>75%</th>\n",
       "      <th>max</th>\n",
       "    </tr>\n",
       "    <tr>\n",
       "      <th>plan</th>\n",
       "      <th></th>\n",
       "      <th></th>\n",
       "      <th></th>\n",
       "      <th></th>\n",
       "      <th></th>\n",
       "      <th></th>\n",
       "      <th></th>\n",
       "      <th></th>\n",
       "    </tr>\n",
       "  </thead>\n",
       "  <tbody>\n",
       "    <tr>\n",
       "      <th>surf</th>\n",
       "      <td>339.0</td>\n",
       "      <td>421.831858</td>\n",
       "      <td>216.780869</td>\n",
       "      <td>0.0</td>\n",
       "      <td>291.0</td>\n",
       "      <td>417.0</td>\n",
       "      <td>566.0</td>\n",
       "      <td>1119.0</td>\n",
       "    </tr>\n",
       "    <tr>\n",
       "      <th>ultimate</th>\n",
       "      <td>161.0</td>\n",
       "      <td>414.844720</td>\n",
       "      <td>220.879508</td>\n",
       "      <td>0.0</td>\n",
       "      <td>263.0</td>\n",
       "      <td>422.0</td>\n",
       "      <td>527.0</td>\n",
       "      <td>1215.0</td>\n",
       "    </tr>\n",
       "  </tbody>\n",
       "</table>\n",
       "</div>"
      ],
      "text/plain": [
       "          count        mean         std  min    25%    50%    75%     max\n",
       "plan                                                                     \n",
       "surf      339.0  421.831858  216.780869  0.0  291.0  417.0  566.0  1119.0\n",
       "ultimate  161.0  414.844720  220.879508  0.0  263.0  422.0  527.0  1215.0"
      ]
     },
     "execution_count": 56,
     "metadata": {},
     "output_type": "execute_result"
    }
   ],
   "source": [
    "# view description of plan against minutes per month with outliers\n",
    "data.groupby('plan')['minutes_used_month'].describe()"
   ]
  },
  {
   "cell_type": "code",
   "execution_count": 57,
   "metadata": {},
   "outputs": [
    {
     "data": {
      "text/plain": [
       "plan\n",
       "surf        46993.945018\n",
       "ultimate    48787.756988\n",
       "Name: minutes_used_month, dtype: float64"
      ]
     },
     "execution_count": 57,
     "metadata": {},
     "output_type": "execute_result"
    }
   ],
   "source": [
    "# variance of both plans\n",
    "data.groupby('plan')['minutes_used_month'].var()"
   ]
  },
  {
   "cell_type": "code",
   "execution_count": 60,
   "metadata": {},
   "outputs": [
    {
     "data": {
      "image/png": "[encoded data removed]",
      "text/plain": [
       "<Figure size 432x288 with 1 Axes>"
      ]
     },
     "metadata": {
      "needs_background": "light"
     },
     "output_type": "display_data"
    }
   ],
   "source": [
    "# Draw histogram to show distribution\n",
    "data.hist('minutes_used_month', bins=100);\n"
   ]
  },
  {
   "cell_type": "markdown",
   "metadata": {},
   "source": [
    "# Conclusion\n",
    "\n",
    "    Considering the dataset with outliers the minutes used per month by users who purchase surf calling plan have the\n",
    "    mean of 421.8 and median of 417.0.This shows that the mean is greater than the median hence the distribution of\n",
    "    minutes used by users is positively skewed.This means that most people on surf plan exceeds their minutes of calling \n",
    "    allocated to them in a month.In addition to this most users fall in  \"421 $\\pm$ 645\" confidence interval.\n",
    "    \n",
    "    Also it can be inferred that 25% of users on surf plan averagely use 291 minutes per month whiles 75% use 566 minutes \n",
    "    per month which exceeds the allocated call threshold for that plan.\n",
    "    \n",
    "    Also the average distance of from the mean which is the standard deviation is 291.0 which shows a high rate of \n",
    "    dispersion of the dataset.\n",
    "    \n",
    "    But with regards to Ultimate plan it shows a mean of 414.8 and median of 422.0 which means that it is negatively \n",
    "    skewed.This indicates that no user is able to exceed the allocated calling plan.25% of the users on ultimate plan \n",
    "    consume averagely 263 minutes per month whiles 75% averagely consumes 527 which is less than their monthly threshold."
   ]
  },
  {
   "cell_type": "code",
   "execution_count": null,
   "metadata": {},
   "outputs": [],
   "source": [
    "# view description of plan against text per month with outliers\n",
    "data.groupby('plan')['message_month_used'].describe()"
   ]
  },
  {
   "cell_type": "code",
   "execution_count": null,
   "metadata": {},
   "outputs": [],
   "source": [
    "# variance of both plans\n",
    "data.groupby('plan')['message_month_used'].var()"
   ]
  },
  {
   "cell_type": "markdown",
   "metadata": {},
   "source": [
    "# Conclusion\n",
    "\n",
    "    We Considered the dataset with outliers for message used per month by users who purchase surf calling plan, they\n",
    "    have a mean of 33.5 and median of 28.0.This shows that the mean is greater than the median hence the distribution \n",
    "    of messages used by users is positively skewed.This means that most people on surf plan either exceeds or finish \n",
    "    their allocated text to them in a month.In addition to this most users fall in  \"33.5 $\\pm$ 84\" confidence interval.\n",
    "    \n",
    "    Also it can be inferred that 25% of users on surf plan averagely send 5 text averagely per month whiles 75% send  50 \n",
    "    text averagely  per month which falls within the allocated text threshold for that plan.\n",
    "    Also the average distance  from the mean which is the standard deviation is 32.0 which shows a low rate of dispersion \n",
    "    of the users who send messages per month.\n",
    "    \n",
    "    But with regards to Ultimate plan it shows a mean of 39.4 and median of 35.2 which means that it is positively skewed.\n",
    "    This indicates that no user is able to exceed the allocated text plan.25% of the users on ultimate plan send averagely\n",
    "    8.0 text per month whiles 75% averagely sends 63 text per month which is less than their monthly threshold."
   ]
  },
  {
   "cell_type": "code",
   "execution_count": null,
   "metadata": {},
   "outputs": [],
   "source": [
    "# view description of plan against data used per month with outliers\n",
    "data.groupby('plan')['mb_used_month'].describe()"
   ]
  },
  {
   "cell_type": "code",
   "execution_count": null,
   "metadata": {},
   "outputs": [],
   "source": [
    "# Calculate the variance of both plans\n",
    "data.groupby('plan')['mb_used_month'].var()"
   ]
  },
  {
   "cell_type": "markdown",
   "metadata": {},
   "source": [
    "# Conclusion\n",
    "\n",
    "    We Considered the dataset with outliers for data in mb used per month by users who purchase surf calling plan, \n",
    "    they have a mean of 16171 and median of 16315.This shows that the mean is less than the median hence the distribution\n",
    "    of data used by users is negatively skewed.This means that most people on surf plan either exceeds  their allocated \n",
    "    data in a month.In addition to this most users on surf plan use averagely monthly data fall in  \"16171 $\\pm$ 20415\" \n",
    "    confidence interval.\n",
    "    \n",
    "    Also it can be inferred that 25% of users on surf plan averagely use 13013 data  per month whiles 75% use 19561 data \n",
    "    averagely  per month which exceeds the allocated data threshold for surf  plan.\n",
    "    \n",
    "    Also the average distance  from the mean which is the standard deviation is 6805 which shows high rate of dispersion \n",
    "    of the users who use surf data plan per month.\n",
    "    \n",
    "    But with regards to Ultimate plan it shows a mean of 16310 and median of 16312 which means that it is positively skewed.\n",
    "    This indicates that no user is able to exceed the allocated data plan.25% of the users on ultimate plan use averagely \n",
    "    12669 data per month whiles 75% averagely use 19561 data averagely per month which is less than their monthly threshold."
   ]
  },
  {
   "cell_type": "code",
   "execution_count": 62,
   "metadata": {},
   "outputs": [
    {
     "data": {
      "image/png": "[encoded data removed]",
      "text/plain": [
       "<Figure size 1152x432 with 1 Axes>"
      ]
     },
     "metadata": {
      "needs_background": "light"
     },
     "output_type": "display_data"
    }
   ],
   "source": [
    "# plot a box plot of both plans on minutes per month to detect outliers \n",
    "plt.figure(figsize=(16,6))\n",
    "plt.ylim(0,1500)\n",
    "sns.boxplot(x = 'plan',y='minutes_used_month' , data = data);"
   ]
  },
  {
   "cell_type": "markdown",
   "metadata": {},
   "source": [
    "# Conclusion\n",
    "\n",
    "    We inferred from this boxplot that users on ultimate plan are negatively skewed with regards to the minutes used per\n",
    "    month.Also are more dispersed.They have their outlies between the 920 minutes of used minutes and 1220 minutes per\n",
    "    month.\n",
    "\n",
    "    With regards to users on surf plan it can be seen that they are positively skewed having outliers 1010 minutes per\n",
    "    month and 1100 minutes per month.Since they have overlapping median then it can be inferred that both plans have \n",
    "    similar median."
   ]
  },
  {
   "cell_type": "markdown",
   "metadata": {},
   "source": [
    "<div class=\"alert alert-success\" role=\"alert\">\n",
    "Reviewer's comment v. 1:\n",
    "    \n",
    "Please note that you can avoid \"<matplotlib.axes._subplots.AxesSubplot at 0x7fa451575790>\" by using \";\" after code lines with graph.\n",
    "</div>"
   ]
  },
  {
   "cell_type": "code",
   "execution_count": null,
   "metadata": {},
   "outputs": [],
   "source": [
    "# plot a box plot of both plans on text per month to detect outliers \n",
    "plt.figure(figsize=(16,6))\n",
    "plt.ylim(0,200)\n",
    "sns.boxplot(x = 'plan',y='message_month_used' , data = data)"
   ]
  },
  {
   "cell_type": "markdown",
   "metadata": {},
   "source": [
    "We inferred from this boxplot that users on ultimate plan are positively skewed with regards to the text sent per month.Also are more less dispersed.They have their outlies between the 126 text sent  and 152 text per month.\n",
    "With regards to users on surf plan it can be seen that they are positively skewed having outliers  between 125 text  per month and 175 text per month."
   ]
  },
  {
   "cell_type": "code",
   "execution_count": null,
   "metadata": {},
   "outputs": [],
   "source": [
    "# plot a box plot of both plans on data used per month to detect outliers \n",
    "plt.figure(figsize=(16,6))\n",
    "plt.ylim(0,70000)\n",
    "sns.boxplot(x = 'plan',y='mb_used_month' , data = data)"
   ]
  },
  {
   "cell_type": "markdown",
   "metadata": {},
   "source": [
    "# Conclusion\n",
    "\n",
    "    We inferred from this boxplot that users on ultimate plan are normaly distributed with regards to the data used  \n",
    "    per month.Also are more less dispersed.They have their outlies between the 30100 data used per month  and 40000 \n",
    "    data per month, as well as 0 data used and 2000 data used .\n",
    "    With regards to users on surf plan it can be seen that they are normaly distributed  having outliers  between 3000\n",
    "    data used  per month and 49000 data used per month as well 0 data used and 4000 data used per month."
   ]
  },
  {
   "cell_type": "markdown",
   "metadata": {},
   "source": [
    "\n",
    "    \n",
    "Additional study link: https://towardsdatascience.com/ways-to-detect-and-remove-the-outliers-404d16608dba \n"
   ]
  },
  {
   "cell_type": "code",
   "execution_count": null,
   "metadata": {},
   "outputs": [],
   "source": []
  },
  {
   "cell_type": "code",
   "execution_count": 65,
   "metadata": {},
   "outputs": [],
   "source": [
    "# copy to a new dataset\n",
    "dat = data.copy()\n",
    "\n",
    "# drop categorical variables\n",
    "dat.drop(['plan','city'], inplace=True, axis = 1)"
   ]
  },
  {
   "cell_type": "code",
   "execution_count": 66,
   "metadata": {},
   "outputs": [],
   "source": [
    "# Find first quartile\n",
    "Q1 = dat.quantile(0.25)"
   ]
  },
  {
   "cell_type": "code",
   "execution_count": 67,
   "metadata": {},
   "outputs": [],
   "source": [
    "# Find third quartile\n",
    "Q3 = dat.quantile(0.75)"
   ]
  },
  {
   "cell_type": "code",
   "execution_count": 68,
   "metadata": {},
   "outputs": [],
   "source": [
    "#Find interquartile range\n",
    "IQR = Q3 - Q1"
   ]
  },
  {
   "cell_type": "code",
   "execution_count": 69,
   "metadata": {},
   "outputs": [],
   "source": [
    "#remove outliers\n",
    "dat = dat[ (dat < (Q3 + 1.5 * IQR))]"
   ]
  },
  {
   "cell_type": "code",
   "execution_count": 70,
   "metadata": {},
   "outputs": [
    {
     "name": "stdout",
     "output_type": "stream",
     "text": [
      "<class 'pandas.core.frame.DataFrame'>\n",
      "Int64Index: 500 entries, 0 to 499\n",
      "Data columns (total 6 columns):\n",
      " #   Column              Non-Null Count  Dtype  \n",
      "---  ------              --------------  -----  \n",
      " 0   user_id             500 non-null    int64  \n",
      " 1   age                 500 non-null    int64  \n",
      " 2   mb_used_month       484 non-null    float64\n",
      " 3   minutes_used_month  491 non-null    float64\n",
      " 4   message_month_used  490 non-null    float64\n",
      " 5   monthly_revenue     484 non-null    float64\n",
      "dtypes: float64(4), int64(2)\n",
      "memory usage: 43.5 KB\n"
     ]
    }
   ],
   "source": [
    "dat.info()"
   ]
  },
  {
   "cell_type": "code",
   "execution_count": 71,
   "metadata": {},
   "outputs": [],
   "source": [
    "dat = dat.fillna(0)"
   ]
  },
  {
   "cell_type": "code",
   "execution_count": 72,
   "metadata": {},
   "outputs": [
    {
     "name": "stdout",
     "output_type": "stream",
     "text": [
      "<class 'pandas.core.frame.DataFrame'>\n",
      "Int64Index: 500 entries, 0 to 499\n",
      "Data columns (total 6 columns):\n",
      " #   Column              Non-Null Count  Dtype  \n",
      "---  ------              --------------  -----  \n",
      " 0   user_id             500 non-null    int64  \n",
      " 1   age                 500 non-null    int64  \n",
      " 2   mb_used_month       500 non-null    float64\n",
      " 3   minutes_used_month  500 non-null    float64\n",
      " 4   message_month_used  500 non-null    float64\n",
      " 5   monthly_revenue     500 non-null    float64\n",
      "dtypes: float64(4), int64(2)\n",
      "memory usage: 43.5 KB\n"
     ]
    }
   ],
   "source": [
    "dat.info()"
   ]
  },
  {
   "cell_type": "code",
   "execution_count": 73,
   "metadata": {},
   "outputs": [],
   "source": [
    "dat['plan'] = data['plan']"
   ]
  },
  {
   "cell_type": "code",
   "execution_count": null,
   "metadata": {},
   "outputs": [],
   "source": []
  },
  {
   "cell_type": "code",
   "execution_count": 74,
   "metadata": {},
   "outputs": [
    {
     "data": {
      "image/png": "[encoded data removed]",
      "text/plain": [
       "<Figure size 1152x432 with 2 Axes>"
      ]
     },
     "metadata": {
      "needs_background": "light"
     },
     "output_type": "display_data"
    }
   ],
   "source": [
    "surf_plan = dat.query('plan==\"surf\"')\n",
    "ultimate_plan = dat.query('plan==\"ultimate\"')\n",
    "\n",
    "fig, (ax1, ax2) = plt.subplots(1,2, figsize = (16,6))\n",
    "\n",
    "ax1.hist(surf_plan['message_month_used'], edgecolor = 'white', align= 'mid', bins=50)\n",
    "ax1.set_xlabel('message per month')\n",
    "ax1.set_ylabel('frequency')\n",
    "\n",
    "ax2.hist(ultimate_plan['message_month_used'], edgecolor = 'white', align= 'mid', bins=50)\n",
    "ax2.set_xlabel('message per month')\n",
    "\n",
    "plt.tight_layout()\n",
    "plt.show()  \n",
    "    "
   ]
  },
  {
   "cell_type": "markdown",
   "metadata": {},
   "source": [
    "# Conclusion\n",
    "\n",
    "    From the histogram it can be determined that the distribution is skewed to the right(positively skewed) which\n",
    "    means that higher frequency of message sent will influence the mean value.A standard deviation of 29 indicate \n",
    "    that mojority of messages sent are around the mean value which is 31.4 for surf plan users.\n",
    "    The minimum number of messages sent by a particular user belonging to surf plan is 0 and the maximum is 124.\n",
    "    About 25% of users in this plan sent averagely 4 text per month whiles 75% of users sent 49 text per month \n",
    "    averagely.In addition to this majority of users sent text in numbers between   \"31.5 $\\pm$ 84\" confidence interval.\n",
    "\n",
    "\n",
    "\n",
    "    Also from the histogram it can be infered that users on ultimate plan are distributed towards the \n",
    "    right(positively skewed) which means that higher frequency of text will influence the mean value which is 36.9 \n",
    "    which is greater than the median value of 33.0.A standard deviation of 31.9 which is closer to the mean hence \n",
    "    has a low dispersion.In addition to this 25% of users on this plan sent an average of 8 text per month whiles 75% \n",
    "    of users on this plan sent 59 text per month.The minimum text sent by users using ultimate plan is  0.0 text whiles \n",
    "    125 text were sent by users.In addition to this majority of users sent text in numbers between   \"36.9 $\\pm$ 93\" \n",
    "    confidence interval.\n"
   ]
  },
  {
   "cell_type": "code",
   "execution_count": null,
   "metadata": {},
   "outputs": [],
   "source": [
    "dat.groupby('plan')['message_month_used'].describe()\n"
   ]
  },
  {
   "cell_type": "code",
   "execution_count": null,
   "metadata": {},
   "outputs": [],
   "source": []
  },
  {
   "cell_type": "code",
   "execution_count": 75,
   "metadata": {},
   "outputs": [
    {
     "data": {
      "image/png": "[encoded data removed]",
      "text/plain": [
       "<Figure size 1152x432 with 2 Axes>"
      ]
     },
     "metadata": {
      "needs_background": "light"
     },
     "output_type": "display_data"
    }
   ],
   "source": [
    "fig, (ax1, ax2) = plt.subplots(1,2, figsize = (16,6))\n",
    "\n",
    "ax1.hist(surf_plan['minutes_used_month'], edgecolor = 'white', align= 'mid', bins=100)\n",
    "ax1.set_xlabel('minutes per month')\n",
    "ax1.set_ylabel('frequency')\n",
    "\n",
    "ax2.hist(ultimate_plan['minutes_used_month'], edgecolor = 'white', align= 'mid', bins=100)\n",
    "ax2.set_xlabel('minutes per month')\n",
    "\n",
    "plt.tight_layout()\n",
    "plt.show()  "
   ]
  },
  {
   "cell_type": "markdown",
   "metadata": {},
   "source": [
    "# Conclusion\n",
    "\n",
    "    From the histogram we can deduce that users on surf plan has 0.0 as the minimum minutes of call made by a user \n",
    "    whiles 909 maximum minutes of duration a call lasted which exceeds the threshold for users on this plan.\n",
    "    Also it can be inferred that averagely users on surf plan lasted 412 minutes. The distribution of surf users is \n",
    "    negatively skewed hence having a median of 414 greater than the mean of 412.Also 25% of users on surf plan lasted \n",
    "    for 291 minutes on calls whiles 75% of user lasted 551 averagely on calls.Which also shows that 75% of users exceeded\n",
    "    the package call limit.\n",
    "\n",
    "    Furthermore, users on ultimate plan has 0.0 as the minimum duration lasted on a call whiles the maximum duration of \n",
    "    call made by some users on this plan is 905.The distribution of histogram of users on ultimate plan is also negatively\n",
    "    skewed.With a mean of 397.5 and median of 421 meaning users are not exceeding the threshold of allocated minutes under\n",
    "    the package.Also 25% of users lasted 263 minutes on calls whiles 75% of users lasted averagely 525 minutes on calls."
   ]
  },
  {
   "cell_type": "code",
   "execution_count": null,
   "metadata": {},
   "outputs": [],
   "source": [
    "dat.groupby('plan')['minutes_used_month'].describe()"
   ]
  },
  {
   "cell_type": "code",
   "execution_count": null,
   "metadata": {},
   "outputs": [],
   "source": []
  },
  {
   "cell_type": "code",
   "execution_count": 76,
   "metadata": {},
   "outputs": [
    {
     "data": {
      "image/png": "[encoded data removed]",
      "text/plain": [
       "<Figure size 1152x432 with 2 Axes>"
      ]
     },
     "metadata": {
      "needs_background": "light"
     },
     "output_type": "display_data"
    }
   ],
   "source": [
    "fig, (ax1, ax2) = plt.subplots(1,2, figsize = (16,6))\n",
    "\n",
    "ax1.hist(surf_plan['mb_used_month'], edgecolor = 'white', align= 'mid', bins=100)\n",
    "ax1.set_xlabel('data per month | surf')\n",
    "ax1.set_ylabel('frequency')\n",
    "\n",
    "ax2.hist(ultimate_plan['mb_used_month'], edgecolor = 'white', align= 'mid', bins=100)\n",
    "ax2.set_xlabel('data per month | ultimate')\n",
    "\n",
    "plt.tight_layout()\n",
    "plt.show()  "
   ]
  },
  {
   "cell_type": "markdown",
   "metadata": {},
   "source": [
    "# Conclusion\n",
    "\n",
    "    We can infer from the histogram that users under surf plan used a minimum of 2320mb(3gb) of data which translate\n",
    "    into 3gb of data whiles the maximum data used if 30147mb which also translate into 31gb and that exceeds the data\n",
    "    limit for the plan.Also the average data used by most users thats the mean is 16209mb(17gb) whiles the median usage\n",
    "    of data is 16392mb(17gb) which is very close to the mean value.25% of users on surf plan used 13529mb(14gb) of data \n",
    "    whiles 75% of users used 19106mb(20gb).The distribution is negatively skewed.Majority of users used data which is in\n",
    "    close proximity to the mean.\n",
    "\n",
    "    Also from user on ultimate plan they are slightly skewed to the left.The minimum data used by users in this plan is \n",
    "    5023mb(5gb) whiles the maximum is 29993mb(30gb). 25% of users  used 13255mb of data whiles 75% of users used 19686mb\n",
    "    of data.The mean 16408mb(17gb) data used is slightly lower than the median which is 16427mb(17gb).The distribution \n",
    "    of its histogram is slightly skewed to the left."
   ]
  },
  {
   "cell_type": "code",
   "execution_count": null,
   "metadata": {},
   "outputs": [],
   "source": [
    "dat.groupby('plan')['mb_used_month'].describe()"
   ]
  },
  {
   "cell_type": "code",
   "execution_count": null,
   "metadata": {},
   "outputs": [],
   "source": []
  },
  {
   "cell_type": "code",
   "execution_count": null,
   "metadata": {},
   "outputs": [],
   "source": [
    "for name, group_data in dat.groupby('plan'):\n",
    "    group_data.hist('monthly_revenue',density=True,facecolor='b', bins=100 )"
   ]
  },
  {
   "cell_type": "code",
   "execution_count": null,
   "metadata": {},
   "outputs": [],
   "source": [
    "dat.groupby('plan')['monthly_revenue'].describe()"
   ]
  },
  {
   "cell_type": "markdown",
   "metadata": {},
   "source": [
    "# Conclusion\n",
    "\n",
    "    From the histogram it can be deduced that users on surf plan generates an average income 43.27 representing the mean \n",
    "    value whiles 30.05 as the median income.The minimum income generated by users belonging to surf plan is 20.0 whiles\n",
    "    the maximum income is 140.2.Also 25% of surf users generate an income of 20 whiles 75% users generates 56.03 every \n",
    "    month.The distribution of users in this group are skewed to the right.std of 28.0 indicates that the monthly income \n",
    "    generated by surf users is highly dispersed.\n",
    "\n",
    "    Also concerning ultimate plan the minimum income generated per month is 70 whiles the muximum income is 120.8. 25% of \n",
    "    users belonging to the ultimate plan generates 70 and at the same time 75% of users also generate 70.This indicates \n",
    "    that ultimate plan users generate steady income which means they hardly exceed their package limits."
   ]
  },
  {
   "cell_type": "code",
   "execution_count": null,
   "metadata": {},
   "outputs": [],
   "source": []
  },
  {
   "cell_type": "code",
   "execution_count": null,
   "metadata": {},
   "outputs": [],
   "source": []
  },
  {
   "cell_type": "code",
   "execution_count": 78,
   "metadata": {},
   "outputs": [
    {
     "data": {
      "image/png": "[encoded data removed]",
      "text/plain": [
       "<Figure size 720x720 with 20 Axes>"
      ]
     },
     "metadata": {
      "needs_background": "light"
     },
     "output_type": "display_data"
    }
   ],
   "source": [
    " sns.pairplot(surf_plan[['monthly_revenue','message_month_used','minutes_used_month','mb_used_month']]);"
   ]
  },
  {
   "cell_type": "markdown",
   "metadata": {},
   "source": [
    "# Conclusion\n",
    "\n",
    "    From the scatter plot we can see that with surf users as their data usage increases  income generation also increases.\n",
    "    Also with text used per month majority of the plot is condensed at the lower bottom of the plot against monthly \n",
    "    generation with a few dispersed at the upper part of the graph.Also it can be seen that the duration of calls per \n",
    "    months have majority of the plot at the bottom half of the graph with a little increase in income as the limit of \n",
    "    a plan is exceeded."
   ]
  },
  {
   "cell_type": "code",
   "execution_count": null,
   "metadata": {},
   "outputs": [],
   "source": []
  },
  {
   "cell_type": "code",
   "execution_count": 79,
   "metadata": {},
   "outputs": [
    {
     "data": {
      "image/png": "[encoded data removed]",
      "text/plain": [
       "<Figure size 720x720 with 20 Axes>"
      ]
     },
     "metadata": {
      "needs_background": "light"
     },
     "output_type": "display_data"
    }
   ],
   "source": [
    " sns.pairplot(ultimate_plan[['monthly_revenue','message_month_used','minutes_used_month','mb_used_month']]);"
   ]
  },
  {
   "cell_type": "markdown",
   "metadata": {},
   "source": [
    "# Conclusion\n",
    "\n",
    "    From the scatter plot we can see that with ultimate users as their data usage is uniform without no increase in revenue.\n",
    "    This shows that users hardly exceed their data limit.Also with text used per month majority of the plot are found at the\n",
    "    lower bottom uniformly with a few scattered at the upper portion of the graph.duration of calls made, generated a \n",
    "    uniform income which were found at the bottom of the plot with few dispersed at the upper portion. "
   ]
  },
  {
   "cell_type": "code",
   "execution_count": null,
   "metadata": {},
   "outputs": [],
   "source": []
  },
  {
   "cell_type": "code",
   "execution_count": 82,
   "metadata": {},
   "outputs": [
    {
     "data": {
      "image/png": "[encoded data removed]",
      "text/plain": [
       "<Figure size 1152x432 with 2 Axes>"
      ]
     },
     "metadata": {
      "needs_background": "light"
     },
     "output_type": "display_data"
    }
   ],
   "source": [
    "plt.figure(figsize=(16,6))\n",
    "corrMatrix = dat[['monthly_revenue','message_month_used','minutes_used_month','mb_used_month']].corr()\n",
    "sns.heatmap(corrMatrix,annot=True, cmap='coolwarm');"
   ]
  },
  {
   "cell_type": "code",
   "execution_count": null,
   "metadata": {},
   "outputs": [],
   "source": []
  },
  {
   "cell_type": "markdown",
   "metadata": {},
   "source": [
    "# Conclusion\n",
    "\n",
    "    From this heatmap we can infer that mb_used_month which represent the data used per month,has a weak uphill(positive) \n",
    "    0.49 linear relationship with monthly revenue.This means that the more data a user use the more he pays or spend.\n",
    "    Both minutes_used_month that is the minutes a user spend making calls also have positive relationship but unfortunately\n",
    "    its close to zero. Also the relationship between text per month is very close to zero hence we can infer that there is \n",
    "    no linear relationship between revenue."
   ]
  },
  {
   "cell_type": "code",
   "execution_count": null,
   "metadata": {},
   "outputs": [],
   "source": []
  },
  {
   "cell_type": "markdown",
   "metadata": {},
   "source": [
    "## Test the analysis"
   ]
  },
  {
   "cell_type": "markdown",
   "metadata": {},
   "source": [
    "###  The average revenue from users of ultimate and surf calling plans differs\n",
    "\n",
    " #### Hypothesis\n",
    " null hypothesis\n",
    " $\\newline$\n",
    " $H_{0}$ :$\\mu$ = $\\mu_{0}$ (Average revenue is equal for both plans )\n",
    "  $\\newline$\n",
    "  Alternate hypothesis\n",
    "  $\\newline$\n",
    "  $H_{1}$ :$\\mu_{}$ $\\neq$ $\\mu_{0}$ (Average revenue is not equal for both plans )"
   ]
  },
  {
   "cell_type": "code",
   "execution_count": null,
   "metadata": {},
   "outputs": [],
   "source": [
    "sample_surf = dat.query('plan == \"surf\"')"
   ]
  },
  {
   "cell_type": "code",
   "execution_count": null,
   "metadata": {},
   "outputs": [],
   "source": [
    "sample_ultimate = dat.query('plan == \"ultimate\"')"
   ]
  },
  {
   "cell_type": "code",
   "execution_count": null,
   "metadata": {},
   "outputs": [],
   "source": []
  },
  {
   "cell_type": "code",
   "execution_count": null,
   "metadata": {},
   "outputs": [],
   "source": [
    "def hypothesis_test(sample1,sample2):\n",
    "    alpha = 0.05 # critical statistical significance level\n",
    "             # If the p-value is less than alpha, we reject the hypothesis\n",
    "    results = st.ttest_ind(sample1,sample2)\n",
    "    print('P-value: ', results.pvalue)\n",
    "    \n",
    "    if(results.pvalue < alpha):\n",
    "        print('we reject the null hypothesis')\n",
    "    else:\n",
    "        print('we fail to reject the null hypothesis')\n",
    "    "
   ]
  },
  {
   "cell_type": "code",
   "execution_count": null,
   "metadata": {},
   "outputs": [],
   "source": [
    "hypothesis_test(sample_surf['monthly_revenue'],sample_ultimate['monthly_revenue'])"
   ]
  },
  {
   "cell_type": "markdown",
   "metadata": {},
   "source": [
    "# Conclusion\n",
    "\n",
    "    From the solution it can be determined that a pvalue of 8.864020594647197e-32 was obtained which is way less than the\n",
    "    alpha value hence we can say we had a significant results.\n",
    "    Technically speaking, the p-value(as in p <.05 indicates the probability of getting our results).When we say \n",
    "    pvalue <0.05 were are declaring that the probability of getting the results we obtained is less than 0.05(5%).\n",
    "    If the null hypothesis is true  which makes our result significant as it occurs less than 5% of the time by chance \n",
    "    alone."
   ]
  },
  {
   "cell_type": "markdown",
   "metadata": {},
   "source": [
    "###  The average revenue users in NY-NJ area different from that users of the users from other regions\n",
    "\n",
    " #### Hypothesis\n",
    " null hypothesis\n",
    " $H_{0}$ :$\\mu_{}$ = $\\mu_{0}$ (Average revenue of users from NY-NJ area and other regions is equal )\n",
    "  $\\newline$\n",
    "  Alternate hypothesis\n",
    "  $H_{1}$ :$\\mu_{}$ $\\neq$ $\\mu_{0}$ (Average revenue of users in NY-NJ area and other regions is not equal )"
   ]
  },
  {
   "cell_type": "code",
   "execution_count": null,
   "metadata": {},
   "outputs": [],
   "source": [
    "dat['city'] = data['city']"
   ]
  },
  {
   "cell_type": "code",
   "execution_count": null,
   "metadata": {},
   "outputs": [],
   "source": [
    "sample_NY_NJ = dat.query('city.str.contains(\"NY-NJ\")')"
   ]
  },
  {
   "cell_type": "code",
   "execution_count": null,
   "metadata": {},
   "outputs": [],
   "source": [
    "sample_Other = dat.query('~city.str.contains(\"NY-NJ\")')"
   ]
  },
  {
   "cell_type": "code",
   "execution_count": null,
   "metadata": {},
   "outputs": [],
   "source": [
    "hypothesis_test(sample_NY_NJ['monthly_revenue'],sample_Other['monthly_revenue'])"
   ]
  },
  {
   "cell_type": "markdown",
   "metadata": {},
   "source": [
    "# Conclusion\n",
    "\n",
    "    From the the calculated pvalue of 0.4163959509611529 which is way greater than the alpha value we can say we \n",
    "    obtained a non - significant results.\n",
    "    \n",
    "    Getting a non-significant results indicate that the probability of getting the specific results we obtained is \n",
    "    greater than 0.05(5%).If the null hypothesis was true. This is why with a non- significant results we say\n",
    "    pvalue >0.05 because the chance of getting such results is greater than 5%"
   ]
  },
  {
   "cell_type": "code",
   "execution_count": null,
   "metadata": {},
   "outputs": [],
   "source": []
  },
  {
   "cell_type": "markdown",
   "metadata": {},
   "source": [
    "<font size=\"+2\"><strong> Overall Conclusion</strong></font>"
   ]
  },
  {
   "cell_type": "markdown",
   "metadata": {},
   "source": [
    "<font size=\"+2\"><strong>1. General Overview of dataset</strong></font>\n",
    "    \n",
    "    We found of from that, the mageline_calls dataset comprises of 137735 entries and 5 features with no null entry from any feature. There are duplicated entries of calls of all users. Also megaline_internet dataset is made up of 104825 entries and 5 features withh no null entries of each available feature. In addition to this, megaline_messages comprises of 76051 entries of data and 4 features with no null entries from each feature. \n",
    "    Furthermore, megaline_plans dataset also comprises of 2 entries with 8 features with no null entries. Last but not least megaline_user dataset comprises of 500 entries and 8 features but churn_data which describes the date the user stopped using the service have 466 missing values.These missing values from the the original database were missing because the calling plan was in used when the dataset was retrieved.Also the datetime datatype which was converted to object data type when the data was exported as CSV file hence the missing values was stored as null(NaN).\n",
    "    \n",
    "    \n",
    "<font size=\"+2\"><strong>2. Data Preprocessing</strong></font>\n",
    "\n",
    "   <font size=\"+1\"><strong>2.1 Process Megaline_calls dataset</strong></font>\n",
    "    \n",
    "    We established from megaline_call dataset that 0.0 calls which can be attributed to rejected calls or missed calls comprises of 20% of the entire data of the megaline_call dataset, hence if deleted will go a long way to reduce the number of calls made by each user. Also out of the missed calls the outfit that is megaline can use to verify whether the majority of the missed calls were either human errors or technical fault which arose in a particular package or calling plan which they can use to better their services.\n",
    "    To begin with we first rounded the \"duration\" viariable of calls made by each user to the highest integer value.We also changed the datatype of \"call_data\" feature from object type to datetime datatype.We then introduced a new feature called \"call_month\" which stores all the months on which a call is made by a user.The dataset was then grouped by their \"user_id\" and \"call_month\" respectively whiles the respective durations of ech month summed up with respect to each user.\n",
    "\n",
    "    We further calculated the median calls made  in months and was stored in the \"minutes_used_month\" feature and its datatype changed from floating point value to integer value. The median value was used because a month on which more calls are made will change the average if mean value is used.\n",
    "    \n",
    "   <font size=\"+1\"><strong>2.2 Process megaline_messages dataset</strong></font>\n",
    "    \n",
    "    Also in megaline_messages dataset the datatype of \"message_month\" feature was changed from object type to datetime.New feature wascreated to store the months on which messages were sent.The dataset was further grouped by the \"user_id\" and \"message_month\" respectively and the total number of messages sent on a particular month calculated and stored in a variable. The median message  sent on each month per user was then calculated and stored.\n",
    "    \n",
    "   <font size=\"+1\"><strong>2.3 Process megaline_internet dataset and megaline_users </strong></font>\n",
    "   \n",
    "    In addition to this,\"session_date\" of megaline_internet datasetwas converted from object type to datetime datatype and a new feature name \"session month\" was derived from the \"session_date\" variable which stores the month on which data was used.\n",
    "    The dataset was grouped by \"user_id\" and \"session_month\" whiles the sum of the data used quantified in megabytes. The median data used on all the months of each user was populated and stored in a new variable \"mb_used_month\" and its datatype changed from floating point value to integer value.\n",
    "    Moreover,\"reg_date\" of the megaline_users dataset was converted from object type to datetime type. Also, \"churn_date\" was also converted from object type to datetime.\n",
    "    \n",
    "   <font size=\"+1\"><strong>2.4 Merge processed datasets </strong></font>\n",
    "    \n",
    "    We then merged megaline_users and megaline_plans dataset and stored as \"user_plan\" variable.In addition to this, we further performed a nested merge where \"calls_pivot\" and \"message_pivot\" dataset of the calls and text dataset were the datasets used for the inner merge whiles \"internet_pivot\" of the data used dataset used as the dataset on the  outer merge and stored in \"df_new\" variable.\n",
    "    Finally, the resultant dataset \"user_plan\" and \"df_new\" were merged to attain the overall dataset for our analysis. The monthly revenue for each user was also calculated.\n",
    "    \n",
    "    \n",
    "<font size=\"+2\"><strong>3.0 Analyse Data</strong></font>\n",
    "\n",
    "   <font size=\"+1\"><strong>3.1 Describe dataset with outliers on minutes of calls per month feature </strong></font>\n",
    "   \n",
    "    Considering the dataset with outliers the minutes used per month by users who purchase surf calling plan have the mean of 421.8 and median of 417.0.This shows that the mean is greater than the median hence the distribution of minutes used by users is positively skewed.This means that most people on surf plan exceeds their minutes of calling allocated to them in a month.In addition to this most users fall in  \"421 $\\pm$ 645\" confidence interval.\n",
    "\n",
    "    Also it can be inferred that 25% of users on surf plan averagely use 291 minutes per month whiles 75% use 566 minutes per month which exceeds the allocated call threshold for that plan.\n",
    "    Also the average distance of from the mean which is the standard deviation is 291.0 which shows a high rate of dispersion of the dataset.But with regards to Ultimate plan it shows a mean of 414.8 and median of 422.0 which means that it is negatively skewed.This indicates that no user is able to exceed the allocated calling plan.25% of the users on ultimate plan consume averagely 263 minutes per month whiles 75% averagely consumes 527 which is less than their monthly threshold.\n",
    "\n",
    "   <font size=\"+1\"><strong>3.2 Describe dataset with outliers on text sent per month feature </strong></font>\n",
    "   \n",
    "    We Considered the dataset with outliers for message used per month by users who purchase surf calling plan, they have a mean of 33.5 and median of 28.0.This shows that the mean is greater than the median hence the distribution of messages used by users is positively skewed.This means that most people on surf plan either exceeds or finish their allocated text to them in a month.In addition to this most users fall in  \"33.5 $\\pm$ 84\" confidence interval.\n",
    "    Also it can be inferred that 25% of users on surf plan averagely send 5 text averagely per month whiles 75% send  50 text averagely  per month which falls within the allocated text threshold for that plan.\n",
    "    Also the average distance  from the mean which is the standard deviation is 32.0 which shows a low rate of dispersion of the users who send messages per month.\n",
    "    But with regards to Ultimate plan it shows a mean of 39.4 and median of 35.2 which means that it is positively skewed.This indicates that no user is able to exceed the allocated text plan.25% of the users on ultimate plan send averagely 8.0 text per month whiles 75% averagely sends 63 text per month which is less than their monthly threshold.\n",
    "\n",
    "   <font size=\"+1\"><strong>3.3 Describe dataset with outliers on data mb used per month feature </strong></font>\n",
    "   \n",
    "    We Considered the dataset with outliers for data in mb used per month by users who purchase surf calling plan, they have a mean of 16171 and median of 16315.This shows that the mean is less than the median hence the distribution of data used by users is negatively skewed.This means that most people on surf plan either exceeds  their allocated data in a month.In addition to this most users on surf plan use averagely monthly data fall in  \"16171 $\\pm$ 20415\" confidence interval.\n",
    "    Also it can be inferred that 25% of users on surf plan averagely use 13013 data  per month whiles 75% use 19561 data averagely  per month which exceeds the allocated data threshold for surf  plan.\n",
    "    Also the average distance  from the mean which is the standard deviation is 6805 which shows high rate of dispersion of the users who use surf data plan per month.\n",
    "    But with regards to Ultimate plan it shows a mean of 16310 and median of 16312 which means that it is positively skewed.This indicates that no user is able to exceed the allocated data plan.25% of the users on ultimate plan use averagely 12669 data per month whiles 75% averagely use 19561 data averagely per month which is less than their monthly threshold.\n",
    "\n",
    "   <font size=\"+1\"><strong>3.4 Boxplot check for outliers minutes per month feature </strong></font>\n",
    "   \n",
    "    We inferred from the boxplot that users on ultimate plan are negatively skewed with regards to the minutes used per month.Also are more dispersed.They have their outlies between the 920 minutes of used minutes and 1220 minutes per month. With regards to users on surf plan it can be seen that they are positively skewed having outliers 1010 minutes per month and 1100 minutes per month.Since they have overlapping median then it can be inferred that both plans have similar median\n",
    "\n",
    "   <font size=\"+1\"><strong>3.5 Boxplot check for outliers text per month feature </strong></font>\n",
    "    \n",
    "    We inferred from the boxplot that users on ultimate plan are positively skewed with regards to the text sent per month.Also are more less dispersed.They have their outlies between the 126 text sent and 152 text per month. With regards to users on surf plan it can be seen that they are positively skewed having outliers between 125 text per month and 175 text per month.\n",
    "\n",
    "   <font size=\"+1\"><strong>3.6 Boxplot check for outliers minutes per month feature </strong></font>\n",
    "   \n",
    "    We inferred from this boxplot that users on ultimate plan are normaly distributed with regards to the data used per month.Also are more less dispersed.They have their outlies between the 30100 data used per month and 40000 data per month, as well as 0 data used and 2000 data used . With regards to users on surf plan it can be seen that they are normaly distributed having outliers between 3000 data used per month and 49000 data used per month as well 0 data used and 4000 data used per month.\n",
    "\n",
    "\n",
    "   <font size=\"+1\"><strong>3.7 Histogram for text per month feature without outliers </strong></font>\n",
    "   \n",
    "    From the histogram it can be determined that the distribution is skewed to the right(positively skewed) which means that higher frequency of message sent will influence the mean value.A standard deviation of 29 indicate that mojority of messages sent are around the mean value which is 31.4 for surf plan users.The minimum number of messages sent by a particular user belonging to surf plan is 0 and the maximum is 124. About 25% of users in this plan sent averagely 4 text per month whiles 75% of users sent 49 text per month averagely.In addition to this majority of users sent text in numbers between   \"31.5 $\\pm$ 84\" confidence interval.\n",
    "\n",
    "    Also from the histogram it can be infered that users on ultimate plan are distributed towards the right(positively skewed) which means that higher frequency of text will influence the mean value which is 36.9 which is greater than the median value of 33.0.A standard deviation of 31.9 which is closer to the mean hence has a low dispersion.In addition to this 25% of users on this plan sent an average of 8 text per month whiles 75% of users on this plan sent 59 text per month.The minimum text sent by users using ultimate plan is  0.0 text whiles 125 text were sent by users.In addition to this majority of users sent text in numbers between   \"36.9 $\\pm$ 93\" confidence interval.\n",
    "\n",
    "\n",
    "   <font size=\"+1\"><strong>3.9 Histogram for minutes per month feature without outliers </strong></font>\n",
    "   \n",
    "    From the histogram we can deduce that users on surf plan has 0.0 as the minimum minutes of call made by a user whiles 909 maximum minutes of duration a call lasted which exceeds the threshold for users on this plan.Also it can be inferred that averagely users on surf plan lasted 412 minutes. The distribution of surf users is negatively skewed hence having a median of 414 greater than the mean of 412.Also 25% of users on surf plan lasted for 291 minutes on calls whiles 75% of user lasted 551 averagely on calls.Which also shows that 75% of users exceeded the package call limit.\n",
    "\n",
    "    Furthermore, users on ultimate plan has 0.0 as the minimum duration lasted on a call whiles the maximum duration of call made by some users on this plan is 905.The distribution of histogram of users on ultimate plan is also negatively skewed.With a mean of 397.5 and median of 421 meaning users are not exceeding the threshold of allocated minutes under the package.Also 25% of users lasted 263 minutes on calls whiles 75% of users lasted averagely 525 minutes on calls.\n",
    "\n",
    "\n",
    "   <font size=\"+1\"><strong>3.1.0 Histogram for data used per month feature without outliers </strong></font>\n",
    "   \n",
    "    We can infer from the histogram that users under surf plan used a minimum of 2320mb(3gb) of data which translate into 3gb of data whiles the maximum data used if 30147mb which also translate into 31gb and that exceeds the data limit for the plan.Also the average data used by most users thats the mean is 16209mb(17gb) whiles the median usage of data is 16392mb(17gb) which is very close to the mean value.25% of users on surf plan used 13529mb(14gb) of data whiles 75% of users used 19106mb(20gb).The distribution is negatively skewed.Majority of users used data which is in close proximity to the mean.\n",
    "\n",
    "    Also from user on ultimate plan they are slightly skewed to the left.The minimum data used by users in this plan is 5023mb(5gb) whiles the maximum is 29993mb(30gb). 25% of users  used 13255mb of data whiles 75% of users used 19686mb of data.The mean 16408mb(17gb) data used is slightly lower than the median which is 16427mb(17gb).The distribution of its histogram is slightly skewed to the left.\n",
    "\n",
    "   <font size=\"+1\"><strong>3.1.1 Histogram for monthly revenue feature without outliers </strong></font>\n",
    "    \n",
    "    From the histogram it can be deduced that users on surf plan generates an average income 43.27 representing the mean value whiles 30.05 as the median income.The minimum income generated by users belonging to surf plan is 20.0 whiles the maximum income is 140.2.Also 25% of surf users generate an income of 20 whiles 75% users generates 56.03 every month.The distribution of users in this group are skewed to the right.std of 28.0 indicates that the monthly income generated by surf users is highly dispersed.\n",
    "\n",
    "    Also concerning ultimate plan the minimum income generated per month is 70 whiles the muximum income is 120.8. 25% of users belonging to the ultimate plan generates 70 and at the same time 75% of users also generate 70.This indicates that ultimate plan users generate steady income which means they hardly exceed their package limits.\n",
    "\n",
    "\n",
    "\n",
    "   <font size=\"+1\"><strong>3.1.2 Scatter plot surf package users</strong></font>\n",
    "   \n",
    "    From the scatter plot we can see that with surf users as their data usage increases  income generation also increases.Also with text used per month majority of the plot is condensed at the lower bottom of the plot against monthly generation with a few dispersed at the upper part of the graph.Also it can be seen that the duration of calls per months have majority of the plot at the bottom half of the graph with a little increase in income as the limit of a plan is exceeded.\n",
    "\n",
    "\n",
    "    From the scatter plot we can see that with ultimate users as their data usage is uniform without no increase in revenue.This shows that users hardly exceed their data limit.Also with text used per month majority of the plot are found at the lower bottom uniformly with a few scattered at the upper portion of the graph.duration of calls made, generated a uniform income which were found at the bottom of the plot with few dispersed at the upper portion. \n",
    "\n",
    "\n",
    "    From this heatmap we can infer that mb_used_month which represent the data used per month,has a medium uphill(positive) 0.62 linear relationship with monthly revenue.This means that the more data a user use the more he pays or spend.Both minutes_used_month that is the minutes a user spend making calls also have positive relationship but unfortunately its close to zero. Also the relationship between text per month is very close to zero hence we can infer that there is no linear relationship between revenue.\n"
   ]
  },
  {
   "cell_type": "code",
   "execution_count": null,
   "metadata": {},
   "outputs": [],
   "source": []
  }
 ],
 "metadata": {
  "kernelspec": {
   "display_name": "Python 3",
   "language": "python",
   "name": "python3"
  },
  "language_info": {
   "codemirror_mode": {
    "name": "ipython",
    "version": 3
   },
   "file_extension": ".py",
   "mimetype": "text/x-python",
   "name": "python",
   "nbconvert_exporter": "python",
   "pygments_lexer": "ipython3",
   "version": "3.8.8"
  },
  "toc": {
   "base_numbering": 1,
   "nav_menu": {},
   "number_sections": true,
   "sideBar": true,
   "skip_h1_title": false,
   "title_cell": "Table of Contents",
   "title_sidebar": "Contents",
   "toc_cell": false,
   "toc_position": {},
   "toc_section_display": true,
   "toc_window_display": false
  }
 },
 "nbformat": 4,
 "nbformat_minor": 2
}
